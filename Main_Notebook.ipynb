{
 "cells": [
  {
   "cell_type": "code",
   "execution_count": 500,
   "metadata": {},
   "outputs": [],
   "source": [
    "import pandas as pd\n",
    "import numpy as np\n",
    "import matplotlib.pyplot as plt\n",
    "import seaborn as sns\n",
    "import functools\n",
    "import warnings\n",
    "warnings.filterwarnings('ignore')"
   ]
  },
  {
   "cell_type": "markdown",
   "metadata": {},
   "source": [
    "# Instructions\n",
    "1. We will be conducting the entire assignment through this notebook. You will be entering your code in the cells provided, and any explanation and details asked in markdown cells. \n",
    "2. You are free to add more code and markdown cells for describing your answer, but make sure they are below the question asked and not somewhere else. \n",
    "3. The notebook needs to be submitted on LMS. You can find the submission link [here](https://lms.iiitb.ac.in/moodle/mod/assign/view.php?id=13932). \n",
    "4. The deadline for submission is **5th October, 2020 11:59PM**."
   ]
  },
  {
   "cell_type": "markdown",
   "metadata": {},
   "source": [
    "# Data import\n",
    "The data required for this assignment can be downloaded from the following [link](https://www.kaggle.com/dataset/e7cff1a2c6e29e18684fe6b077d3e4c42f9a7ae6199e01463378c60fe4b4c0cc), it's hosted on kaggle. Do check directory paths on your local system.  "
   ]
  },
  {
   "cell_type": "code",
   "execution_count": 501,
   "metadata": {
    "collapsed": true
   },
   "outputs": [
    {
     "ename": "FileNotFoundError",
     "evalue": "[Errno 2] No such file or directory: '/alcoholism/student-mat.csv'",
     "output_type": "error",
     "traceback": [
      "\u001b[0;31m---------------------------------------------------------------------------\u001b[0m",
      "\u001b[0;31mFileNotFoundError\u001b[0m                         Traceback (most recent call last)",
      "\u001b[0;32m<ipython-input-501-63e2e736e0c8>\u001b[0m in \u001b[0;36m<module>\u001b[0;34m\u001b[0m\n\u001b[0;32m----> 1\u001b[0;31m \u001b[0malcdata\u001b[0m \u001b[0;34m=\u001b[0m \u001b[0mpd\u001b[0m\u001b[0;34m.\u001b[0m\u001b[0mread_csv\u001b[0m\u001b[0;34m(\u001b[0m\u001b[0;34m\"/alcoholism/student-mat.csv\"\u001b[0m\u001b[0;34m)\u001b[0m\u001b[0;34m\u001b[0m\u001b[0;34m\u001b[0m\u001b[0m\n\u001b[0m\u001b[1;32m      2\u001b[0m \u001b[0mfifadata\u001b[0m \u001b[0;34m=\u001b[0m \u001b[0mpd\u001b[0m\u001b[0;34m.\u001b[0m\u001b[0mread_csv\u001b[0m\u001b[0;34m(\u001b[0m\u001b[0;34m\"/fifa18/data.csv\"\u001b[0m\u001b[0;34m)\u001b[0m\u001b[0;34m\u001b[0m\u001b[0;34m\u001b[0m\u001b[0m\n\u001b[1;32m      3\u001b[0m \u001b[0maccidata1\u001b[0m \u001b[0;34m=\u001b[0m \u001b[0mpd\u001b[0m\u001b[0;34m.\u001b[0m\u001b[0mread_csv\u001b[0m\u001b[0;34m(\u001b[0m\u001b[0;34m\"/accidents/accidents_2005_to_2007.csv\"\u001b[0m\u001b[0;34m)\u001b[0m\u001b[0;34m\u001b[0m\u001b[0;34m\u001b[0m\u001b[0m\n\u001b[1;32m      4\u001b[0m \u001b[0maccidata2\u001b[0m \u001b[0;34m=\u001b[0m \u001b[0mpd\u001b[0m\u001b[0;34m.\u001b[0m\u001b[0mread_csv\u001b[0m\u001b[0;34m(\u001b[0m\u001b[0;34m\"/accidents/accidents_2009_to_2011.csv\"\u001b[0m\u001b[0;34m)\u001b[0m\u001b[0;34m\u001b[0m\u001b[0;34m\u001b[0m\u001b[0m\n\u001b[1;32m      5\u001b[0m \u001b[0maccidata3\u001b[0m \u001b[0;34m=\u001b[0m \u001b[0mpd\u001b[0m\u001b[0;34m.\u001b[0m\u001b[0mread_csv\u001b[0m\u001b[0;34m(\u001b[0m\u001b[0;34m\"/accidents/accidents_2012_to_2014.csv\"\u001b[0m\u001b[0;34m)\u001b[0m\u001b[0;34m\u001b[0m\u001b[0;34m\u001b[0m\u001b[0m\n",
      "\u001b[0;32m~/.local/lib/python3.6/site-packages/pandas/io/parsers.py\u001b[0m in \u001b[0;36mread_csv\u001b[0;34m(filepath_or_buffer, sep, delimiter, header, names, index_col, usecols, squeeze, prefix, mangle_dupe_cols, dtype, engine, converters, true_values, false_values, skipinitialspace, skiprows, skipfooter, nrows, na_values, keep_default_na, na_filter, verbose, skip_blank_lines, parse_dates, infer_datetime_format, keep_date_col, date_parser, dayfirst, cache_dates, iterator, chunksize, compression, thousands, decimal, lineterminator, quotechar, quoting, doublequote, escapechar, comment, encoding, dialect, error_bad_lines, warn_bad_lines, delim_whitespace, low_memory, memory_map, float_precision)\u001b[0m\n\u001b[1;32m    684\u001b[0m     )\n\u001b[1;32m    685\u001b[0m \u001b[0;34m\u001b[0m\u001b[0m\n\u001b[0;32m--> 686\u001b[0;31m     \u001b[0;32mreturn\u001b[0m \u001b[0m_read\u001b[0m\u001b[0;34m(\u001b[0m\u001b[0mfilepath_or_buffer\u001b[0m\u001b[0;34m,\u001b[0m \u001b[0mkwds\u001b[0m\u001b[0;34m)\u001b[0m\u001b[0;34m\u001b[0m\u001b[0;34m\u001b[0m\u001b[0m\n\u001b[0m\u001b[1;32m    687\u001b[0m \u001b[0;34m\u001b[0m\u001b[0m\n\u001b[1;32m    688\u001b[0m \u001b[0;34m\u001b[0m\u001b[0m\n",
      "\u001b[0;32m~/.local/lib/python3.6/site-packages/pandas/io/parsers.py\u001b[0m in \u001b[0;36m_read\u001b[0;34m(filepath_or_buffer, kwds)\u001b[0m\n\u001b[1;32m    450\u001b[0m \u001b[0;34m\u001b[0m\u001b[0m\n\u001b[1;32m    451\u001b[0m     \u001b[0;31m# Create the parser.\u001b[0m\u001b[0;34m\u001b[0m\u001b[0;34m\u001b[0m\u001b[0;34m\u001b[0m\u001b[0m\n\u001b[0;32m--> 452\u001b[0;31m     \u001b[0mparser\u001b[0m \u001b[0;34m=\u001b[0m \u001b[0mTextFileReader\u001b[0m\u001b[0;34m(\u001b[0m\u001b[0mfp_or_buf\u001b[0m\u001b[0;34m,\u001b[0m \u001b[0;34m**\u001b[0m\u001b[0mkwds\u001b[0m\u001b[0;34m)\u001b[0m\u001b[0;34m\u001b[0m\u001b[0;34m\u001b[0m\u001b[0m\n\u001b[0m\u001b[1;32m    453\u001b[0m \u001b[0;34m\u001b[0m\u001b[0m\n\u001b[1;32m    454\u001b[0m     \u001b[0;32mif\u001b[0m \u001b[0mchunksize\u001b[0m \u001b[0;32mor\u001b[0m \u001b[0miterator\u001b[0m\u001b[0;34m:\u001b[0m\u001b[0;34m\u001b[0m\u001b[0;34m\u001b[0m\u001b[0m\n",
      "\u001b[0;32m~/.local/lib/python3.6/site-packages/pandas/io/parsers.py\u001b[0m in \u001b[0;36m__init__\u001b[0;34m(self, f, engine, **kwds)\u001b[0m\n\u001b[1;32m    934\u001b[0m             \u001b[0mself\u001b[0m\u001b[0;34m.\u001b[0m\u001b[0moptions\u001b[0m\u001b[0;34m[\u001b[0m\u001b[0;34m\"has_index_names\"\u001b[0m\u001b[0;34m]\u001b[0m \u001b[0;34m=\u001b[0m \u001b[0mkwds\u001b[0m\u001b[0;34m[\u001b[0m\u001b[0;34m\"has_index_names\"\u001b[0m\u001b[0;34m]\u001b[0m\u001b[0;34m\u001b[0m\u001b[0;34m\u001b[0m\u001b[0m\n\u001b[1;32m    935\u001b[0m \u001b[0;34m\u001b[0m\u001b[0m\n\u001b[0;32m--> 936\u001b[0;31m         \u001b[0mself\u001b[0m\u001b[0;34m.\u001b[0m\u001b[0m_make_engine\u001b[0m\u001b[0;34m(\u001b[0m\u001b[0mself\u001b[0m\u001b[0;34m.\u001b[0m\u001b[0mengine\u001b[0m\u001b[0;34m)\u001b[0m\u001b[0;34m\u001b[0m\u001b[0;34m\u001b[0m\u001b[0m\n\u001b[0m\u001b[1;32m    937\u001b[0m \u001b[0;34m\u001b[0m\u001b[0m\n\u001b[1;32m    938\u001b[0m     \u001b[0;32mdef\u001b[0m \u001b[0mclose\u001b[0m\u001b[0;34m(\u001b[0m\u001b[0mself\u001b[0m\u001b[0;34m)\u001b[0m\u001b[0;34m:\u001b[0m\u001b[0;34m\u001b[0m\u001b[0;34m\u001b[0m\u001b[0m\n",
      "\u001b[0;32m~/.local/lib/python3.6/site-packages/pandas/io/parsers.py\u001b[0m in \u001b[0;36m_make_engine\u001b[0;34m(self, engine)\u001b[0m\n\u001b[1;32m   1166\u001b[0m     \u001b[0;32mdef\u001b[0m \u001b[0m_make_engine\u001b[0m\u001b[0;34m(\u001b[0m\u001b[0mself\u001b[0m\u001b[0;34m,\u001b[0m \u001b[0mengine\u001b[0m\u001b[0;34m=\u001b[0m\u001b[0;34m\"c\"\u001b[0m\u001b[0;34m)\u001b[0m\u001b[0;34m:\u001b[0m\u001b[0;34m\u001b[0m\u001b[0;34m\u001b[0m\u001b[0m\n\u001b[1;32m   1167\u001b[0m         \u001b[0;32mif\u001b[0m \u001b[0mengine\u001b[0m \u001b[0;34m==\u001b[0m \u001b[0;34m\"c\"\u001b[0m\u001b[0;34m:\u001b[0m\u001b[0;34m\u001b[0m\u001b[0;34m\u001b[0m\u001b[0m\n\u001b[0;32m-> 1168\u001b[0;31m             \u001b[0mself\u001b[0m\u001b[0;34m.\u001b[0m\u001b[0m_engine\u001b[0m \u001b[0;34m=\u001b[0m \u001b[0mCParserWrapper\u001b[0m\u001b[0;34m(\u001b[0m\u001b[0mself\u001b[0m\u001b[0;34m.\u001b[0m\u001b[0mf\u001b[0m\u001b[0;34m,\u001b[0m \u001b[0;34m**\u001b[0m\u001b[0mself\u001b[0m\u001b[0;34m.\u001b[0m\u001b[0moptions\u001b[0m\u001b[0;34m)\u001b[0m\u001b[0;34m\u001b[0m\u001b[0;34m\u001b[0m\u001b[0m\n\u001b[0m\u001b[1;32m   1169\u001b[0m         \u001b[0;32melse\u001b[0m\u001b[0;34m:\u001b[0m\u001b[0;34m\u001b[0m\u001b[0;34m\u001b[0m\u001b[0m\n\u001b[1;32m   1170\u001b[0m             \u001b[0;32mif\u001b[0m \u001b[0mengine\u001b[0m \u001b[0;34m==\u001b[0m \u001b[0;34m\"python\"\u001b[0m\u001b[0;34m:\u001b[0m\u001b[0;34m\u001b[0m\u001b[0;34m\u001b[0m\u001b[0m\n",
      "\u001b[0;32m~/.local/lib/python3.6/site-packages/pandas/io/parsers.py\u001b[0m in \u001b[0;36m__init__\u001b[0;34m(self, src, **kwds)\u001b[0m\n\u001b[1;32m   1996\u001b[0m         \u001b[0mkwds\u001b[0m\u001b[0;34m[\u001b[0m\u001b[0;34m\"usecols\"\u001b[0m\u001b[0;34m]\u001b[0m \u001b[0;34m=\u001b[0m \u001b[0mself\u001b[0m\u001b[0;34m.\u001b[0m\u001b[0musecols\u001b[0m\u001b[0;34m\u001b[0m\u001b[0;34m\u001b[0m\u001b[0m\n\u001b[1;32m   1997\u001b[0m \u001b[0;34m\u001b[0m\u001b[0m\n\u001b[0;32m-> 1998\u001b[0;31m         \u001b[0mself\u001b[0m\u001b[0;34m.\u001b[0m\u001b[0m_reader\u001b[0m \u001b[0;34m=\u001b[0m \u001b[0mparsers\u001b[0m\u001b[0;34m.\u001b[0m\u001b[0mTextReader\u001b[0m\u001b[0;34m(\u001b[0m\u001b[0msrc\u001b[0m\u001b[0;34m,\u001b[0m \u001b[0;34m**\u001b[0m\u001b[0mkwds\u001b[0m\u001b[0;34m)\u001b[0m\u001b[0;34m\u001b[0m\u001b[0;34m\u001b[0m\u001b[0m\n\u001b[0m\u001b[1;32m   1999\u001b[0m         \u001b[0mself\u001b[0m\u001b[0;34m.\u001b[0m\u001b[0munnamed_cols\u001b[0m \u001b[0;34m=\u001b[0m \u001b[0mself\u001b[0m\u001b[0;34m.\u001b[0m\u001b[0m_reader\u001b[0m\u001b[0;34m.\u001b[0m\u001b[0munnamed_cols\u001b[0m\u001b[0;34m\u001b[0m\u001b[0;34m\u001b[0m\u001b[0m\n\u001b[1;32m   2000\u001b[0m \u001b[0;34m\u001b[0m\u001b[0m\n",
      "\u001b[0;32mpandas/_libs/parsers.pyx\u001b[0m in \u001b[0;36mpandas._libs.parsers.TextReader.__cinit__\u001b[0;34m()\u001b[0m\n",
      "\u001b[0;32mpandas/_libs/parsers.pyx\u001b[0m in \u001b[0;36mpandas._libs.parsers.TextReader._setup_parser_source\u001b[0;34m()\u001b[0m\n",
      "\u001b[0;31mFileNotFoundError\u001b[0m: [Errno 2] No such file or directory: '/alcoholism/student-mat.csv'"
     ]
    }
   ],
   "source": [
    "alcdata = pd.read_csv(\"/alcoholism/student-mat.csv\")\n",
    "fifadata = pd.read_csv(\"/fifa18/data.csv\")\n",
    "accidata1 = pd.read_csv(\"/accidents/accidents_2005_to_2007.csv\")\n",
    "accidata2 = pd.read_csv(\"/accidents/accidents_2009_to_2011.csv\")\n",
    "accidata3 = pd.read_csv(\"/accidents/accidents_2012_to_2014.csv\")"
   ]
  },
  {
   "cell_type": "code",
   "execution_count": 502,
   "metadata": {},
   "outputs": [],
   "source": [
    "#alcdata = pd.read_csv(\"student-mat.csv\")\n",
    "#fifadata = pd.read_csv(\"data.csv\")\n",
    "#accidata1 = pd.read_csv(\"accidents_2005_to_2007.csv\")\n",
    "#accidata2 = pd.read_csv(\"accidents_2009_to_2011.csv\")\n",
    "#accidata3 = pd.read_csv(\"accidents_2012_to_2014.csv\")"
   ]
  },
  {
   "cell_type": "markdown",
   "metadata": {},
   "source": [
    "# Part - 1\n",
    "## Alcohol Consumption Data\n",
    "The following data was obtained in a survey of students' math course in secondary school. It contains a lot of interesting social, gender and study information about students. \n"
   ]
  },
  {
   "cell_type": "markdown",
   "metadata": {},
   "source": [
    "### 1. Try to visualize correlations between various features and grades and see which features have a significant impact on grades. \n",
    "Try to engineer the three grade parameters (G1, G2 and G3) as one feature for such comparisons.\n",
    "\n"
   ]
  },
  {
   "cell_type": "code",
   "execution_count": 503,
   "metadata": {},
   "outputs": [
    {
     "data": {
      "text/html": [
       "<div>\n",
       "<style scoped>\n",
       "    .dataframe tbody tr th:only-of-type {\n",
       "        vertical-align: middle;\n",
       "    }\n",
       "\n",
       "    .dataframe tbody tr th {\n",
       "        vertical-align: top;\n",
       "    }\n",
       "\n",
       "    .dataframe thead th {\n",
       "        text-align: right;\n",
       "    }\n",
       "</style>\n",
       "<table border=\"1\" class=\"dataframe\">\n",
       "  <thead>\n",
       "    <tr style=\"text-align: right;\">\n",
       "      <th></th>\n",
       "      <th>school</th>\n",
       "      <th>sex</th>\n",
       "      <th>age</th>\n",
       "      <th>address</th>\n",
       "      <th>famsize</th>\n",
       "      <th>Pstatus</th>\n",
       "      <th>Medu</th>\n",
       "      <th>Fedu</th>\n",
       "      <th>Mjob</th>\n",
       "      <th>Fjob</th>\n",
       "      <th>...</th>\n",
       "      <th>famrel</th>\n",
       "      <th>freetime</th>\n",
       "      <th>goout</th>\n",
       "      <th>Dalc</th>\n",
       "      <th>Walc</th>\n",
       "      <th>health</th>\n",
       "      <th>absences</th>\n",
       "      <th>G1</th>\n",
       "      <th>G2</th>\n",
       "      <th>G3</th>\n",
       "    </tr>\n",
       "  </thead>\n",
       "  <tbody>\n",
       "    <tr>\n",
       "      <th>0</th>\n",
       "      <td>GP</td>\n",
       "      <td>F</td>\n",
       "      <td>18</td>\n",
       "      <td>U</td>\n",
       "      <td>GT3</td>\n",
       "      <td>A</td>\n",
       "      <td>4</td>\n",
       "      <td>4</td>\n",
       "      <td>at_home</td>\n",
       "      <td>teacher</td>\n",
       "      <td>...</td>\n",
       "      <td>4</td>\n",
       "      <td>3</td>\n",
       "      <td>4</td>\n",
       "      <td>1</td>\n",
       "      <td>1</td>\n",
       "      <td>3</td>\n",
       "      <td>6</td>\n",
       "      <td>5</td>\n",
       "      <td>6</td>\n",
       "      <td>6</td>\n",
       "    </tr>\n",
       "    <tr>\n",
       "      <th>1</th>\n",
       "      <td>GP</td>\n",
       "      <td>F</td>\n",
       "      <td>17</td>\n",
       "      <td>U</td>\n",
       "      <td>GT3</td>\n",
       "      <td>T</td>\n",
       "      <td>1</td>\n",
       "      <td>1</td>\n",
       "      <td>at_home</td>\n",
       "      <td>other</td>\n",
       "      <td>...</td>\n",
       "      <td>5</td>\n",
       "      <td>3</td>\n",
       "      <td>3</td>\n",
       "      <td>1</td>\n",
       "      <td>1</td>\n",
       "      <td>3</td>\n",
       "      <td>4</td>\n",
       "      <td>5</td>\n",
       "      <td>5</td>\n",
       "      <td>6</td>\n",
       "    </tr>\n",
       "    <tr>\n",
       "      <th>2</th>\n",
       "      <td>GP</td>\n",
       "      <td>F</td>\n",
       "      <td>15</td>\n",
       "      <td>U</td>\n",
       "      <td>LE3</td>\n",
       "      <td>T</td>\n",
       "      <td>1</td>\n",
       "      <td>1</td>\n",
       "      <td>at_home</td>\n",
       "      <td>other</td>\n",
       "      <td>...</td>\n",
       "      <td>4</td>\n",
       "      <td>3</td>\n",
       "      <td>2</td>\n",
       "      <td>2</td>\n",
       "      <td>3</td>\n",
       "      <td>3</td>\n",
       "      <td>10</td>\n",
       "      <td>7</td>\n",
       "      <td>8</td>\n",
       "      <td>10</td>\n",
       "    </tr>\n",
       "    <tr>\n",
       "      <th>3</th>\n",
       "      <td>GP</td>\n",
       "      <td>F</td>\n",
       "      <td>15</td>\n",
       "      <td>U</td>\n",
       "      <td>GT3</td>\n",
       "      <td>T</td>\n",
       "      <td>4</td>\n",
       "      <td>2</td>\n",
       "      <td>health</td>\n",
       "      <td>services</td>\n",
       "      <td>...</td>\n",
       "      <td>3</td>\n",
       "      <td>2</td>\n",
       "      <td>2</td>\n",
       "      <td>1</td>\n",
       "      <td>1</td>\n",
       "      <td>5</td>\n",
       "      <td>2</td>\n",
       "      <td>15</td>\n",
       "      <td>14</td>\n",
       "      <td>15</td>\n",
       "    </tr>\n",
       "    <tr>\n",
       "      <th>4</th>\n",
       "      <td>GP</td>\n",
       "      <td>F</td>\n",
       "      <td>16</td>\n",
       "      <td>U</td>\n",
       "      <td>GT3</td>\n",
       "      <td>T</td>\n",
       "      <td>3</td>\n",
       "      <td>3</td>\n",
       "      <td>other</td>\n",
       "      <td>other</td>\n",
       "      <td>...</td>\n",
       "      <td>4</td>\n",
       "      <td>3</td>\n",
       "      <td>2</td>\n",
       "      <td>1</td>\n",
       "      <td>2</td>\n",
       "      <td>5</td>\n",
       "      <td>4</td>\n",
       "      <td>6</td>\n",
       "      <td>10</td>\n",
       "      <td>10</td>\n",
       "    </tr>\n",
       "    <tr>\n",
       "      <th>...</th>\n",
       "      <td>...</td>\n",
       "      <td>...</td>\n",
       "      <td>...</td>\n",
       "      <td>...</td>\n",
       "      <td>...</td>\n",
       "      <td>...</td>\n",
       "      <td>...</td>\n",
       "      <td>...</td>\n",
       "      <td>...</td>\n",
       "      <td>...</td>\n",
       "      <td>...</td>\n",
       "      <td>...</td>\n",
       "      <td>...</td>\n",
       "      <td>...</td>\n",
       "      <td>...</td>\n",
       "      <td>...</td>\n",
       "      <td>...</td>\n",
       "      <td>...</td>\n",
       "      <td>...</td>\n",
       "      <td>...</td>\n",
       "      <td>...</td>\n",
       "    </tr>\n",
       "    <tr>\n",
       "      <th>390</th>\n",
       "      <td>MS</td>\n",
       "      <td>M</td>\n",
       "      <td>20</td>\n",
       "      <td>U</td>\n",
       "      <td>LE3</td>\n",
       "      <td>A</td>\n",
       "      <td>2</td>\n",
       "      <td>2</td>\n",
       "      <td>services</td>\n",
       "      <td>services</td>\n",
       "      <td>...</td>\n",
       "      <td>5</td>\n",
       "      <td>5</td>\n",
       "      <td>4</td>\n",
       "      <td>4</td>\n",
       "      <td>5</td>\n",
       "      <td>4</td>\n",
       "      <td>11</td>\n",
       "      <td>9</td>\n",
       "      <td>9</td>\n",
       "      <td>9</td>\n",
       "    </tr>\n",
       "    <tr>\n",
       "      <th>391</th>\n",
       "      <td>MS</td>\n",
       "      <td>M</td>\n",
       "      <td>17</td>\n",
       "      <td>U</td>\n",
       "      <td>LE3</td>\n",
       "      <td>T</td>\n",
       "      <td>3</td>\n",
       "      <td>1</td>\n",
       "      <td>services</td>\n",
       "      <td>services</td>\n",
       "      <td>...</td>\n",
       "      <td>2</td>\n",
       "      <td>4</td>\n",
       "      <td>5</td>\n",
       "      <td>3</td>\n",
       "      <td>4</td>\n",
       "      <td>2</td>\n",
       "      <td>3</td>\n",
       "      <td>14</td>\n",
       "      <td>16</td>\n",
       "      <td>16</td>\n",
       "    </tr>\n",
       "    <tr>\n",
       "      <th>392</th>\n",
       "      <td>MS</td>\n",
       "      <td>M</td>\n",
       "      <td>21</td>\n",
       "      <td>R</td>\n",
       "      <td>GT3</td>\n",
       "      <td>T</td>\n",
       "      <td>1</td>\n",
       "      <td>1</td>\n",
       "      <td>other</td>\n",
       "      <td>other</td>\n",
       "      <td>...</td>\n",
       "      <td>5</td>\n",
       "      <td>5</td>\n",
       "      <td>3</td>\n",
       "      <td>3</td>\n",
       "      <td>3</td>\n",
       "      <td>3</td>\n",
       "      <td>3</td>\n",
       "      <td>10</td>\n",
       "      <td>8</td>\n",
       "      <td>7</td>\n",
       "    </tr>\n",
       "    <tr>\n",
       "      <th>393</th>\n",
       "      <td>MS</td>\n",
       "      <td>M</td>\n",
       "      <td>18</td>\n",
       "      <td>R</td>\n",
       "      <td>LE3</td>\n",
       "      <td>T</td>\n",
       "      <td>3</td>\n",
       "      <td>2</td>\n",
       "      <td>services</td>\n",
       "      <td>other</td>\n",
       "      <td>...</td>\n",
       "      <td>4</td>\n",
       "      <td>4</td>\n",
       "      <td>1</td>\n",
       "      <td>3</td>\n",
       "      <td>4</td>\n",
       "      <td>5</td>\n",
       "      <td>0</td>\n",
       "      <td>11</td>\n",
       "      <td>12</td>\n",
       "      <td>10</td>\n",
       "    </tr>\n",
       "    <tr>\n",
       "      <th>394</th>\n",
       "      <td>MS</td>\n",
       "      <td>M</td>\n",
       "      <td>19</td>\n",
       "      <td>U</td>\n",
       "      <td>LE3</td>\n",
       "      <td>T</td>\n",
       "      <td>1</td>\n",
       "      <td>1</td>\n",
       "      <td>other</td>\n",
       "      <td>at_home</td>\n",
       "      <td>...</td>\n",
       "      <td>3</td>\n",
       "      <td>2</td>\n",
       "      <td>3</td>\n",
       "      <td>3</td>\n",
       "      <td>3</td>\n",
       "      <td>5</td>\n",
       "      <td>5</td>\n",
       "      <td>8</td>\n",
       "      <td>9</td>\n",
       "      <td>9</td>\n",
       "    </tr>\n",
       "  </tbody>\n",
       "</table>\n",
       "<p>395 rows × 33 columns</p>\n",
       "</div>"
      ],
      "text/plain": [
       "    school sex  age address famsize Pstatus  Medu  Fedu      Mjob      Fjob  \\\n",
       "0       GP   F   18       U     GT3       A     4     4   at_home   teacher   \n",
       "1       GP   F   17       U     GT3       T     1     1   at_home     other   \n",
       "2       GP   F   15       U     LE3       T     1     1   at_home     other   \n",
       "3       GP   F   15       U     GT3       T     4     2    health  services   \n",
       "4       GP   F   16       U     GT3       T     3     3     other     other   \n",
       "..     ...  ..  ...     ...     ...     ...   ...   ...       ...       ...   \n",
       "390     MS   M   20       U     LE3       A     2     2  services  services   \n",
       "391     MS   M   17       U     LE3       T     3     1  services  services   \n",
       "392     MS   M   21       R     GT3       T     1     1     other     other   \n",
       "393     MS   M   18       R     LE3       T     3     2  services     other   \n",
       "394     MS   M   19       U     LE3       T     1     1     other   at_home   \n",
       "\n",
       "     ... famrel freetime  goout  Dalc  Walc health absences  G1  G2  G3  \n",
       "0    ...      4        3      4     1     1      3        6   5   6   6  \n",
       "1    ...      5        3      3     1     1      3        4   5   5   6  \n",
       "2    ...      4        3      2     2     3      3       10   7   8  10  \n",
       "3    ...      3        2      2     1     1      5        2  15  14  15  \n",
       "4    ...      4        3      2     1     2      5        4   6  10  10  \n",
       "..   ...    ...      ...    ...   ...   ...    ...      ...  ..  ..  ..  \n",
       "390  ...      5        5      4     4     5      4       11   9   9   9  \n",
       "391  ...      2        4      5     3     4      2        3  14  16  16  \n",
       "392  ...      5        5      3     3     3      3        3  10   8   7  \n",
       "393  ...      4        4      1     3     4      5        0  11  12  10  \n",
       "394  ...      3        2      3     3     3      5        5   8   9   9  \n",
       "\n",
       "[395 rows x 33 columns]"
      ]
     },
     "execution_count": 503,
     "metadata": {},
     "output_type": "execute_result"
    }
   ],
   "source": [
    "alcdata"
   ]
  },
  {
   "cell_type": "code",
   "execution_count": 504,
   "metadata": {},
   "outputs": [
    {
     "name": "stdout",
     "output_type": "stream",
     "text": [
      "<class 'pandas.core.frame.DataFrame'>\n",
      "RangeIndex: 395 entries, 0 to 394\n",
      "Data columns (total 33 columns):\n",
      " #   Column      Non-Null Count  Dtype \n",
      "---  ------      --------------  ----- \n",
      " 0   school      395 non-null    object\n",
      " 1   sex         395 non-null    object\n",
      " 2   age         395 non-null    int64 \n",
      " 3   address     395 non-null    object\n",
      " 4   famsize     395 non-null    object\n",
      " 5   Pstatus     395 non-null    object\n",
      " 6   Medu        395 non-null    int64 \n",
      " 7   Fedu        395 non-null    int64 \n",
      " 8   Mjob        395 non-null    object\n",
      " 9   Fjob        395 non-null    object\n",
      " 10  reason      395 non-null    object\n",
      " 11  guardian    395 non-null    object\n",
      " 12  traveltime  395 non-null    int64 \n",
      " 13  studytime   395 non-null    int64 \n",
      " 14  failures    395 non-null    int64 \n",
      " 15  schoolsup   395 non-null    object\n",
      " 16  famsup      395 non-null    object\n",
      " 17  paid        395 non-null    object\n",
      " 18  activities  395 non-null    object\n",
      " 19  nursery     395 non-null    object\n",
      " 20  higher      395 non-null    object\n",
      " 21  internet    395 non-null    object\n",
      " 22  romantic    395 non-null    object\n",
      " 23  famrel      395 non-null    int64 \n",
      " 24  freetime    395 non-null    int64 \n",
      " 25  goout       395 non-null    int64 \n",
      " 26  Dalc        395 non-null    int64 \n",
      " 27  Walc        395 non-null    int64 \n",
      " 28  health      395 non-null    int64 \n",
      " 29  absences    395 non-null    int64 \n",
      " 30  G1          395 non-null    int64 \n",
      " 31  G2          395 non-null    int64 \n",
      " 32  G3          395 non-null    int64 \n",
      "dtypes: int64(16), object(17)\n",
      "memory usage: 102.0+ KB\n"
     ]
    }
   ],
   "source": [
    "alcdata.info()"
   ]
  },
  {
   "cell_type": "code",
   "execution_count": 505,
   "metadata": {},
   "outputs": [],
   "source": [
    "#fig=plt.figure(figsize=(20,10))\n",
    "#sns.heatmap(alcdata.corr(),cmap = \"YlGnBu\")\n",
    "#plt.show()\n",
    "#alcdata.corr()"
   ]
  },
  {
   "cell_type": "code",
   "execution_count": 506,
   "metadata": {},
   "outputs": [],
   "source": [
    "#enter code/answer in this cell. You can add more code/markdown cells below for your answer. \n",
    "#fig=plt.figure(figsize=(10,5))\n",
    "#sns.heatmap(alcdata.corr()[[\"G1\",\"G2\",\"G3\"]],cmap = \"YlGnBu\")\n",
    "#plt.show()\n",
    "#alcdata.corr()[[\"G1\",\"G2\",\"G3\"]]"
   ]
  },
  {
   "cell_type": "code",
   "execution_count": 507,
   "metadata": {},
   "outputs": [],
   "source": [
    "alcdata[\"G\"] = (alcdata[\"G1\"] + alcdata[\"G3\"] + alcdata[\"G2\"])/3"
   ]
  },
  {
   "cell_type": "code",
   "execution_count": 508,
   "metadata": {
    "scrolled": true
   },
   "outputs": [
    {
     "data": {
      "text/plain": [
       "<matplotlib.axes._subplots.AxesSubplot at 0x7ff0d5ecb0f0>"
      ]
     },
     "execution_count": 508,
     "metadata": {},
     "output_type": "execute_result"
    },
    {
     "data": {
      "image/png": "[encoded data removed]",
      "text/plain": [
       "<matplotlib.figure.Figure at 0x7ff0db97c208>"
      ]
     },
     "metadata": {
      "needs_background": "light"
     },
     "output_type": "display_data"
    }
   ],
   "source": [
    "fig = plt.figure(figsize=[5,5])\n",
    "sns.distplot(alcdata[\"G\"])"
   ]
  },
  {
   "cell_type": "code",
   "execution_count": 509,
   "metadata": {},
   "outputs": [
    {
     "data": {
      "text/html": [
       "<div>\n",
       "<style scoped>\n",
       "    .dataframe tbody tr th:only-of-type {\n",
       "        vertical-align: middle;\n",
       "    }\n",
       "\n",
       "    .dataframe tbody tr th {\n",
       "        vertical-align: top;\n",
       "    }\n",
       "\n",
       "    .dataframe thead th {\n",
       "        text-align: right;\n",
       "    }\n",
       "</style>\n",
       "<table border=\"1\" class=\"dataframe\">\n",
       "  <thead>\n",
       "    <tr style=\"text-align: right;\">\n",
       "      <th></th>\n",
       "      <th>count</th>\n",
       "      <th>mean</th>\n",
       "      <th>std</th>\n",
       "      <th>min</th>\n",
       "      <th>25%</th>\n",
       "      <th>50%</th>\n",
       "      <th>75%</th>\n",
       "      <th>max</th>\n",
       "    </tr>\n",
       "    <tr>\n",
       "      <th>failures</th>\n",
       "      <th></th>\n",
       "      <th></th>\n",
       "      <th></th>\n",
       "      <th></th>\n",
       "      <th></th>\n",
       "      <th></th>\n",
       "      <th></th>\n",
       "      <th></th>\n",
       "    </tr>\n",
       "  </thead>\n",
       "  <tbody>\n",
       "    <tr>\n",
       "      <th>0</th>\n",
       "      <td>312.0</td>\n",
       "      <td>11.356838</td>\n",
       "      <td>3.478123</td>\n",
       "      <td>2.000000</td>\n",
       "      <td>9.333333</td>\n",
       "      <td>11.333333</td>\n",
       "      <td>13.750000</td>\n",
       "      <td>19.333333</td>\n",
       "    </tr>\n",
       "    <tr>\n",
       "      <th>1</th>\n",
       "      <td>50.0</td>\n",
       "      <td>8.980000</td>\n",
       "      <td>3.360711</td>\n",
       "      <td>2.333333</td>\n",
       "      <td>6.750000</td>\n",
       "      <td>9.000000</td>\n",
       "      <td>11.666667</td>\n",
       "      <td>18.000000</td>\n",
       "    </tr>\n",
       "    <tr>\n",
       "      <th>2</th>\n",
       "      <td>17.0</td>\n",
       "      <td>7.313725</td>\n",
       "      <td>3.518741</td>\n",
       "      <td>1.333333</td>\n",
       "      <td>4.333333</td>\n",
       "      <td>7.666667</td>\n",
       "      <td>9.000000</td>\n",
       "      <td>14.666667</td>\n",
       "    </tr>\n",
       "    <tr>\n",
       "      <th>3</th>\n",
       "      <td>16.0</td>\n",
       "      <td>6.354167</td>\n",
       "      <td>2.465972</td>\n",
       "      <td>1.666667</td>\n",
       "      <td>4.833333</td>\n",
       "      <td>7.166667</td>\n",
       "      <td>8.333333</td>\n",
       "      <td>9.000000</td>\n",
       "    </tr>\n",
       "  </tbody>\n",
       "</table>\n",
       "</div>"
      ],
      "text/plain": [
       "          count       mean       std       min       25%        50%  \\\n",
       "failures                                                              \n",
       "0         312.0  11.356838  3.478123  2.000000  9.333333  11.333333   \n",
       "1          50.0   8.980000  3.360711  2.333333  6.750000   9.000000   \n",
       "2          17.0   7.313725  3.518741  1.333333  4.333333   7.666667   \n",
       "3          16.0   6.354167  2.465972  1.666667  4.833333   7.166667   \n",
       "\n",
       "                75%        max  \n",
       "failures                        \n",
       "0         13.750000  19.333333  \n",
       "1         11.666667  18.000000  \n",
       "2          9.000000  14.666667  \n",
       "3          8.333333   9.000000  "
      ]
     },
     "execution_count": 509,
     "metadata": {},
     "output_type": "execute_result"
    }
   ],
   "source": [
    "alcdata[['failures','G']].groupby(['failures'])['G'].describe()"
   ]
  },
  {
   "cell_type": "code",
   "execution_count": 510,
   "metadata": {
    "scrolled": false
   },
   "outputs": [
    {
     "data": {
      "text/plain": [
       "<seaborn.axisgrid.FacetGrid at 0x7ff0cd141278>"
      ]
     },
     "execution_count": 510,
     "metadata": {},
     "output_type": "execute_result"
    },
    {
     "data": {
      "image/png": "[encoded data removed]",
      "text/plain": [
       "<matplotlib.figure.Figure at 0x7ff0cd1411d0>"
      ]
     },
     "metadata": {
      "needs_background": "light"
     },
     "output_type": "display_data"
    }
   ],
   "source": [
    "g = sns.FacetGrid(alcdata, col = \"failures\")\n",
    "g.map(sns.distplot, \"G\")"
   ]
  },
  {
   "cell_type": "code",
   "execution_count": 511,
   "metadata": {},
   "outputs": [
    {
     "data": {
      "text/plain": [
       "<seaborn.axisgrid.FacetGrid at 0x7ff0ccfa8198>"
      ]
     },
     "execution_count": 511,
     "metadata": {},
     "output_type": "execute_result"
    },
    {
     "data": {
      "image/png": "[encoded data removed]",
      "text/plain": [
       "<matplotlib.figure.Figure at 0x7ff0ccfa8048>"
      ]
     },
     "metadata": {
      "needs_background": "light"
     },
     "output_type": "display_data"
    }
   ],
   "source": [
    "g = sns.FacetGrid(alcdata, col = \"failures\")\n",
    "g.map(plt.hist,\"G\")"
   ]
  },
  {
   "cell_type": "code",
   "execution_count": 512,
   "metadata": {
    "scrolled": false
   },
   "outputs": [
    {
     "data": {
      "text/plain": [
       "<matplotlib.axes._subplots.AxesSubplot at 0x7ff0cce2b550>"
      ]
     },
     "execution_count": 512,
     "metadata": {},
     "output_type": "execute_result"
    },
    {
     "data": {
      "image/png": "[encoded data removed]",
      "text/plain": [
       "<matplotlib.figure.Figure at 0x7ff0cce3db70>"
      ]
     },
     "metadata": {
      "needs_background": "light"
     },
     "output_type": "display_data"
    }
   ],
   "source": [
    "fig = plt.figure()\n",
    "sns.boxplot(x = \"failures\", y = \"G\", data = alcdata)"
   ]
  },
  {
   "cell_type": "markdown",
   "metadata": {},
   "source": [
    "### Interpretation for G(avg grade) and failures feature.\n",
    "By observing distribution plot, histogram, box plot for each category of Failures and grouped data table:<br>\n",
    "-->From distribution plot we can say that distribution of G(avg grade) of students for failures 0,1,2 are almost same and all these are quite different fron the distribution plot of students with failures 3. From this we can say G(avg grade) depends on failures.<br>\n",
    "-->From histogram plots we can say that students who got more than 10 G(avg grade) are mostly have failures 0.<br>\n",
    "-->From histogram plots we can say that students with failures 3 have G(avg grade) less than 10.<br>\n",
    "-->From boxplots also we can say that G(avg grade) depends on failures.<br>\n",
    "-->From the table we can see that as failures increases mean of the G(avg grade) decreases."
   ]
  },
  {
   "cell_type": "code",
   "execution_count": 513,
   "metadata": {},
   "outputs": [
    {
     "data": {
      "text/html": [
       "<div>\n",
       "<style scoped>\n",
       "    .dataframe tbody tr th:only-of-type {\n",
       "        vertical-align: middle;\n",
       "    }\n",
       "\n",
       "    .dataframe tbody tr th {\n",
       "        vertical-align: top;\n",
       "    }\n",
       "\n",
       "    .dataframe thead th {\n",
       "        text-align: right;\n",
       "    }\n",
       "</style>\n",
       "<table border=\"1\" class=\"dataframe\">\n",
       "  <thead>\n",
       "    <tr style=\"text-align: right;\">\n",
       "      <th></th>\n",
       "      <th>count</th>\n",
       "      <th>mean</th>\n",
       "      <th>std</th>\n",
       "      <th>min</th>\n",
       "      <th>25%</th>\n",
       "      <th>50%</th>\n",
       "      <th>75%</th>\n",
       "      <th>max</th>\n",
       "    </tr>\n",
       "    <tr>\n",
       "      <th>sex</th>\n",
       "      <th></th>\n",
       "      <th></th>\n",
       "      <th></th>\n",
       "      <th></th>\n",
       "      <th></th>\n",
       "      <th></th>\n",
       "      <th></th>\n",
       "      <th></th>\n",
       "    </tr>\n",
       "  </thead>\n",
       "  <tbody>\n",
       "    <tr>\n",
       "      <th>F</th>\n",
       "      <td>208.0</td>\n",
       "      <td>10.325321</td>\n",
       "      <td>3.614018</td>\n",
       "      <td>1.333333</td>\n",
       "      <td>8.0</td>\n",
       "      <td>10.0</td>\n",
       "      <td>13.000000</td>\n",
       "      <td>18.666667</td>\n",
       "    </tr>\n",
       "    <tr>\n",
       "      <th>M</th>\n",
       "      <td>187.0</td>\n",
       "      <td>11.073084</td>\n",
       "      <td>3.757272</td>\n",
       "      <td>1.666667</td>\n",
       "      <td>9.0</td>\n",
       "      <td>11.0</td>\n",
       "      <td>13.666667</td>\n",
       "      <td>19.333333</td>\n",
       "    </tr>\n",
       "  </tbody>\n",
       "</table>\n",
       "</div>"
      ],
      "text/plain": [
       "     count       mean       std       min  25%   50%        75%        max\n",
       "sex                                                                       \n",
       "F    208.0  10.325321  3.614018  1.333333  8.0  10.0  13.000000  18.666667\n",
       "M    187.0  11.073084  3.757272  1.666667  9.0  11.0  13.666667  19.333333"
      ]
     },
     "execution_count": 513,
     "metadata": {},
     "output_type": "execute_result"
    }
   ],
   "source": [
    "alcdata[['sex','G']].groupby(['sex'])['G'].describe()"
   ]
  },
  {
   "cell_type": "code",
   "execution_count": 514,
   "metadata": {
    "scrolled": false
   },
   "outputs": [
    {
     "data": {
      "text/plain": [
       "<seaborn.axisgrid.FacetGrid at 0x7ff0ccfbb5c0>"
      ]
     },
     "execution_count": 514,
     "metadata": {},
     "output_type": "execute_result"
    },
    {
     "data": {
      "image/png": "[encoded data removed]",
      "text/plain": [
       "<matplotlib.figure.Figure at 0x7ff0ccd7ca58>"
      ]
     },
     "metadata": {
      "needs_background": "light"
     },
     "output_type": "display_data"
    }
   ],
   "source": [
    "g = sns.FacetGrid(alcdata, col = \"sex\")\n",
    "g.map(sns.distplot,\"G\")"
   ]
  },
  {
   "cell_type": "code",
   "execution_count": 515,
   "metadata": {},
   "outputs": [
    {
     "data": {
      "text/plain": [
       "<seaborn.axisgrid.FacetGrid at 0x7ff0ccbdcef0>"
      ]
     },
     "execution_count": 515,
     "metadata": {},
     "output_type": "execute_result"
    },
    {
     "data": {
      "image/png": "[encoded data removed]",
      "text/plain": [
       "<matplotlib.figure.Figure at 0x7ff0ccbdc668>"
      ]
     },
     "metadata": {
      "needs_background": "light"
     },
     "output_type": "display_data"
    }
   ],
   "source": [
    "g = sns.FacetGrid(alcdata, col = \"sex\")\n",
    "g.map(plt.hist,\"G\")"
   ]
  },
  {
   "cell_type": "code",
   "execution_count": 516,
   "metadata": {},
   "outputs": [
    {
     "data": {
      "text/plain": [
       "<matplotlib.axes._subplots.AxesSubplot at 0x7ff0ccbb94a8>"
      ]
     },
     "execution_count": 516,
     "metadata": {},
     "output_type": "execute_result"
    },
    {
     "data": {
      "image/png": "[encoded data removed]",
      "text/plain": [
       "<matplotlib.figure.Figure at 0x7ff0ccbb9588>"
      ]
     },
     "metadata": {
      "needs_background": "light"
     },
     "output_type": "display_data"
    }
   ],
   "source": [
    "fig = plt.figure(figsize = [5,5])\n",
    "sns.boxplot(y = \"sex\", x = \"G\", data = alcdata)"
   ]
  },
  {
   "cell_type": "markdown",
   "metadata": {},
   "source": [
    "### Interpretation for G(avg grade) and sex feature.\n",
    "From above distribution plots, box plots we can say that both boys and girls have same distribution of G(avg grade) which means we can say that G(avg grade) is not dependent of sex.From box plot we can say the G(avg grade) median of boys is some what high compared to that of girls."
   ]
  },
  {
   "cell_type": "code",
   "execution_count": 517,
   "metadata": {},
   "outputs": [
    {
     "data": {
      "text/html": [
       "<div>\n",
       "<style scoped>\n",
       "    .dataframe tbody tr th:only-of-type {\n",
       "        vertical-align: middle;\n",
       "    }\n",
       "\n",
       "    .dataframe tbody tr th {\n",
       "        vertical-align: top;\n",
       "    }\n",
       "\n",
       "    .dataframe thead th {\n",
       "        text-align: right;\n",
       "    }\n",
       "</style>\n",
       "<table border=\"1\" class=\"dataframe\">\n",
       "  <thead>\n",
       "    <tr style=\"text-align: right;\">\n",
       "      <th></th>\n",
       "      <th>count</th>\n",
       "      <th>mean</th>\n",
       "      <th>std</th>\n",
       "      <th>min</th>\n",
       "      <th>25%</th>\n",
       "      <th>50%</th>\n",
       "      <th>75%</th>\n",
       "      <th>max</th>\n",
       "    </tr>\n",
       "    <tr>\n",
       "      <th>school</th>\n",
       "      <th></th>\n",
       "      <th></th>\n",
       "      <th></th>\n",
       "      <th></th>\n",
       "      <th></th>\n",
       "      <th></th>\n",
       "      <th></th>\n",
       "      <th></th>\n",
       "    </tr>\n",
       "  </thead>\n",
       "  <tbody>\n",
       "    <tr>\n",
       "      <th>GP</th>\n",
       "      <td>349.0</td>\n",
       "      <td>10.737345</td>\n",
       "      <td>3.717529</td>\n",
       "      <td>1.333333</td>\n",
       "      <td>8.333333</td>\n",
       "      <td>10.666667</td>\n",
       "      <td>13.333333</td>\n",
       "      <td>19.333333</td>\n",
       "    </tr>\n",
       "    <tr>\n",
       "      <th>MS</th>\n",
       "      <td>46.0</td>\n",
       "      <td>10.239130</td>\n",
       "      <td>3.543496</td>\n",
       "      <td>3.666667</td>\n",
       "      <td>8.000000</td>\n",
       "      <td>10.166667</td>\n",
       "      <td>12.583333</td>\n",
       "      <td>18.666667</td>\n",
       "    </tr>\n",
       "  </tbody>\n",
       "</table>\n",
       "</div>"
      ],
      "text/plain": [
       "        count       mean       std       min       25%        50%        75%  \\\n",
       "school                                                                         \n",
       "GP      349.0  10.737345  3.717529  1.333333  8.333333  10.666667  13.333333   \n",
       "MS       46.0  10.239130  3.543496  3.666667  8.000000  10.166667  12.583333   \n",
       "\n",
       "              max  \n",
       "school             \n",
       "GP      19.333333  \n",
       "MS      18.666667  "
      ]
     },
     "execution_count": 517,
     "metadata": {},
     "output_type": "execute_result"
    }
   ],
   "source": [
    "alcdata[['school','G']].groupby(['school'])['G'].describe()"
   ]
  },
  {
   "cell_type": "code",
   "execution_count": 518,
   "metadata": {
    "scrolled": true
   },
   "outputs": [
    {
     "data": {
      "text/plain": [
       "<seaborn.axisgrid.FacetGrid at 0x7ff0ccc71898>"
      ]
     },
     "execution_count": 518,
     "metadata": {},
     "output_type": "execute_result"
    },
    {
     "data": {
      "image/png": "[encoded data removed]",
      "text/plain": [
       "<matplotlib.figure.Figure at 0x7ff0ccc13160>"
      ]
     },
     "metadata": {
      "needs_background": "light"
     },
     "output_type": "display_data"
    }
   ],
   "source": [
    "g = sns.FacetGrid(alcdata, col = \"school\")\n",
    "g.map(sns.distplot,\"G\")"
   ]
  },
  {
   "cell_type": "code",
   "execution_count": 519,
   "metadata": {
    "scrolled": false
   },
   "outputs": [
    {
     "data": {
      "text/plain": [
       "<seaborn.axisgrid.FacetGrid at 0x7ff0cca05518>"
      ]
     },
     "execution_count": 519,
     "metadata": {},
     "output_type": "execute_result"
    },
    {
     "data": {
      "image/png": "[encoded data removed]",
      "text/plain": [
       "<matplotlib.figure.Figure at 0x7ff0cca054e0>"
      ]
     },
     "metadata": {
      "needs_background": "light"
     },
     "output_type": "display_data"
    }
   ],
   "source": [
    "g = sns.FacetGrid(alcdata, col = \"school\")\n",
    "g.map(plt.hist,\"G\")"
   ]
  },
  {
   "cell_type": "code",
   "execution_count": 520,
   "metadata": {
    "scrolled": false
   },
   "outputs": [
    {
     "data": {
      "text/plain": [
       "<matplotlib.axes._subplots.AxesSubplot at 0x7ff0cca7f320>"
      ]
     },
     "execution_count": 520,
     "metadata": {},
     "output_type": "execute_result"
    },
    {
     "data": {
      "image/png": "[encoded data removed]",
      "text/plain": [
       "<matplotlib.figure.Figure at 0x7ff0cc9519e8>"
      ]
     },
     "metadata": {
      "needs_background": "light"
     },
     "output_type": "display_data"
    }
   ],
   "source": [
    "fig = plt.figure(figsize = [5,5])\n",
    "sns.boxplot(x = \"G\", y = \"school\", data = alcdata)"
   ]
  },
  {
   "cell_type": "markdown",
   "metadata": {},
   "source": [
    "### Interpretation for G(avg grade) and school feature.\n",
    "By observing above distribution plots, box plots, histograms, grouped data table:<br>\n",
    "-->From distplot we can say that both school GP and MS have same distribution of G(avg grade) which means we can -say that G(avg grade) is not dependent of school student is studying.<br>\n",
    "-->From histogram we can see that more students are from 'GP' school.<br>\n",
    "-->From box plot we can say that G(avg grade) median of 'GP' school is some what higher than that of 'MS' school."
   ]
  },
  {
   "cell_type": "code",
   "execution_count": 521,
   "metadata": {},
   "outputs": [
    {
     "data": {
      "text/html": [
       "<div>\n",
       "<style scoped>\n",
       "    .dataframe tbody tr th:only-of-type {\n",
       "        vertical-align: middle;\n",
       "    }\n",
       "\n",
       "    .dataframe tbody tr th {\n",
       "        vertical-align: top;\n",
       "    }\n",
       "\n",
       "    .dataframe thead th {\n",
       "        text-align: right;\n",
       "    }\n",
       "</style>\n",
       "<table border=\"1\" class=\"dataframe\">\n",
       "  <thead>\n",
       "    <tr style=\"text-align: right;\">\n",
       "      <th></th>\n",
       "      <th>count</th>\n",
       "      <th>mean</th>\n",
       "      <th>std</th>\n",
       "      <th>min</th>\n",
       "      <th>25%</th>\n",
       "      <th>50%</th>\n",
       "      <th>75%</th>\n",
       "      <th>max</th>\n",
       "    </tr>\n",
       "    <tr>\n",
       "      <th>studytime</th>\n",
       "      <th></th>\n",
       "      <th></th>\n",
       "      <th></th>\n",
       "      <th></th>\n",
       "      <th></th>\n",
       "      <th></th>\n",
       "      <th></th>\n",
       "      <th></th>\n",
       "    </tr>\n",
       "  </thead>\n",
       "  <tbody>\n",
       "    <tr>\n",
       "      <th>1</th>\n",
       "      <td>105.0</td>\n",
       "      <td>10.253968</td>\n",
       "      <td>4.135918</td>\n",
       "      <td>1.333333</td>\n",
       "      <td>7.666667</td>\n",
       "      <td>10.333333</td>\n",
       "      <td>13.000000</td>\n",
       "      <td>18.666667</td>\n",
       "    </tr>\n",
       "    <tr>\n",
       "      <th>2</th>\n",
       "      <td>198.0</td>\n",
       "      <td>10.442761</td>\n",
       "      <td>3.380017</td>\n",
       "      <td>2.000000</td>\n",
       "      <td>8.333333</td>\n",
       "      <td>10.333333</td>\n",
       "      <td>12.666667</td>\n",
       "      <td>18.333333</td>\n",
       "    </tr>\n",
       "    <tr>\n",
       "      <th>3</th>\n",
       "      <td>65.0</td>\n",
       "      <td>11.651282</td>\n",
       "      <td>3.655490</td>\n",
       "      <td>2.333333</td>\n",
       "      <td>9.333333</td>\n",
       "      <td>11.666667</td>\n",
       "      <td>14.333333</td>\n",
       "      <td>18.666667</td>\n",
       "    </tr>\n",
       "    <tr>\n",
       "      <th>4</th>\n",
       "      <td>27.0</td>\n",
       "      <td>11.728395</td>\n",
       "      <td>3.815216</td>\n",
       "      <td>5.333333</td>\n",
       "      <td>8.666667</td>\n",
       "      <td>12.000000</td>\n",
       "      <td>14.333333</td>\n",
       "      <td>19.333333</td>\n",
       "    </tr>\n",
       "  </tbody>\n",
       "</table>\n",
       "</div>"
      ],
      "text/plain": [
       "           count       mean       std       min       25%        50%  \\\n",
       "studytime                                                              \n",
       "1          105.0  10.253968  4.135918  1.333333  7.666667  10.333333   \n",
       "2          198.0  10.442761  3.380017  2.000000  8.333333  10.333333   \n",
       "3           65.0  11.651282  3.655490  2.333333  9.333333  11.666667   \n",
       "4           27.0  11.728395  3.815216  5.333333  8.666667  12.000000   \n",
       "\n",
       "                 75%        max  \n",
       "studytime                        \n",
       "1          13.000000  18.666667  \n",
       "2          12.666667  18.333333  \n",
       "3          14.333333  18.666667  \n",
       "4          14.333333  19.333333  "
      ]
     },
     "execution_count": 521,
     "metadata": {},
     "output_type": "execute_result"
    }
   ],
   "source": [
    "alcdata[['studytime','G']].groupby(['studytime'])['G'].describe()"
   ]
  },
  {
   "cell_type": "code",
   "execution_count": 522,
   "metadata": {
    "scrolled": true
   },
   "outputs": [
    {
     "data": {
      "text/plain": [
       "<seaborn.axisgrid.FacetGrid at 0x7ff0cca2ada0>"
      ]
     },
     "execution_count": 522,
     "metadata": {},
     "output_type": "execute_result"
    },
    {
     "data": {
      "image/png": "[encoded data removed]",
      "text/plain": [
       "<matplotlib.figure.Figure at 0x7ff0cc9f89b0>"
      ]
     },
     "metadata": {
      "needs_background": "light"
     },
     "output_type": "display_data"
    }
   ],
   "source": [
    "g = sns.FacetGrid(alcdata, col = \"studytime\")\n",
    "g.map(sns.distplot,\"G\")"
   ]
  },
  {
   "cell_type": "markdown",
   "metadata": {},
   "source": [
    "### Interpretation for G(avg grade) and school feature.\n",
    "By observing above distribution plots, grouped data table:<br>\n",
    "-->From distribution plots we can say that, all plots are not same which means we can say that they are G(avg grade) is dependent on studytime.<br>\n",
    "-->From the table we can see the mean of the G(avg grade) for each class is increasing as study time increases. Maximum grade(19.3) student spent more study time(4)."
   ]
  },
  {
   "cell_type": "markdown",
   "metadata": {},
   "source": [
    "### 2. If there is a need for encoding some of the features,  how would you go  about it? \n",
    "Would you consider combining certain encodings together ?\n"
   ]
  },
  {
   "cell_type": "code",
   "execution_count": 523,
   "metadata": {
    "scrolled": false
   },
   "outputs": [
    {
     "name": "stdout",
     "output_type": "stream",
     "text": [
      "school unique_values: ['GP' 'MS'] ,length= 2\n",
      "sex unique_values: ['F' 'M'] ,length= 2\n",
      "age unique_values: [18 17 15 16 19 22 20 21] ,length= 8\n",
      "address unique_values: ['U' 'R'] ,length= 2\n",
      "famsize unique_values: ['GT3' 'LE3'] ,length= 2\n",
      "Pstatus unique_values: ['A' 'T'] ,length= 2\n",
      "Medu unique_values: [4 1 3 2 0] ,length= 5\n",
      "Fedu unique_values: [4 1 2 3 0] ,length= 5\n",
      "Mjob unique_values: ['at_home' 'health' 'other' 'services' 'teacher'] ,length= 5\n",
      "Fjob unique_values: ['teacher' 'other' 'services' 'health' 'at_home'] ,length= 5\n",
      "reason unique_values: ['course' 'other' 'home' 'reputation'] ,length= 4\n",
      "guardian unique_values: ['mother' 'father' 'other'] ,length= 3\n",
      "traveltime unique_values: [2 1 3 4] ,length= 4\n",
      "studytime unique_values: [2 3 1 4] ,length= 4\n",
      "failures unique_values: [0 3 2 1] ,length= 4\n",
      "schoolsup unique_values: ['yes' 'no'] ,length= 2\n",
      "famsup unique_values: ['no' 'yes'] ,length= 2\n",
      "paid unique_values: ['no' 'yes'] ,length= 2\n",
      "activities unique_values: ['no' 'yes'] ,length= 2\n",
      "nursery unique_values: ['yes' 'no'] ,length= 2\n",
      "higher unique_values: ['yes' 'no'] ,length= 2\n",
      "internet unique_values: ['no' 'yes'] ,length= 2\n",
      "romantic unique_values: ['no' 'yes'] ,length= 2\n",
      "famrel unique_values: [4 5 3 1 2] ,length= 5\n",
      "freetime unique_values: [3 2 4 1 5] ,length= 5\n",
      "goout unique_values: [4 3 2 1 5] ,length= 5\n",
      "Dalc unique_values: [1 2 5 3 4] ,length= 5\n",
      "Walc unique_values: [1 3 2 4 5] ,length= 5\n",
      "health unique_values: [3 5 1 2 4] ,length= 5\n",
      "absences unique_values: [ 6  4 10  2  0 16 14  7  8 25 12 54 18 26 20 56 24 28  5 13 15 22  3 21\n",
      "  1 75 30 19  9 11 38 40 23 17] ,length= 34\n",
      "G1 unique_values: [ 5  7 15  6 12 16 14 10 13  8 11  9 17 19 18  4  3] ,length= 17\n",
      "G2 unique_values: [ 6  5  8 14 10 15 12 18 16 13  9 11  7 19 17  4  0] ,length= 17\n",
      "G3 unique_values: [ 6 10 15 11 19  9 12 14 16  5  8 17 18 13 20  7  0  4] ,length= 18\n",
      "G unique_values: [ 5.66666667  5.33333333  8.33333333 14.66666667  8.66666667 15.\n",
      " 11.66666667 17.66666667  9.         11.33333333 14.         10.33333333\n",
      " 15.33333333 13.66666667  9.33333333 12.66666667  7.66666667 11.\n",
      " 10.66666667 16.66666667 16.33333333 10.          7.         13.33333333\n",
      " 12.         18.33333333  9.66666667  7.33333333 19.33333333 12.33333333\n",
      " 15.66666667  6.66666667 16.         14.33333333  6.33333333  5.\n",
      "  8.         17.         13.         17.33333333 18.66666667  3.66666667\n",
      " 18.          4.          2.66666667  3.          3.33333333  1.33333333\n",
      "  1.66666667  4.33333333  2.33333333  6.          4.66666667  2.        ] ,length= 54\n"
     ]
    }
   ],
   "source": [
    "#Checking unique values of each feature.\n",
    "alcdata_copy1 = alcdata\n",
    "for i in alcdata.columns:\n",
    "     print(i,\"unique_values:\",alcdata[i].unique(),\",length=\",alcdata[i].unique().shape[0])"
   ]
  },
  {
   "cell_type": "markdown",
   "metadata": {},
   "source": [
    "### Features to Encode:\n",
    "-->From the above info we can encode the features which take only two unique values ('school','sex','address','famsize','Pstatus','schoolsup', 'famsup', 'paid', 'activities', 'nursery', 'higher', 'internet', 'romantic') by directly mapping to 0 or 1 i.e binary encoding.<br>\n",
    "-->Features \"Mjob\",\"Fjob\",\"reason\",\"guardian\" are converted into numerical by one hot encoding."
   ]
  },
  {
   "cell_type": "code",
   "execution_count": 524,
   "metadata": {},
   "outputs": [],
   "source": [
    "#enter code/answer in this cell. You can add more code/markdown cells below for your answer. \n",
    "alcdata_copy = alcdata\n",
    "alcdata_copy['school'] = alcdata_copy['school'].map({'GP':0, 'MS':1})\n",
    "alcdata_copy['sex'] = alcdata_copy['sex'].map({'F':0, 'M':1})\n",
    "alcdata_copy['address'] = alcdata_copy['address'].map({'U':0, 'R':1})\n",
    "alcdata_copy['famsize'] = alcdata_copy['famsize'].map({'GT3':0, 'LE3':1})\n",
    "alcdata_copy['Pstatus'] = alcdata_copy['Pstatus'].map({'A':0, 'T':1})\n",
    "\n",
    "yes_no_columns = ['schoolsup', 'famsup', 'paid', 'activities', 'nursery', 'higher', 'internet', 'romantic']\n",
    "for i in yes_no_columns:\n",
    "        alcdata_copy[i] = alcdata_copy[i].map({'yes':1, 'no':0})"
   ]
  },
  {
   "cell_type": "code",
   "execution_count": 525,
   "metadata": {
    "scrolled": false
   },
   "outputs": [],
   "source": [
    "#for i in alcdata_copy.columns:\n",
    "    #print(i,\"unique_values:\",alcdata_copy[i].unique(),\",length=\",alcdata_copy[i].unique().shape[0])\n",
    "#    if(alcdata_copy[i].unique().shape[0] == 2):\n",
    "#        alcdata_copy = pd.concat([alcdata_copy, pd.get_dummies(alcdata_copy[i], prefix = i, dtype = int)], axis = 1)\n",
    "#        alcdata_copy.drop([i], axis = 1, inplace = True)\n",
    "#        #print(i,\"unique_values:\",alcdata_copy[i].unique(),\",length=\",alcdata_copy[i].unique().shape[0]) \n",
    "#for i in alcdata_copy.columns:\n",
    "#     print(i,\"unique_values:\",alcdata_copy[i].unique(),\",length=\",alcdata_copy[i].unique().shape[0])"
   ]
  },
  {
   "cell_type": "code",
   "execution_count": 526,
   "metadata": {},
   "outputs": [
    {
     "name": "stdout",
     "output_type": "stream",
     "text": [
      "school unique_values: [0 1] ,length= 2\n",
      "sex unique_values: [0 1] ,length= 2\n",
      "age unique_values: [18 17 15 16 19 22 20 21] ,length= 8\n",
      "address unique_values: [0 1] ,length= 2\n",
      "famsize unique_values: [0 1] ,length= 2\n",
      "Pstatus unique_values: [0 1] ,length= 2\n",
      "Medu unique_values: [4 1 3 2 0] ,length= 5\n",
      "Fedu unique_values: [4 1 2 3 0] ,length= 5\n",
      "traveltime unique_values: [2 1 3 4] ,length= 4\n",
      "studytime unique_values: [2 3 1 4] ,length= 4\n",
      "failures unique_values: [0 3 2 1] ,length= 4\n",
      "schoolsup unique_values: [1 0] ,length= 2\n",
      "famsup unique_values: [0 1] ,length= 2\n",
      "paid unique_values: [0 1] ,length= 2\n",
      "activities unique_values: [0 1] ,length= 2\n",
      "nursery unique_values: [1 0] ,length= 2\n",
      "higher unique_values: [1 0] ,length= 2\n",
      "internet unique_values: [0 1] ,length= 2\n",
      "romantic unique_values: [0 1] ,length= 2\n",
      "famrel unique_values: [4 5 3 1 2] ,length= 5\n",
      "freetime unique_values: [3 2 4 1 5] ,length= 5\n",
      "goout unique_values: [4 3 2 1 5] ,length= 5\n",
      "Dalc unique_values: [1 2 5 3 4] ,length= 5\n",
      "Walc unique_values: [1 3 2 4 5] ,length= 5\n",
      "health unique_values: [3 5 1 2 4] ,length= 5\n",
      "absences unique_values: [ 6  4 10  2  0 16 14  7  8 25 12 54 18 26 20 56 24 28  5 13 15 22  3 21\n",
      "  1 75 30 19  9 11 38 40 23 17] ,length= 34\n",
      "G1 unique_values: [ 5  7 15  6 12 16 14 10 13  8 11  9 17 19 18  4  3] ,length= 17\n",
      "G2 unique_values: [ 6  5  8 14 10 15 12 18 16 13  9 11  7 19 17  4  0] ,length= 17\n",
      "G3 unique_values: [ 6 10 15 11 19  9 12 14 16  5  8 17 18 13 20  7  0  4] ,length= 18\n",
      "G unique_values: [ 5.66666667  5.33333333  8.33333333 14.66666667  8.66666667 15.\n",
      " 11.66666667 17.66666667  9.         11.33333333 14.         10.33333333\n",
      " 15.33333333 13.66666667  9.33333333 12.66666667  7.66666667 11.\n",
      " 10.66666667 16.66666667 16.33333333 10.          7.         13.33333333\n",
      " 12.         18.33333333  9.66666667  7.33333333 19.33333333 12.33333333\n",
      " 15.66666667  6.66666667 16.         14.33333333  6.33333333  5.\n",
      "  8.         17.         13.         17.33333333 18.66666667  3.66666667\n",
      " 18.          4.          2.66666667  3.          3.33333333  1.33333333\n",
      "  1.66666667  4.33333333  2.33333333  6.          4.66666667  2.        ] ,length= 54\n",
      "Mjob_at_home unique_values: [1 0] ,length= 2\n",
      "Mjob_health unique_values: [0 1] ,length= 2\n",
      "Mjob_other unique_values: [0 1] ,length= 2\n",
      "Mjob_services unique_values: [0 1] ,length= 2\n",
      "Mjob_teacher unique_values: [0 1] ,length= 2\n",
      "Fjob_at_home unique_values: [0 1] ,length= 2\n",
      "Fjob_health unique_values: [0 1] ,length= 2\n",
      "Fjob_other unique_values: [0 1] ,length= 2\n",
      "Fjob_services unique_values: [0 1] ,length= 2\n",
      "Fjob_teacher unique_values: [1 0] ,length= 2\n",
      "reason_course unique_values: [1 0] ,length= 2\n",
      "reason_home unique_values: [0 1] ,length= 2\n",
      "reason_other unique_values: [0 1] ,length= 2\n",
      "reason_reputation unique_values: [0 1] ,length= 2\n",
      "guardian_father unique_values: [0 1] ,length= 2\n",
      "guardian_mother unique_values: [1 0] ,length= 2\n",
      "guardian_other unique_values: [0 1] ,length= 2\n"
     ]
    }
   ],
   "source": [
    "object_columns = [\"Mjob\",\"Fjob\",\"reason\",\"guardian\"]\n",
    "for i in object_columns:\n",
    "        alcdata_copy = pd.concat([alcdata_copy,pd.get_dummies(alcdata_copy[i], prefix = i,dtype = int)], axis = 1)\n",
    "        alcdata_copy = alcdata_copy.drop([i],axis = 1)\n",
    "for i in alcdata_copy.columns:\n",
    "     print(i,\"unique_values:\",alcdata_copy[i].unique(),\",length=\",alcdata_copy[i].unique().shape[0])"
   ]
  },
  {
   "cell_type": "code",
   "execution_count": 527,
   "metadata": {
    "scrolled": false
   },
   "outputs": [
    {
     "name": "stdout",
     "output_type": "stream",
     "text": [
      "<class 'pandas.core.frame.DataFrame'>\n",
      "RangeIndex: 395 entries, 0 to 394\n",
      "Data columns (total 47 columns):\n",
      " #   Column             Non-Null Count  Dtype  \n",
      "---  ------             --------------  -----  \n",
      " 0   school             395 non-null    int64  \n",
      " 1   sex                395 non-null    int64  \n",
      " 2   age                395 non-null    int64  \n",
      " 3   address            395 non-null    int64  \n",
      " 4   famsize            395 non-null    int64  \n",
      " 5   Pstatus            395 non-null    int64  \n",
      " 6   Medu               395 non-null    int64  \n",
      " 7   Fedu               395 non-null    int64  \n",
      " 8   traveltime         395 non-null    int64  \n",
      " 9   studytime          395 non-null    int64  \n",
      " 10  failures           395 non-null    int64  \n",
      " 11  schoolsup          395 non-null    int64  \n",
      " 12  famsup             395 non-null    int64  \n",
      " 13  paid               395 non-null    int64  \n",
      " 14  activities         395 non-null    int64  \n",
      " 15  nursery            395 non-null    int64  \n",
      " 16  higher             395 non-null    int64  \n",
      " 17  internet           395 non-null    int64  \n",
      " 18  romantic           395 non-null    int64  \n",
      " 19  famrel             395 non-null    int64  \n",
      " 20  freetime           395 non-null    int64  \n",
      " 21  goout              395 non-null    int64  \n",
      " 22  Dalc               395 non-null    int64  \n",
      " 23  Walc               395 non-null    int64  \n",
      " 24  health             395 non-null    int64  \n",
      " 25  absences           395 non-null    int64  \n",
      " 26  G1                 395 non-null    int64  \n",
      " 27  G2                 395 non-null    int64  \n",
      " 28  G3                 395 non-null    int64  \n",
      " 29  G                  395 non-null    float64\n",
      " 30  Mjob_at_home       395 non-null    int64  \n",
      " 31  Mjob_health        395 non-null    int64  \n",
      " 32  Mjob_other         395 non-null    int64  \n",
      " 33  Mjob_services      395 non-null    int64  \n",
      " 34  Mjob_teacher       395 non-null    int64  \n",
      " 35  Fjob_at_home       395 non-null    int64  \n",
      " 36  Fjob_health        395 non-null    int64  \n",
      " 37  Fjob_other         395 non-null    int64  \n",
      " 38  Fjob_services      395 non-null    int64  \n",
      " 39  Fjob_teacher       395 non-null    int64  \n",
      " 40  reason_course      395 non-null    int64  \n",
      " 41  reason_home        395 non-null    int64  \n",
      " 42  reason_other       395 non-null    int64  \n",
      " 43  reason_reputation  395 non-null    int64  \n",
      " 44  guardian_father    395 non-null    int64  \n",
      " 45  guardian_mother    395 non-null    int64  \n",
      " 46  guardian_other     395 non-null    int64  \n",
      "dtypes: float64(1), int64(46)\n",
      "memory usage: 145.2 KB\n"
     ]
    }
   ],
   "source": [
    "alcdata_copy.info()"
   ]
  },
  {
   "cell_type": "markdown",
   "metadata": {},
   "source": [
    "From the above info we can say that every column is in int type."
   ]
  },
  {
   "cell_type": "markdown",
   "metadata": {},
   "source": [
    "\n",
    "### 3. Try to find out how family relation(famrel) and parents cohabitation(Pstatus) affect grades of students. \n"
   ]
  },
  {
   "cell_type": "code",
   "execution_count": 528,
   "metadata": {},
   "outputs": [],
   "source": [
    "#enter code/answer in this cell. You can add more code/markdown cells below for your answer. \n",
    "#alcdata[\"famrel\"]"
   ]
  },
  {
   "cell_type": "code",
   "execution_count": 529,
   "metadata": {
    "scrolled": false
   },
   "outputs": [
    {
     "data": {
      "text/plain": [
       "<seaborn.axisgrid.FacetGrid at 0x7ff0cc733f28>"
      ]
     },
     "execution_count": 529,
     "metadata": {},
     "output_type": "execute_result"
    },
    {
     "data": {
      "image/png": "[encoded data removed]",
      "text/plain": [
       "<matplotlib.figure.Figure at 0x7ff0cc7561d0>"
      ]
     },
     "metadata": {
      "needs_background": "light"
     },
     "output_type": "display_data"
    }
   ],
   "source": [
    "g=sns.FacetGrid(alcdata, col = \"Pstatus\")\n",
    "g.map(plt.hist,'G')"
   ]
  },
  {
   "cell_type": "markdown",
   "metadata": {},
   "source": [
    "Here Pstatus = 0 mean Patents are apart and Pstatus = 1 means parents are together."
   ]
  },
  {
   "cell_type": "code",
   "execution_count": 530,
   "metadata": {
    "scrolled": false
   },
   "outputs": [
    {
     "data": {
      "text/plain": [
       "<seaborn.axisgrid.FacetGrid at 0x7ff0cc63a5c0>"
      ]
     },
     "execution_count": 530,
     "metadata": {},
     "output_type": "execute_result"
    },
    {
     "data": {
      "image/png": "[encoded data removed]",
      "text/plain": [
       "<matplotlib.figure.Figure at 0x7ff0cc63a1d0>"
      ]
     },
     "metadata": {
      "needs_background": "light"
     },
     "output_type": "display_data"
    }
   ],
   "source": [
    "g=sns.FacetGrid(alcdata, col = \"Pstatus\")\n",
    "g.map(sns.distplot,'G',bins=20)"
   ]
  },
  {
   "cell_type": "code",
   "execution_count": 531,
   "metadata": {},
   "outputs": [
    {
     "data": {
      "text/html": [
       "<div>\n",
       "<style scoped>\n",
       "    .dataframe tbody tr th:only-of-type {\n",
       "        vertical-align: middle;\n",
       "    }\n",
       "\n",
       "    .dataframe tbody tr th {\n",
       "        vertical-align: top;\n",
       "    }\n",
       "\n",
       "    .dataframe thead th {\n",
       "        text-align: right;\n",
       "    }\n",
       "</style>\n",
       "<table border=\"1\" class=\"dataframe\">\n",
       "  <thead>\n",
       "    <tr style=\"text-align: right;\">\n",
       "      <th></th>\n",
       "      <th>count</th>\n",
       "      <th>mean</th>\n",
       "      <th>std</th>\n",
       "      <th>min</th>\n",
       "      <th>25%</th>\n",
       "      <th>50%</th>\n",
       "      <th>75%</th>\n",
       "      <th>max</th>\n",
       "    </tr>\n",
       "    <tr>\n",
       "      <th>Pstatus</th>\n",
       "      <th></th>\n",
       "      <th></th>\n",
       "      <th></th>\n",
       "      <th></th>\n",
       "      <th></th>\n",
       "      <th></th>\n",
       "      <th></th>\n",
       "      <th></th>\n",
       "    </tr>\n",
       "  </thead>\n",
       "  <tbody>\n",
       "    <tr>\n",
       "      <th>0</th>\n",
       "      <td>41.0</td>\n",
       "      <td>11.146341</td>\n",
       "      <td>3.774217</td>\n",
       "      <td>1.333333</td>\n",
       "      <td>9.000000</td>\n",
       "      <td>11.000000</td>\n",
       "      <td>13.000000</td>\n",
       "      <td>18.666667</td>\n",
       "    </tr>\n",
       "    <tr>\n",
       "      <th>1</th>\n",
       "      <td>354.0</td>\n",
       "      <td>10.625235</td>\n",
       "      <td>3.689325</td>\n",
       "      <td>1.666667</td>\n",
       "      <td>8.333333</td>\n",
       "      <td>10.666667</td>\n",
       "      <td>13.333333</td>\n",
       "      <td>19.333333</td>\n",
       "    </tr>\n",
       "  </tbody>\n",
       "</table>\n",
       "</div>"
      ],
      "text/plain": [
       "         count       mean       std       min       25%        50%        75%  \\\n",
       "Pstatus                                                                         \n",
       "0         41.0  11.146341  3.774217  1.333333  9.000000  11.000000  13.000000   \n",
       "1        354.0  10.625235  3.689325  1.666667  8.333333  10.666667  13.333333   \n",
       "\n",
       "               max  \n",
       "Pstatus             \n",
       "0        18.666667  \n",
       "1        19.333333  "
      ]
     },
     "execution_count": 531,
     "metadata": {},
     "output_type": "execute_result"
    }
   ],
   "source": [
    "alcdata[['Pstatus','G']].groupby(['Pstatus'])['G'].describe()"
   ]
  },
  {
   "cell_type": "markdown",
   "metadata": {},
   "source": [
    "### Interpretation of Pstatus and G(avg grade):\n",
    "-->As we can see the distribution plot of grades of students whose parents are together and apart are almost same which means Pstatus doesnot affect G(avg grade) of students.<br>\n",
    "-->From the table we can say mean of grades of these two classes i.e  are almost same."
   ]
  },
  {
   "cell_type": "code",
   "execution_count": 532,
   "metadata": {},
   "outputs": [
    {
     "data": {
      "text/plain": [
       "<seaborn.axisgrid.FacetGrid at 0x7ff0cc5bf748>"
      ]
     },
     "execution_count": 532,
     "metadata": {},
     "output_type": "execute_result"
    },
    {
     "data": {
      "image/png": "[encoded data removed]",
      "text/plain": [
       "<matplotlib.figure.Figure at 0x7ff0cc55e400>"
      ]
     },
     "metadata": {
      "needs_background": "light"
     },
     "output_type": "display_data"
    }
   ],
   "source": [
    "g=sns.FacetGrid(alcdata, col = \"famrel\")\n",
    "g.map(plt.hist,'G',bins=20)"
   ]
  },
  {
   "cell_type": "code",
   "execution_count": 533,
   "metadata": {
    "scrolled": true
   },
   "outputs": [
    {
     "data": {
      "text/plain": [
       "<seaborn.axisgrid.FacetGrid at 0x7ff0cc3a0b00>"
      ]
     },
     "execution_count": 533,
     "metadata": {},
     "output_type": "execute_result"
    },
    {
     "data": {
      "image/png": "[encoded data removed]",
      "text/plain": [
       "<matplotlib.figure.Figure at 0x7ff0cc3af0b8>"
      ]
     },
     "metadata": {
      "needs_background": "light"
     },
     "output_type": "display_data"
    }
   ],
   "source": [
    "g=sns.FacetGrid(alcdata, col = \"famrel\")\n",
    "g.map(sns.distplot,'G',bins=20)"
   ]
  },
  {
   "cell_type": "code",
   "execution_count": 534,
   "metadata": {},
   "outputs": [
    {
     "data": {
      "text/html": [
       "<div>\n",
       "<style scoped>\n",
       "    .dataframe tbody tr th:only-of-type {\n",
       "        vertical-align: middle;\n",
       "    }\n",
       "\n",
       "    .dataframe tbody tr th {\n",
       "        vertical-align: top;\n",
       "    }\n",
       "\n",
       "    .dataframe thead th {\n",
       "        text-align: right;\n",
       "    }\n",
       "</style>\n",
       "<table border=\"1\" class=\"dataframe\">\n",
       "  <thead>\n",
       "    <tr style=\"text-align: right;\">\n",
       "      <th></th>\n",
       "      <th>count</th>\n",
       "      <th>mean</th>\n",
       "      <th>std</th>\n",
       "      <th>min</th>\n",
       "      <th>25%</th>\n",
       "      <th>50%</th>\n",
       "      <th>75%</th>\n",
       "      <th>max</th>\n",
       "    </tr>\n",
       "    <tr>\n",
       "      <th>famrel</th>\n",
       "      <th></th>\n",
       "      <th></th>\n",
       "      <th></th>\n",
       "      <th></th>\n",
       "      <th></th>\n",
       "      <th></th>\n",
       "      <th></th>\n",
       "      <th></th>\n",
       "    </tr>\n",
       "  </thead>\n",
       "  <tbody>\n",
       "    <tr>\n",
       "      <th>1</th>\n",
       "      <td>8.0</td>\n",
       "      <td>10.958333</td>\n",
       "      <td>3.657727</td>\n",
       "      <td>3.666667</td>\n",
       "      <td>10.666667</td>\n",
       "      <td>12.000000</td>\n",
       "      <td>12.416667</td>\n",
       "      <td>15.666667</td>\n",
       "    </tr>\n",
       "    <tr>\n",
       "      <th>2</th>\n",
       "      <td>18.0</td>\n",
       "      <td>10.777778</td>\n",
       "      <td>4.087283</td>\n",
       "      <td>3.666667</td>\n",
       "      <td>7.333333</td>\n",
       "      <td>11.500000</td>\n",
       "      <td>14.916667</td>\n",
       "      <td>16.333333</td>\n",
       "    </tr>\n",
       "    <tr>\n",
       "      <th>3</th>\n",
       "      <td>68.0</td>\n",
       "      <td>10.387255</td>\n",
       "      <td>3.617541</td>\n",
       "      <td>3.666667</td>\n",
       "      <td>7.916667</td>\n",
       "      <td>10.000000</td>\n",
       "      <td>13.000000</td>\n",
       "      <td>18.666667</td>\n",
       "    </tr>\n",
       "    <tr>\n",
       "      <th>4</th>\n",
       "      <td>195.0</td>\n",
       "      <td>10.664957</td>\n",
       "      <td>3.614198</td>\n",
       "      <td>1.333333</td>\n",
       "      <td>8.500000</td>\n",
       "      <td>10.666667</td>\n",
       "      <td>13.000000</td>\n",
       "      <td>19.333333</td>\n",
       "    </tr>\n",
       "    <tr>\n",
       "      <th>5</th>\n",
       "      <td>106.0</td>\n",
       "      <td>10.855346</td>\n",
       "      <td>3.886490</td>\n",
       "      <td>1.666667</td>\n",
       "      <td>9.000000</td>\n",
       "      <td>10.500000</td>\n",
       "      <td>13.666667</td>\n",
       "      <td>18.666667</td>\n",
       "    </tr>\n",
       "  </tbody>\n",
       "</table>\n",
       "</div>"
      ],
      "text/plain": [
       "        count       mean       std       min        25%        50%        75%  \\\n",
       "famrel                                                                          \n",
       "1         8.0  10.958333  3.657727  3.666667  10.666667  12.000000  12.416667   \n",
       "2        18.0  10.777778  4.087283  3.666667   7.333333  11.500000  14.916667   \n",
       "3        68.0  10.387255  3.617541  3.666667   7.916667  10.000000  13.000000   \n",
       "4       195.0  10.664957  3.614198  1.333333   8.500000  10.666667  13.000000   \n",
       "5       106.0  10.855346  3.886490  1.666667   9.000000  10.500000  13.666667   \n",
       "\n",
       "              max  \n",
       "famrel             \n",
       "1       15.666667  \n",
       "2       16.333333  \n",
       "3       18.666667  \n",
       "4       19.333333  \n",
       "5       18.666667  "
      ]
     },
     "execution_count": 534,
     "metadata": {},
     "output_type": "execute_result"
    }
   ],
   "source": [
    "alcdata[['famrel','G']].groupby(['famrel'])['G'].describe()"
   ]
  },
  {
   "cell_type": "markdown",
   "metadata": {},
   "source": [
    "### Interpretation of Pstatus and G(avg grade):\n",
    "-->From the above distribution plots and table we can say that for all kinds of family relations(numeric: from 1 - very bad to 5 - excellent) G(avg grade) have almosst same distribution which means famrel doesnot effet G(avg grade) of students."
   ]
  },
  {
   "cell_type": "code",
   "execution_count": 535,
   "metadata": {},
   "outputs": [
    {
     "data": {
      "text/plain": [
       "<seaborn.axisgrid.FacetGrid at 0x7ff0cc5908d0>"
      ]
     },
     "execution_count": 535,
     "metadata": {},
     "output_type": "execute_result"
    },
    {
     "data": {
      "image/png": "[encoded data removed]",
      "text/plain": [
       "<matplotlib.figure.Figure at 0x7ff0cc590828>"
      ]
     },
     "metadata": {
      "needs_background": "light"
     },
     "output_type": "display_data"
    }
   ],
   "source": [
    "g=sns.FacetGrid(alcdata,col = \"famrel\",row = \"Pstatus\")\n",
    "g.map(sns.distplot,'G',bins=20)"
   ]
  },
  {
   "cell_type": "markdown",
   "metadata": {},
   "source": [
    "### Interpretation of G(avg grade) and (Pstatus,famrel) features:\n",
    "(Here Pstatus = 0 mean Patents are apart and Pstatus = 1 means parents are together.)\n",
    "Distribution plot of each category of (Pstatus and famrel):\n",
    "-->From this plots we can say that all categories have same distribution except for (Pstatus=0,famrel=1) because only one student was there which we can neglect.<br>"
   ]
  },
  {
   "cell_type": "markdown",
   "metadata": {},
   "source": [
    "\n",
    "### 4. Figure out which features in the data are skewed, and propose a way to remove skew from all such columns. "
   ]
  },
  {
   "cell_type": "code",
   "execution_count": 536,
   "metadata": {
    "scrolled": true
   },
   "outputs": [
    {
     "name": "stdout",
     "output_type": "stream",
     "text": [
      "absences      3.657622\n",
      "school        2.391393\n",
      "failures      2.377951\n",
      "schoolsup     2.212093\n",
      "Dalc          2.182434\n",
      "traveltime    1.600920\n",
      "address       1.332397\n",
      "famsize       0.933063\n",
      "romantic      0.703083\n",
      "studytime     0.629739\n",
      "Walc          0.609634\n",
      "age           0.464498\n",
      "G1            0.239699\n",
      "paid          0.167675\n",
      "goout         0.116060\n",
      "sex           0.106480\n",
      "Fedu         -0.031552\n",
      "activities   -0.035449\n",
      "G            -0.140013\n",
      "freetime     -0.162730\n",
      "Medu         -0.317170\n",
      "G2           -0.430004\n",
      "famsup       -0.462526\n",
      "health       -0.492723\n",
      "G3           -0.729887\n",
      "famrel       -0.948263\n",
      "nursery      -1.460995\n",
      "internet     -1.784785\n",
      "Pstatus      -2.598070\n",
      "higher       -4.099187\n",
      "dtype: float64\n"
     ]
    }
   ],
   "source": [
    "from scipy.stats import skew\n",
    "nonobject_features = alcdata.dtypes[alcdata.dtypes != 'object'].index\n",
    "skew_features = alcdata[nonobject_features].apply(lambda x : skew(x)).sort_values(ascending=False)\n",
    "print(skew_features)"
   ]
  },
  {
   "cell_type": "code",
   "execution_count": 537,
   "metadata": {
    "scrolled": true
   },
   "outputs": [
    {
     "data": {
      "text/plain": [
       "Text(0,0.5,'freq')"
      ]
     },
     "execution_count": 537,
     "metadata": {},
     "output_type": "execute_result"
    },
    {
     "data": {
      "image/png": "[encoded data removed]",
      "text/plain": [
       "<matplotlib.figure.Figure at 0x7ff0e1274e48>"
      ]
     },
     "metadata": {
      "needs_background": "light"
     },
     "output_type": "display_data"
    }
   ],
   "source": [
    "from scipy.stats import norm\n",
    "fig1 = plt.figure()\n",
    "sns.distplot(alcdata[\"G\"])\n",
    "plt.ylabel('freq')"
   ]
  },
  {
   "cell_type": "markdown",
   "metadata": {},
   "source": [
    "-->From the graph we can say that data Grades are not highly skewed.<br>\n",
    "-->If data is skewed we can remove it by some appropriate non linear function.<br>\n",
    "-->Remaining columns are all categorical which means we cant define distribution to that features so we cant define skew to that data."
   ]
  },
  {
   "cell_type": "markdown",
   "metadata": {},
   "source": [
    "# Part - 2\n",
    "## FIFA 2019  Data\n"
   ]
  },
  {
   "cell_type": "markdown",
   "metadata": {},
   "source": [
    "### 1. Which clubs are the most economical? How did you decide that?"
   ]
  },
  {
   "cell_type": "code",
   "execution_count": 538,
   "metadata": {},
   "outputs": [],
   "source": [
    "fifadata = pd.read_csv(\"data.csv\")"
   ]
  },
  {
   "cell_type": "code",
   "execution_count": 539,
   "metadata": {},
   "outputs": [
    {
     "data": {
      "text/html": [
       "<div>\n",
       "<style scoped>\n",
       "    .dataframe tbody tr th:only-of-type {\n",
       "        vertical-align: middle;\n",
       "    }\n",
       "\n",
       "    .dataframe tbody tr th {\n",
       "        vertical-align: top;\n",
       "    }\n",
       "\n",
       "    .dataframe thead th {\n",
       "        text-align: right;\n",
       "    }\n",
       "</style>\n",
       "<table border=\"1\" class=\"dataframe\">\n",
       "  <thead>\n",
       "    <tr style=\"text-align: right;\">\n",
       "      <th></th>\n",
       "      <th>Unnamed: 0</th>\n",
       "      <th>ID</th>\n",
       "      <th>Age</th>\n",
       "      <th>Overall</th>\n",
       "      <th>Potential</th>\n",
       "      <th>Special</th>\n",
       "      <th>International Reputation</th>\n",
       "      <th>Weak Foot</th>\n",
       "      <th>Skill Moves</th>\n",
       "      <th>Jersey Number</th>\n",
       "      <th>...</th>\n",
       "      <th>Penalties</th>\n",
       "      <th>Composure</th>\n",
       "      <th>Marking</th>\n",
       "      <th>StandingTackle</th>\n",
       "      <th>SlidingTackle</th>\n",
       "      <th>GKDiving</th>\n",
       "      <th>GKHandling</th>\n",
       "      <th>GKKicking</th>\n",
       "      <th>GKPositioning</th>\n",
       "      <th>GKReflexes</th>\n",
       "    </tr>\n",
       "  </thead>\n",
       "  <tbody>\n",
       "    <tr>\n",
       "      <th>count</th>\n",
       "      <td>18207.000000</td>\n",
       "      <td>18207.000000</td>\n",
       "      <td>18207.000000</td>\n",
       "      <td>18207.000000</td>\n",
       "      <td>18207.000000</td>\n",
       "      <td>18207.000000</td>\n",
       "      <td>18159.000000</td>\n",
       "      <td>18159.000000</td>\n",
       "      <td>18159.000000</td>\n",
       "      <td>18147.000000</td>\n",
       "      <td>...</td>\n",
       "      <td>18159.000000</td>\n",
       "      <td>18159.000000</td>\n",
       "      <td>18159.000000</td>\n",
       "      <td>18159.000000</td>\n",
       "      <td>18159.000000</td>\n",
       "      <td>18159.000000</td>\n",
       "      <td>18159.000000</td>\n",
       "      <td>18159.000000</td>\n",
       "      <td>18159.000000</td>\n",
       "      <td>18159.000000</td>\n",
       "    </tr>\n",
       "    <tr>\n",
       "      <th>mean</th>\n",
       "      <td>9103.000000</td>\n",
       "      <td>214298.338606</td>\n",
       "      <td>25.122206</td>\n",
       "      <td>66.238699</td>\n",
       "      <td>71.307299</td>\n",
       "      <td>1597.809908</td>\n",
       "      <td>1.113222</td>\n",
       "      <td>2.947299</td>\n",
       "      <td>2.361308</td>\n",
       "      <td>19.546096</td>\n",
       "      <td>...</td>\n",
       "      <td>48.548598</td>\n",
       "      <td>58.648274</td>\n",
       "      <td>47.281623</td>\n",
       "      <td>47.697836</td>\n",
       "      <td>45.661435</td>\n",
       "      <td>16.616223</td>\n",
       "      <td>16.391596</td>\n",
       "      <td>16.232061</td>\n",
       "      <td>16.388898</td>\n",
       "      <td>16.710887</td>\n",
       "    </tr>\n",
       "    <tr>\n",
       "      <th>std</th>\n",
       "      <td>5256.052511</td>\n",
       "      <td>29965.244204</td>\n",
       "      <td>4.669943</td>\n",
       "      <td>6.908930</td>\n",
       "      <td>6.136496</td>\n",
       "      <td>272.586016</td>\n",
       "      <td>0.394031</td>\n",
       "      <td>0.660456</td>\n",
       "      <td>0.756164</td>\n",
       "      <td>15.947765</td>\n",
       "      <td>...</td>\n",
       "      <td>15.704053</td>\n",
       "      <td>11.436133</td>\n",
       "      <td>19.904397</td>\n",
       "      <td>21.664004</td>\n",
       "      <td>21.289135</td>\n",
       "      <td>17.695349</td>\n",
       "      <td>16.906900</td>\n",
       "      <td>16.502864</td>\n",
       "      <td>17.034669</td>\n",
       "      <td>17.955119</td>\n",
       "    </tr>\n",
       "    <tr>\n",
       "      <th>min</th>\n",
       "      <td>0.000000</td>\n",
       "      <td>16.000000</td>\n",
       "      <td>16.000000</td>\n",
       "      <td>46.000000</td>\n",
       "      <td>48.000000</td>\n",
       "      <td>731.000000</td>\n",
       "      <td>1.000000</td>\n",
       "      <td>1.000000</td>\n",
       "      <td>1.000000</td>\n",
       "      <td>1.000000</td>\n",
       "      <td>...</td>\n",
       "      <td>5.000000</td>\n",
       "      <td>3.000000</td>\n",
       "      <td>3.000000</td>\n",
       "      <td>2.000000</td>\n",
       "      <td>3.000000</td>\n",
       "      <td>1.000000</td>\n",
       "      <td>1.000000</td>\n",
       "      <td>1.000000</td>\n",
       "      <td>1.000000</td>\n",
       "      <td>1.000000</td>\n",
       "    </tr>\n",
       "    <tr>\n",
       "      <th>25%</th>\n",
       "      <td>4551.500000</td>\n",
       "      <td>200315.500000</td>\n",
       "      <td>21.000000</td>\n",
       "      <td>62.000000</td>\n",
       "      <td>67.000000</td>\n",
       "      <td>1457.000000</td>\n",
       "      <td>1.000000</td>\n",
       "      <td>3.000000</td>\n",
       "      <td>2.000000</td>\n",
       "      <td>8.000000</td>\n",
       "      <td>...</td>\n",
       "      <td>39.000000</td>\n",
       "      <td>51.000000</td>\n",
       "      <td>30.000000</td>\n",
       "      <td>27.000000</td>\n",
       "      <td>24.000000</td>\n",
       "      <td>8.000000</td>\n",
       "      <td>8.000000</td>\n",
       "      <td>8.000000</td>\n",
       "      <td>8.000000</td>\n",
       "      <td>8.000000</td>\n",
       "    </tr>\n",
       "    <tr>\n",
       "      <th>50%</th>\n",
       "      <td>9103.000000</td>\n",
       "      <td>221759.000000</td>\n",
       "      <td>25.000000</td>\n",
       "      <td>66.000000</td>\n",
       "      <td>71.000000</td>\n",
       "      <td>1635.000000</td>\n",
       "      <td>1.000000</td>\n",
       "      <td>3.000000</td>\n",
       "      <td>2.000000</td>\n",
       "      <td>17.000000</td>\n",
       "      <td>...</td>\n",
       "      <td>49.000000</td>\n",
       "      <td>60.000000</td>\n",
       "      <td>53.000000</td>\n",
       "      <td>55.000000</td>\n",
       "      <td>52.000000</td>\n",
       "      <td>11.000000</td>\n",
       "      <td>11.000000</td>\n",
       "      <td>11.000000</td>\n",
       "      <td>11.000000</td>\n",
       "      <td>11.000000</td>\n",
       "    </tr>\n",
       "    <tr>\n",
       "      <th>75%</th>\n",
       "      <td>13654.500000</td>\n",
       "      <td>236529.500000</td>\n",
       "      <td>28.000000</td>\n",
       "      <td>71.000000</td>\n",
       "      <td>75.000000</td>\n",
       "      <td>1787.000000</td>\n",
       "      <td>1.000000</td>\n",
       "      <td>3.000000</td>\n",
       "      <td>3.000000</td>\n",
       "      <td>26.000000</td>\n",
       "      <td>...</td>\n",
       "      <td>60.000000</td>\n",
       "      <td>67.000000</td>\n",
       "      <td>64.000000</td>\n",
       "      <td>66.000000</td>\n",
       "      <td>64.000000</td>\n",
       "      <td>14.000000</td>\n",
       "      <td>14.000000</td>\n",
       "      <td>14.000000</td>\n",
       "      <td>14.000000</td>\n",
       "      <td>14.000000</td>\n",
       "    </tr>\n",
       "    <tr>\n",
       "      <th>max</th>\n",
       "      <td>18206.000000</td>\n",
       "      <td>246620.000000</td>\n",
       "      <td>45.000000</td>\n",
       "      <td>94.000000</td>\n",
       "      <td>95.000000</td>\n",
       "      <td>2346.000000</td>\n",
       "      <td>5.000000</td>\n",
       "      <td>5.000000</td>\n",
       "      <td>5.000000</td>\n",
       "      <td>99.000000</td>\n",
       "      <td>...</td>\n",
       "      <td>92.000000</td>\n",
       "      <td>96.000000</td>\n",
       "      <td>94.000000</td>\n",
       "      <td>93.000000</td>\n",
       "      <td>91.000000</td>\n",
       "      <td>90.000000</td>\n",
       "      <td>92.000000</td>\n",
       "      <td>91.000000</td>\n",
       "      <td>90.000000</td>\n",
       "      <td>94.000000</td>\n",
       "    </tr>\n",
       "  </tbody>\n",
       "</table>\n",
       "<p>8 rows × 44 columns</p>\n",
       "</div>"
      ],
      "text/plain": [
       "         Unnamed: 0             ID           Age       Overall     Potential  \\\n",
       "count  18207.000000   18207.000000  18207.000000  18207.000000  18207.000000   \n",
       "mean    9103.000000  214298.338606     25.122206     66.238699     71.307299   \n",
       "std     5256.052511   29965.244204      4.669943      6.908930      6.136496   \n",
       "min        0.000000      16.000000     16.000000     46.000000     48.000000   \n",
       "25%     4551.500000  200315.500000     21.000000     62.000000     67.000000   \n",
       "50%     9103.000000  221759.000000     25.000000     66.000000     71.000000   \n",
       "75%    13654.500000  236529.500000     28.000000     71.000000     75.000000   \n",
       "max    18206.000000  246620.000000     45.000000     94.000000     95.000000   \n",
       "\n",
       "            Special  International Reputation     Weak Foot   Skill Moves  \\\n",
       "count  18207.000000              18159.000000  18159.000000  18159.000000   \n",
       "mean    1597.809908                  1.113222      2.947299      2.361308   \n",
       "std      272.586016                  0.394031      0.660456      0.756164   \n",
       "min      731.000000                  1.000000      1.000000      1.000000   \n",
       "25%     1457.000000                  1.000000      3.000000      2.000000   \n",
       "50%     1635.000000                  1.000000      3.000000      2.000000   \n",
       "75%     1787.000000                  1.000000      3.000000      3.000000   \n",
       "max     2346.000000                  5.000000      5.000000      5.000000   \n",
       "\n",
       "       Jersey Number  ...     Penalties     Composure       Marking  \\\n",
       "count   18147.000000  ...  18159.000000  18159.000000  18159.000000   \n",
       "mean       19.546096  ...     48.548598     58.648274     47.281623   \n",
       "std        15.947765  ...     15.704053     11.436133     19.904397   \n",
       "min         1.000000  ...      5.000000      3.000000      3.000000   \n",
       "25%         8.000000  ...     39.000000     51.000000     30.000000   \n",
       "50%        17.000000  ...     49.000000     60.000000     53.000000   \n",
       "75%        26.000000  ...     60.000000     67.000000     64.000000   \n",
       "max        99.000000  ...     92.000000     96.000000     94.000000   \n",
       "\n",
       "       StandingTackle  SlidingTackle      GKDiving    GKHandling  \\\n",
       "count    18159.000000   18159.000000  18159.000000  18159.000000   \n",
       "mean        47.697836      45.661435     16.616223     16.391596   \n",
       "std         21.664004      21.289135     17.695349     16.906900   \n",
       "min          2.000000       3.000000      1.000000      1.000000   \n",
       "25%         27.000000      24.000000      8.000000      8.000000   \n",
       "50%         55.000000      52.000000     11.000000     11.000000   \n",
       "75%         66.000000      64.000000     14.000000     14.000000   \n",
       "max         93.000000      91.000000     90.000000     92.000000   \n",
       "\n",
       "          GKKicking  GKPositioning    GKReflexes  \n",
       "count  18159.000000   18159.000000  18159.000000  \n",
       "mean      16.232061      16.388898     16.710887  \n",
       "std       16.502864      17.034669     17.955119  \n",
       "min        1.000000       1.000000      1.000000  \n",
       "25%        8.000000       8.000000      8.000000  \n",
       "50%       11.000000      11.000000     11.000000  \n",
       "75%       14.000000      14.000000     14.000000  \n",
       "max       91.000000      90.000000     94.000000  \n",
       "\n",
       "[8 rows x 44 columns]"
      ]
     },
     "execution_count": 539,
     "metadata": {},
     "output_type": "execute_result"
    }
   ],
   "source": [
    "fifadata.describe()"
   ]
  },
  {
   "cell_type": "code",
   "execution_count": 540,
   "metadata": {
    "scrolled": false
   },
   "outputs": [
    {
     "name": "stdout",
     "output_type": "stream",
     "text": [
      "<class 'pandas.core.frame.DataFrame'>\n",
      "RangeIndex: 18207 entries, 0 to 18206\n",
      "Data columns (total 89 columns):\n",
      " #   Column                    Non-Null Count  Dtype  \n",
      "---  ------                    --------------  -----  \n",
      " 0   Unnamed: 0                18207 non-null  int64  \n",
      " 1   ID                        18207 non-null  int64  \n",
      " 2   Name                      18207 non-null  object \n",
      " 3   Age                       18207 non-null  int64  \n",
      " 4   Photo                     18207 non-null  object \n",
      " 5   Nationality               18207 non-null  object \n",
      " 6   Flag                      18207 non-null  object \n",
      " 7   Overall                   18207 non-null  int64  \n",
      " 8   Potential                 18207 non-null  int64  \n",
      " 9   Club                      17966 non-null  object \n",
      " 10  Club Logo                 18207 non-null  object \n",
      " 11  Value                     18207 non-null  object \n",
      " 12  Wage                      18207 non-null  object \n",
      " 13  Special                   18207 non-null  int64  \n",
      " 14  Preferred Foot            18159 non-null  object \n",
      " 15  International Reputation  18159 non-null  float64\n",
      " 16  Weak Foot                 18159 non-null  float64\n",
      " 17  Skill Moves               18159 non-null  float64\n",
      " 18  Work Rate                 18159 non-null  object \n",
      " 19  Body Type                 18159 non-null  object \n",
      " 20  Real Face                 18159 non-null  object \n",
      " 21  Position                  18147 non-null  object \n",
      " 22  Jersey Number             18147 non-null  float64\n",
      " 23  Joined                    16654 non-null  object \n",
      " 24  Loaned From               1264 non-null   object \n",
      " 25  Contract Valid Until      17918 non-null  object \n",
      " 26  Height                    18159 non-null  object \n",
      " 27  Weight                    18159 non-null  object \n",
      " 28  LS                        16122 non-null  object \n",
      " 29  ST                        16122 non-null  object \n",
      " 30  RS                        16122 non-null  object \n",
      " 31  LW                        16122 non-null  object \n",
      " 32  LF                        16122 non-null  object \n",
      " 33  CF                        16122 non-null  object \n",
      " 34  RF                        16122 non-null  object \n",
      " 35  RW                        16122 non-null  object \n",
      " 36  LAM                       16122 non-null  object \n",
      " 37  CAM                       16122 non-null  object \n",
      " 38  RAM                       16122 non-null  object \n",
      " 39  LM                        16122 non-null  object \n",
      " 40  LCM                       16122 non-null  object \n",
      " 41  CM                        16122 non-null  object \n",
      " 42  RCM                       16122 non-null  object \n",
      " 43  RM                        16122 non-null  object \n",
      " 44  LWB                       16122 non-null  object \n",
      " 45  LDM                       16122 non-null  object \n",
      " 46  CDM                       16122 non-null  object \n",
      " 47  RDM                       16122 non-null  object \n",
      " 48  RWB                       16122 non-null  object \n",
      " 49  LB                        16122 non-null  object \n",
      " 50  LCB                       16122 non-null  object \n",
      " 51  CB                        16122 non-null  object \n",
      " 52  RCB                       16122 non-null  object \n",
      " 53  RB                        16122 non-null  object \n",
      " 54  Crossing                  18159 non-null  float64\n",
      " 55  Finishing                 18159 non-null  float64\n",
      " 56  HeadingAccuracy           18159 non-null  float64\n",
      " 57  ShortPassing              18159 non-null  float64\n",
      " 58  Volleys                   18159 non-null  float64\n",
      " 59  Dribbling                 18159 non-null  float64\n",
      " 60  Curve                     18159 non-null  float64\n",
      " 61  FKAccuracy                18159 non-null  float64\n",
      " 62  LongPassing               18159 non-null  float64\n",
      " 63  BallControl               18159 non-null  float64\n",
      " 64  Acceleration              18159 non-null  float64\n",
      " 65  SprintSpeed               18159 non-null  float64\n",
      " 66  Agility                   18159 non-null  float64\n",
      " 67  Reactions                 18159 non-null  float64\n",
      " 68  Balance                   18159 non-null  float64\n",
      " 69  ShotPower                 18159 non-null  float64\n",
      " 70  Jumping                   18159 non-null  float64\n",
      " 71  Stamina                   18159 non-null  float64\n",
      " 72  Strength                  18159 non-null  float64\n",
      " 73  LongShots                 18159 non-null  float64\n",
      " 74  Aggression                18159 non-null  float64\n",
      " 75  Interceptions             18159 non-null  float64\n",
      " 76  Positioning               18159 non-null  float64\n",
      " 77  Vision                    18159 non-null  float64\n",
      " 78  Penalties                 18159 non-null  float64\n",
      " 79  Composure                 18159 non-null  float64\n",
      " 80  Marking                   18159 non-null  float64\n",
      " 81  StandingTackle            18159 non-null  float64\n",
      " 82  SlidingTackle             18159 non-null  float64\n",
      " 83  GKDiving                  18159 non-null  float64\n",
      " 84  GKHandling                18159 non-null  float64\n",
      " 85  GKKicking                 18159 non-null  float64\n",
      " 86  GKPositioning             18159 non-null  float64\n",
      " 87  GKReflexes                18159 non-null  float64\n",
      " 88  Release Clause            16643 non-null  object \n",
      "dtypes: float64(38), int64(6), object(45)\n",
      "memory usage: 12.4+ MB\n"
     ]
    }
   ],
   "source": [
    "fifadata.info()"
   ]
  },
  {
   "cell_type": "code",
   "execution_count": 541,
   "metadata": {},
   "outputs": [
    {
     "data": {
      "text/plain": [
       "Float64Index([2021.0, 2022.0, 2022.0, 2020.0, 2023.0, 2020.0, 2020.0, 2021.0,\n",
       "              2020.0, 2021.0,\n",
       "              ...\n",
       "              2018.0, 2021.0, 2021.0, 2019.0, 2018.0, 2019.0, 2020.0, 2021.0,\n",
       "              2019.0, 2019.0],\n",
       "             dtype='float64', name='Contract Valid Until', length=18207)"
      ]
     },
     "execution_count": 541,
     "metadata": {},
     "output_type": "execute_result"
    }
   ],
   "source": [
    "pd.DatetimeIndex(fifadata['Contract Valid Until']).year.astype('float')"
   ]
  },
  {
   "cell_type": "code",
   "execution_count": 542,
   "metadata": {
    "scrolled": true
   },
   "outputs": [
    {
     "data": {
      "text/plain": [
       "Float64Index([2004.0, 2018.0, 2017.0, 2011.0, 2015.0, 2012.0, 2012.0, 2014.0,\n",
       "              2005.0, 2014.0,\n",
       "              ...\n",
       "              2018.0, 2018.0, 2018.0, 2015.0, 2018.0, 2017.0, 2018.0, 2017.0,\n",
       "              2018.0, 2018.0],\n",
       "             dtype='float64', name='Joined', length=18207)"
      ]
     },
     "execution_count": 542,
     "metadata": {},
     "output_type": "execute_result"
    }
   ],
   "source": [
    "pd.DatetimeIndex(fifadata['Joined']).year.astype('float')"
   ]
  },
  {
   "cell_type": "code",
   "execution_count": 543,
   "metadata": {},
   "outputs": [],
   "source": [
    "fifadata_copy = fifadata\n",
    "fifadata_copy['Contract_Valid_years'] = pd.DatetimeIndex(fifadata['Contract Valid Until']).year.astype('float')-pd.DatetimeIndex(fifadata['Joined']).year.astype('float')"
   ]
  },
  {
   "cell_type": "markdown",
   "metadata": {},
   "source": [
    "fifadata_copy['Contract_Valid_years'] says how many years player belongs to particular club."
   ]
  },
  {
   "cell_type": "code",
   "execution_count": 544,
   "metadata": {
    "scrolled": true
   },
   "outputs": [],
   "source": [
    "#Convert function used to convert given money in string type to int type.\n",
    "def convert(x):\n",
    "    y = x.replace('€', '')\n",
    "    if 'K' in y:\n",
    "        y = float(y.replace('K', ''))*1000\n",
    "    elif 'M' in y:\n",
    "        y = float(y.replace('M', ''))*1000000\n",
    "    return float(y)"
   ]
  },
  {
   "cell_type": "code",
   "execution_count": 545,
   "metadata": {
    "scrolled": true
   },
   "outputs": [],
   "source": [
    "#Using Convert(x) function to convert \"Value\" and \"Wage\". (Here Value is interpreted as cost of the player)\n",
    "fifadata_copy['Value'] = fifadata_copy['Value'].apply(lambda x: convert(x))\n",
    "fifadata_copy['Wage'] = fifadata_copy['Wage'].apply(lambda x: convert(x))\n",
    "fifadata_copy['Value'] = fifadata_copy['Value'].fillna(0)\n",
    "fifadata_copy['Wage'] = fifadata_copy['Wage'].fillna(0)"
   ]
  },
  {
   "cell_type": "code",
   "execution_count": 546,
   "metadata": {},
   "outputs": [
    {
     "data": {
      "text/plain": [
       "0        120105000.0\n",
       "1         78620000.0\n",
       "2        119950000.0\n",
       "3         74340000.0\n",
       "4        104840000.0\n",
       "            ...     \n",
       "18202        62000.0\n",
       "18203        62000.0\n",
       "18204        64000.0\n",
       "18205        61000.0\n",
       "18206        61000.0\n",
       "Name: amount_spent, Length: 18207, dtype: float64"
      ]
     },
     "execution_count": 546,
     "metadata": {},
     "output_type": "execute_result"
    }
   ],
   "source": [
    "#Amount_spent by club on player is Value+(Wage)*(no of years contract valid).\n",
    "fifadata_copy['amount_spent'] = fifadata_copy['Value'] + (fifadata_copy['Wage']*fifadata_copy['Contract_Valid_years'])\n",
    "fifadata_copy['amount_spent']"
   ]
  },
  {
   "cell_type": "code",
   "execution_count": 547,
   "metadata": {},
   "outputs": [
    {
     "data": {
      "text/plain": [
       "0        1.277713e+06\n",
       "1        8.363830e+05\n",
       "2        1.303804e+06\n",
       "3        8.169231e+05\n",
       "4        1.152088e+06\n",
       "             ...     \n",
       "18202    1.319149e+03\n",
       "18203    1.319149e+03\n",
       "18204    1.361702e+03\n",
       "18205    1.297872e+03\n",
       "18206    1.326087e+03\n",
       "Name: eco_metric, Length: 18207, dtype: float64"
      ]
     },
     "execution_count": 547,
     "metadata": {},
     "output_type": "execute_result"
    }
   ],
   "source": [
    "#economical metric for a player is (amount_spent/Overall performance).\n",
    "fifadata_copy['eco_metric'] = (fifadata_copy['amount_spent'] / fifadata_copy['Overall'])\n",
    "fifadata_copy['eco_metric']"
   ]
  },
  {
   "cell_type": "code",
   "execution_count": 548,
   "metadata": {
    "scrolled": true
   },
   "outputs": [
    {
     "data": {
      "text/plain": [
       "Club\n",
       "Juventus             338711.778786\n",
       "Real Madrid          323724.009096\n",
       "FC Barcelona         313734.754088\n",
       "Manchester City      287741.857750\n",
       "FC Bayern München    262787.970852\n",
       "                         ...      \n",
       "Morecambe              2744.216268\n",
       "Derry City             2590.829418\n",
       "Bohemian FC            2282.001132\n",
       "Limerick FC            1938.863428\n",
       "Bray Wanderers         1562.703825\n",
       "Name: mean, Length: 651, dtype: float64"
      ]
     },
     "execution_count": 548,
     "metadata": {},
     "output_type": "execute_result"
    }
   ],
   "source": [
    "club_eco = fifadata_copy[[\"Club\", \"eco_metric\"]].groupby(['Club'])\n",
    "club_eco[\"eco_metric\"].describe()['mean'].sort_values(ascending = False)"
   ]
  },
  {
   "cell_type": "markdown",
   "metadata": {},
   "source": [
    "### Reason:\n",
    "-->To say whether Club is more economical, we can take eco_metric i.e amount_spent/Overall performance of each player of that club and take mean.<br>\n",
    "-->As economic means giving good value or return in relation to the money, time, or effort expended I took amount spent on the player and his overall performance as metrics to calculate.\n",
    "### Top 5 Economical Clubs:\n",
    "-->From the above table we can say that Juventus, Real Madrid, FC Barcelona, Manchester City, FC Bayern München are more economical."
   ]
  },
  {
   "cell_type": "markdown",
   "metadata": {},
   "source": [
    "### 2. What is the relationship between age and individual potential of the player? How does age influence the players' value? At what age does the player exhibit peak pace ?"
   ]
  },
  {
   "cell_type": "code",
   "execution_count": 549,
   "metadata": {},
   "outputs": [
    {
     "data": {
      "text/plain": [
       "array([31, 33, 26, 27, 32, 25, 29, 28, 24, 30, 19, 40, 22, 23, 34, 35, 36,\n",
       "       37, 21, 18, 20, 39, 41, 17, 38, 45, 42, 16, 44])"
      ]
     },
     "execution_count": 549,
     "metadata": {},
     "output_type": "execute_result"
    }
   ],
   "source": [
    "#enter code/answer in this cell. You can add more code/markdown cells below for your answer. \n",
    "fifadata_copy[\"Age\"].unique()\n",
    "#fifadata[\"Age\"]"
   ]
  },
  {
   "cell_type": "code",
   "execution_count": 550,
   "metadata": {
    "scrolled": true
   },
   "outputs": [
    {
     "data": {
      "text/plain": [
       "array([94, 93, 92, 91, 90, 89, 95, 88, 87, 86, 85, 84, 83, 82, 81, 80, 79,\n",
       "       78, 77, 76, 75, 74, 73, 72, 71, 70, 69, 68, 67, 66, 65, 64, 63, 62,\n",
       "       61, 60, 59, 58, 57, 56, 55, 54, 53, 52, 51, 50, 48])"
      ]
     },
     "execution_count": 550,
     "metadata": {},
     "output_type": "execute_result"
    }
   ],
   "source": [
    "fifadata_copy[\"Potential\"].unique()\n",
    "#fifadata[\"Potential\"]"
   ]
  },
  {
   "cell_type": "code",
   "execution_count": 551,
   "metadata": {
    "scrolled": false
   },
   "outputs": [
    {
     "data": {
      "text/plain": [
       "<matplotlib.axes._subplots.AxesSubplot at 0x7ff0db97ca20>"
      ]
     },
     "execution_count": 551,
     "metadata": {},
     "output_type": "execute_result"
    },
    {
     "data": {
      "image/png": "[encoded data removed]",
      "text/plain": [
       "<matplotlib.figure.Figure at 0x7ff0db97c0f0>"
      ]
     },
     "metadata": {
      "needs_background": "light"
     },
     "output_type": "display_data"
    }
   ],
   "source": [
    "fig = plt.figure(figsize = [5, 5])\n",
    "sns.distplot(fifadata_copy[\"Potential\"])"
   ]
  },
  {
   "cell_type": "markdown",
   "metadata": {},
   "source": [
    "Distribution plot of Potential."
   ]
  },
  {
   "cell_type": "code",
   "execution_count": 552,
   "metadata": {
    "scrolled": false
   },
   "outputs": [
    {
     "data": {
      "image/png": "[encoded data removed]",
      "text/plain": [
       "<matplotlib.figure.Figure at 0x7ff0d7c54470>"
      ]
     },
     "metadata": {
      "needs_background": "light"
     },
     "output_type": "display_data"
    },
    {
     "data": {
      "text/html": [
       "<div>\n",
       "<style scoped>\n",
       "    .dataframe tbody tr th:only-of-type {\n",
       "        vertical-align: middle;\n",
       "    }\n",
       "\n",
       "    .dataframe tbody tr th {\n",
       "        vertical-align: top;\n",
       "    }\n",
       "\n",
       "    .dataframe thead th {\n",
       "        text-align: right;\n",
       "    }\n",
       "</style>\n",
       "<table border=\"1\" class=\"dataframe\">\n",
       "  <thead>\n",
       "    <tr style=\"text-align: right;\">\n",
       "      <th></th>\n",
       "      <th>Age</th>\n",
       "      <th>Potential</th>\n",
       "    </tr>\n",
       "  </thead>\n",
       "  <tbody>\n",
       "    <tr>\n",
       "      <th>Age</th>\n",
       "      <td>1.000000</td>\n",
       "      <td>-0.253312</td>\n",
       "    </tr>\n",
       "    <tr>\n",
       "      <th>Potential</th>\n",
       "      <td>-0.253312</td>\n",
       "      <td>1.000000</td>\n",
       "    </tr>\n",
       "  </tbody>\n",
       "</table>\n",
       "</div>"
      ],
      "text/plain": [
       "                Age  Potential\n",
       "Age        1.000000  -0.253312\n",
       "Potential -0.253312   1.000000"
      ]
     },
     "execution_count": 552,
     "metadata": {},
     "output_type": "execute_result"
    }
   ],
   "source": [
    "age_potential = fifadata_copy[[\"Age\", \"Potential\"]]\n",
    "fig=plt.figure(figsize=(3,2))\n",
    "sns.heatmap(age_potential.corr())\n",
    "plt.show()\n",
    "age_potential.corr() #coorelation between Age and Potential of the player."
   ]
  },
  {
   "cell_type": "code",
   "execution_count": 553,
   "metadata": {},
   "outputs": [
    {
     "data": {
      "text/plain": [
       "<matplotlib.figure.Figure at 0x7ff0dcc2cb70>"
      ]
     },
     "metadata": {},
     "output_type": "display_data"
    },
    {
     "data": {
      "image/png": "[encoded data removed]",
      "text/plain": [
       "<matplotlib.figure.Figure at 0x7ff0dcc2c128>"
      ]
     },
     "metadata": {
      "needs_background": "light"
     },
     "output_type": "display_data"
    }
   ],
   "source": [
    "fig = plt.figure(figsize=(20,10))\n",
    "fifadata_copy.plot.scatter(x='Age', y='Potential')\n",
    "plt.show()"
   ]
  },
  {
   "cell_type": "code",
   "execution_count": 554,
   "metadata": {
    "scrolled": false
   },
   "outputs": [
    {
     "data": {
      "text/html": [
       "<div>\n",
       "<style scoped>\n",
       "    .dataframe tbody tr th:only-of-type {\n",
       "        vertical-align: middle;\n",
       "    }\n",
       "\n",
       "    .dataframe tbody tr th {\n",
       "        vertical-align: top;\n",
       "    }\n",
       "\n",
       "    .dataframe thead tr th {\n",
       "        text-align: left;\n",
       "    }\n",
       "\n",
       "    .dataframe thead tr:last-of-type th {\n",
       "        text-align: right;\n",
       "    }\n",
       "</style>\n",
       "<table border=\"1\" class=\"dataframe\">\n",
       "  <thead>\n",
       "    <tr>\n",
       "      <th></th>\n",
       "      <th colspan=\"8\" halign=\"left\">Potential</th>\n",
       "    </tr>\n",
       "    <tr>\n",
       "      <th></th>\n",
       "      <th>count</th>\n",
       "      <th>mean</th>\n",
       "      <th>std</th>\n",
       "      <th>min</th>\n",
       "      <th>25%</th>\n",
       "      <th>50%</th>\n",
       "      <th>75%</th>\n",
       "      <th>max</th>\n",
       "    </tr>\n",
       "    <tr>\n",
       "      <th>Age</th>\n",
       "      <th></th>\n",
       "      <th></th>\n",
       "      <th></th>\n",
       "      <th></th>\n",
       "      <th></th>\n",
       "      <th></th>\n",
       "      <th></th>\n",
       "      <th></th>\n",
       "    </tr>\n",
       "  </thead>\n",
       "  <tbody>\n",
       "    <tr>\n",
       "      <th>16</th>\n",
       "      <td>42.0</td>\n",
       "      <td>73.190476</td>\n",
       "      <td>4.824926</td>\n",
       "      <td>66.0</td>\n",
       "      <td>70.25</td>\n",
       "      <td>73.0</td>\n",
       "      <td>75.75</td>\n",
       "      <td>86.0</td>\n",
       "    </tr>\n",
       "    <tr>\n",
       "      <th>17</th>\n",
       "      <td>289.0</td>\n",
       "      <td>74.339100</td>\n",
       "      <td>6.235753</td>\n",
       "      <td>57.0</td>\n",
       "      <td>70.00</td>\n",
       "      <td>74.0</td>\n",
       "      <td>79.00</td>\n",
       "      <td>92.0</td>\n",
       "    </tr>\n",
       "    <tr>\n",
       "      <th>18</th>\n",
       "      <td>732.0</td>\n",
       "      <td>73.530055</td>\n",
       "      <td>6.153123</td>\n",
       "      <td>55.0</td>\n",
       "      <td>69.00</td>\n",
       "      <td>74.0</td>\n",
       "      <td>78.00</td>\n",
       "      <td>91.0</td>\n",
       "    </tr>\n",
       "    <tr>\n",
       "      <th>19</th>\n",
       "      <td>1024.0</td>\n",
       "      <td>73.146484</td>\n",
       "      <td>6.058692</td>\n",
       "      <td>57.0</td>\n",
       "      <td>69.00</td>\n",
       "      <td>73.0</td>\n",
       "      <td>77.00</td>\n",
       "      <td>95.0</td>\n",
       "    </tr>\n",
       "    <tr>\n",
       "      <th>20</th>\n",
       "      <td>1240.0</td>\n",
       "      <td>73.213710</td>\n",
       "      <td>6.000025</td>\n",
       "      <td>57.0</td>\n",
       "      <td>69.00</td>\n",
       "      <td>73.0</td>\n",
       "      <td>77.00</td>\n",
       "      <td>90.0</td>\n",
       "    </tr>\n",
       "    <tr>\n",
       "      <th>21</th>\n",
       "      <td>1423.0</td>\n",
       "      <td>72.957836</td>\n",
       "      <td>6.302806</td>\n",
       "      <td>56.0</td>\n",
       "      <td>69.00</td>\n",
       "      <td>73.0</td>\n",
       "      <td>77.00</td>\n",
       "      <td>92.0</td>\n",
       "    </tr>\n",
       "    <tr>\n",
       "      <th>22</th>\n",
       "      <td>1340.0</td>\n",
       "      <td>72.819403</td>\n",
       "      <td>5.872958</td>\n",
       "      <td>56.0</td>\n",
       "      <td>69.00</td>\n",
       "      <td>73.0</td>\n",
       "      <td>77.00</td>\n",
       "      <td>92.0</td>\n",
       "    </tr>\n",
       "    <tr>\n",
       "      <th>23</th>\n",
       "      <td>1332.0</td>\n",
       "      <td>72.555556</td>\n",
       "      <td>6.079543</td>\n",
       "      <td>57.0</td>\n",
       "      <td>68.00</td>\n",
       "      <td>72.0</td>\n",
       "      <td>77.00</td>\n",
       "      <td>92.0</td>\n",
       "    </tr>\n",
       "    <tr>\n",
       "      <th>24</th>\n",
       "      <td>1358.0</td>\n",
       "      <td>72.079529</td>\n",
       "      <td>5.961026</td>\n",
       "      <td>53.0</td>\n",
       "      <td>68.00</td>\n",
       "      <td>72.0</td>\n",
       "      <td>76.00</td>\n",
       "      <td>94.0</td>\n",
       "    </tr>\n",
       "    <tr>\n",
       "      <th>25</th>\n",
       "      <td>1319.0</td>\n",
       "      <td>71.290371</td>\n",
       "      <td>5.942044</td>\n",
       "      <td>52.0</td>\n",
       "      <td>67.00</td>\n",
       "      <td>71.0</td>\n",
       "      <td>75.00</td>\n",
       "      <td>93.0</td>\n",
       "    </tr>\n",
       "    <tr>\n",
       "      <th>26</th>\n",
       "      <td>1387.0</td>\n",
       "      <td>70.176640</td>\n",
       "      <td>5.797430</td>\n",
       "      <td>52.0</td>\n",
       "      <td>66.00</td>\n",
       "      <td>70.0</td>\n",
       "      <td>74.00</td>\n",
       "      <td>93.0</td>\n",
       "    </tr>\n",
       "    <tr>\n",
       "      <th>27</th>\n",
       "      <td>1162.0</td>\n",
       "      <td>69.709122</td>\n",
       "      <td>5.907825</td>\n",
       "      <td>50.0</td>\n",
       "      <td>65.25</td>\n",
       "      <td>69.0</td>\n",
       "      <td>73.00</td>\n",
       "      <td>93.0</td>\n",
       "    </tr>\n",
       "    <tr>\n",
       "      <th>28</th>\n",
       "      <td>1101.0</td>\n",
       "      <td>69.444142</td>\n",
       "      <td>5.811886</td>\n",
       "      <td>51.0</td>\n",
       "      <td>65.00</td>\n",
       "      <td>69.0</td>\n",
       "      <td>73.00</td>\n",
       "      <td>90.0</td>\n",
       "    </tr>\n",
       "    <tr>\n",
       "      <th>29</th>\n",
       "      <td>959.0</td>\n",
       "      <td>69.357664</td>\n",
       "      <td>5.712887</td>\n",
       "      <td>54.0</td>\n",
       "      <td>66.00</td>\n",
       "      <td>69.0</td>\n",
       "      <td>73.00</td>\n",
       "      <td>90.0</td>\n",
       "    </tr>\n",
       "    <tr>\n",
       "      <th>30</th>\n",
       "      <td>917.0</td>\n",
       "      <td>69.700109</td>\n",
       "      <td>5.399593</td>\n",
       "      <td>52.0</td>\n",
       "      <td>66.00</td>\n",
       "      <td>69.0</td>\n",
       "      <td>73.00</td>\n",
       "      <td>89.0</td>\n",
       "    </tr>\n",
       "    <tr>\n",
       "      <th>31</th>\n",
       "      <td>707.0</td>\n",
       "      <td>69.850071</td>\n",
       "      <td>5.958557</td>\n",
       "      <td>50.0</td>\n",
       "      <td>66.00</td>\n",
       "      <td>70.0</td>\n",
       "      <td>73.00</td>\n",
       "      <td>94.0</td>\n",
       "    </tr>\n",
       "    <tr>\n",
       "      <th>32</th>\n",
       "      <td>574.0</td>\n",
       "      <td>69.529617</td>\n",
       "      <td>5.746688</td>\n",
       "      <td>52.0</td>\n",
       "      <td>66.00</td>\n",
       "      <td>69.0</td>\n",
       "      <td>73.00</td>\n",
       "      <td>91.0</td>\n",
       "    </tr>\n",
       "    <tr>\n",
       "      <th>33</th>\n",
       "      <td>408.0</td>\n",
       "      <td>69.558824</td>\n",
       "      <td>5.680820</td>\n",
       "      <td>48.0</td>\n",
       "      <td>66.00</td>\n",
       "      <td>69.0</td>\n",
       "      <td>73.00</td>\n",
       "      <td>94.0</td>\n",
       "    </tr>\n",
       "    <tr>\n",
       "      <th>34</th>\n",
       "      <td>404.0</td>\n",
       "      <td>69.539604</td>\n",
       "      <td>5.198866</td>\n",
       "      <td>54.0</td>\n",
       "      <td>66.00</td>\n",
       "      <td>69.0</td>\n",
       "      <td>73.00</td>\n",
       "      <td>86.0</td>\n",
       "    </tr>\n",
       "    <tr>\n",
       "      <th>35</th>\n",
       "      <td>196.0</td>\n",
       "      <td>68.132653</td>\n",
       "      <td>5.594205</td>\n",
       "      <td>53.0</td>\n",
       "      <td>65.00</td>\n",
       "      <td>68.0</td>\n",
       "      <td>71.00</td>\n",
       "      <td>85.0</td>\n",
       "    </tr>\n",
       "    <tr>\n",
       "      <th>36</th>\n",
       "      <td>127.0</td>\n",
       "      <td>67.937008</td>\n",
       "      <td>5.502882</td>\n",
       "      <td>53.0</td>\n",
       "      <td>64.00</td>\n",
       "      <td>67.0</td>\n",
       "      <td>71.00</td>\n",
       "      <td>85.0</td>\n",
       "    </tr>\n",
       "    <tr>\n",
       "      <th>37</th>\n",
       "      <td>82.0</td>\n",
       "      <td>68.939024</td>\n",
       "      <td>6.041722</td>\n",
       "      <td>55.0</td>\n",
       "      <td>64.25</td>\n",
       "      <td>70.0</td>\n",
       "      <td>73.00</td>\n",
       "      <td>84.0</td>\n",
       "    </tr>\n",
       "    <tr>\n",
       "      <th>38</th>\n",
       "      <td>37.0</td>\n",
       "      <td>67.378378</td>\n",
       "      <td>4.698412</td>\n",
       "      <td>54.0</td>\n",
       "      <td>65.00</td>\n",
       "      <td>68.0</td>\n",
       "      <td>71.00</td>\n",
       "      <td>74.0</td>\n",
       "    </tr>\n",
       "    <tr>\n",
       "      <th>39</th>\n",
       "      <td>25.0</td>\n",
       "      <td>67.640000</td>\n",
       "      <td>6.806125</td>\n",
       "      <td>52.0</td>\n",
       "      <td>65.00</td>\n",
       "      <td>70.0</td>\n",
       "      <td>72.00</td>\n",
       "      <td>80.0</td>\n",
       "    </tr>\n",
       "    <tr>\n",
       "      <th>40</th>\n",
       "      <td>13.0</td>\n",
       "      <td>67.692308</td>\n",
       "      <td>9.902732</td>\n",
       "      <td>52.0</td>\n",
       "      <td>61.00</td>\n",
       "      <td>66.0</td>\n",
       "      <td>73.00</td>\n",
       "      <td>88.0</td>\n",
       "    </tr>\n",
       "    <tr>\n",
       "      <th>41</th>\n",
       "      <td>5.0</td>\n",
       "      <td>67.600000</td>\n",
       "      <td>6.985700</td>\n",
       "      <td>59.0</td>\n",
       "      <td>63.00</td>\n",
       "      <td>68.0</td>\n",
       "      <td>71.00</td>\n",
       "      <td>77.0</td>\n",
       "    </tr>\n",
       "    <tr>\n",
       "      <th>42</th>\n",
       "      <td>1.0</td>\n",
       "      <td>65.000000</td>\n",
       "      <td>NaN</td>\n",
       "      <td>65.0</td>\n",
       "      <td>65.00</td>\n",
       "      <td>65.0</td>\n",
       "      <td>65.00</td>\n",
       "      <td>65.0</td>\n",
       "    </tr>\n",
       "    <tr>\n",
       "      <th>44</th>\n",
       "      <td>2.0</td>\n",
       "      <td>50.500000</td>\n",
       "      <td>3.535534</td>\n",
       "      <td>48.0</td>\n",
       "      <td>49.25</td>\n",
       "      <td>50.5</td>\n",
       "      <td>51.75</td>\n",
       "      <td>53.0</td>\n",
       "    </tr>\n",
       "    <tr>\n",
       "      <th>45</th>\n",
       "      <td>1.0</td>\n",
       "      <td>71.000000</td>\n",
       "      <td>NaN</td>\n",
       "      <td>71.0</td>\n",
       "      <td>71.00</td>\n",
       "      <td>71.0</td>\n",
       "      <td>71.00</td>\n",
       "      <td>71.0</td>\n",
       "    </tr>\n",
       "  </tbody>\n",
       "</table>\n",
       "</div>"
      ],
      "text/plain": [
       "    Potential                                                     \n",
       "        count       mean       std   min    25%   50%    75%   max\n",
       "Age                                                               \n",
       "16       42.0  73.190476  4.824926  66.0  70.25  73.0  75.75  86.0\n",
       "17      289.0  74.339100  6.235753  57.0  70.00  74.0  79.00  92.0\n",
       "18      732.0  73.530055  6.153123  55.0  69.00  74.0  78.00  91.0\n",
       "19     1024.0  73.146484  6.058692  57.0  69.00  73.0  77.00  95.0\n",
       "20     1240.0  73.213710  6.000025  57.0  69.00  73.0  77.00  90.0\n",
       "21     1423.0  72.957836  6.302806  56.0  69.00  73.0  77.00  92.0\n",
       "22     1340.0  72.819403  5.872958  56.0  69.00  73.0  77.00  92.0\n",
       "23     1332.0  72.555556  6.079543  57.0  68.00  72.0  77.00  92.0\n",
       "24     1358.0  72.079529  5.961026  53.0  68.00  72.0  76.00  94.0\n",
       "25     1319.0  71.290371  5.942044  52.0  67.00  71.0  75.00  93.0\n",
       "26     1387.0  70.176640  5.797430  52.0  66.00  70.0  74.00  93.0\n",
       "27     1162.0  69.709122  5.907825  50.0  65.25  69.0  73.00  93.0\n",
       "28     1101.0  69.444142  5.811886  51.0  65.00  69.0  73.00  90.0\n",
       "29      959.0  69.357664  5.712887  54.0  66.00  69.0  73.00  90.0\n",
       "30      917.0  69.700109  5.399593  52.0  66.00  69.0  73.00  89.0\n",
       "31      707.0  69.850071  5.958557  50.0  66.00  70.0  73.00  94.0\n",
       "32      574.0  69.529617  5.746688  52.0  66.00  69.0  73.00  91.0\n",
       "33      408.0  69.558824  5.680820  48.0  66.00  69.0  73.00  94.0\n",
       "34      404.0  69.539604  5.198866  54.0  66.00  69.0  73.00  86.0\n",
       "35      196.0  68.132653  5.594205  53.0  65.00  68.0  71.00  85.0\n",
       "36      127.0  67.937008  5.502882  53.0  64.00  67.0  71.00  85.0\n",
       "37       82.0  68.939024  6.041722  55.0  64.25  70.0  73.00  84.0\n",
       "38       37.0  67.378378  4.698412  54.0  65.00  68.0  71.00  74.0\n",
       "39       25.0  67.640000  6.806125  52.0  65.00  70.0  72.00  80.0\n",
       "40       13.0  67.692308  9.902732  52.0  61.00  66.0  73.00  88.0\n",
       "41        5.0  67.600000  6.985700  59.0  63.00  68.0  71.00  77.0\n",
       "42        1.0  65.000000       NaN  65.0  65.00  65.0  65.00  65.0\n",
       "44        2.0  50.500000  3.535534  48.0  49.25  50.5  51.75  53.0\n",
       "45        1.0  71.000000       NaN  71.0  71.00  71.0  71.00  71.0"
      ]
     },
     "execution_count": 554,
     "metadata": {},
     "output_type": "execute_result"
    }
   ],
   "source": [
    "fifadata_copy[['Age','Potential']].groupby('Age').describe()"
   ]
  },
  {
   "cell_type": "markdown",
   "metadata": {},
   "source": [
    "### Interpretation for Age and Potential features.\n",
    "-->From the above analysis(scatterplot, age_potential info, Correalation) we can say that young players have more potential than old players i.e as age increases potential decreases.<br>\n",
    "-->Maximum Potential(95) occured at the Age of 19."
   ]
  },
  {
   "cell_type": "code",
   "execution_count": 555,
   "metadata": {},
   "outputs": [
    {
     "data": {
      "image/png": "[encoded data removed]",
      "text/plain": [
       "<matplotlib.figure.Figure at 0x7ff0d82cd2e8>"
      ]
     },
     "metadata": {
      "needs_background": "light"
     },
     "output_type": "display_data"
    },
    {
     "data": {
      "text/html": [
       "<div>\n",
       "<style scoped>\n",
       "    .dataframe tbody tr th:only-of-type {\n",
       "        vertical-align: middle;\n",
       "    }\n",
       "\n",
       "    .dataframe tbody tr th {\n",
       "        vertical-align: top;\n",
       "    }\n",
       "\n",
       "    .dataframe thead th {\n",
       "        text-align: right;\n",
       "    }\n",
       "</style>\n",
       "<table border=\"1\" class=\"dataframe\">\n",
       "  <thead>\n",
       "    <tr style=\"text-align: right;\">\n",
       "      <th></th>\n",
       "      <th>Age</th>\n",
       "      <th>Value</th>\n",
       "    </tr>\n",
       "  </thead>\n",
       "  <tbody>\n",
       "    <tr>\n",
       "      <th>Age</th>\n",
       "      <td>1.000000</td>\n",
       "      <td>0.075022</td>\n",
       "    </tr>\n",
       "    <tr>\n",
       "      <th>Value</th>\n",
       "      <td>0.075022</td>\n",
       "      <td>1.000000</td>\n",
       "    </tr>\n",
       "  </tbody>\n",
       "</table>\n",
       "</div>"
      ],
      "text/plain": [
       "            Age     Value\n",
       "Age    1.000000  0.075022\n",
       "Value  0.075022  1.000000"
      ]
     },
     "execution_count": 555,
     "metadata": {},
     "output_type": "execute_result"
    }
   ],
   "source": [
    "age_value = fifadata_copy[[\"Age\", \"Value\"]]\n",
    "fig=plt.figure(figsize=(3,2))\n",
    "sns.heatmap(age_value.corr())\n",
    "plt.show()\n",
    "age_value.corr()"
   ]
  },
  {
   "cell_type": "code",
   "execution_count": 556,
   "metadata": {},
   "outputs": [
    {
     "data": {
      "text/plain": [
       "<matplotlib.figure.Figure at 0x7ff0e4e60c50>"
      ]
     },
     "metadata": {},
     "output_type": "display_data"
    },
    {
     "data": {
      "image/png": "[encoded data removed]",
      "text/plain": [
       "<matplotlib.figure.Figure at 0x7ff0e4dd4f98>"
      ]
     },
     "metadata": {
      "needs_background": "light"
     },
     "output_type": "display_data"
    }
   ],
   "source": [
    "fig = plt.figure(figsize=(20,10))\n",
    "fifadata_copy.plot.scatter(x='Age', y='Value')\n",
    "plt.show()"
   ]
  },
  {
   "cell_type": "code",
   "execution_count": 557,
   "metadata": {
    "scrolled": false
   },
   "outputs": [
    {
     "data": {
      "text/html": [
       "<div>\n",
       "<style scoped>\n",
       "    .dataframe tbody tr th:only-of-type {\n",
       "        vertical-align: middle;\n",
       "    }\n",
       "\n",
       "    .dataframe tbody tr th {\n",
       "        vertical-align: top;\n",
       "    }\n",
       "\n",
       "    .dataframe thead tr th {\n",
       "        text-align: left;\n",
       "    }\n",
       "\n",
       "    .dataframe thead tr:last-of-type th {\n",
       "        text-align: right;\n",
       "    }\n",
       "</style>\n",
       "<table border=\"1\" class=\"dataframe\">\n",
       "  <thead>\n",
       "    <tr>\n",
       "      <th></th>\n",
       "      <th colspan=\"8\" halign=\"left\">Value</th>\n",
       "    </tr>\n",
       "    <tr>\n",
       "      <th></th>\n",
       "      <th>count</th>\n",
       "      <th>mean</th>\n",
       "      <th>std</th>\n",
       "      <th>min</th>\n",
       "      <th>25%</th>\n",
       "      <th>50%</th>\n",
       "      <th>75%</th>\n",
       "      <th>max</th>\n",
       "    </tr>\n",
       "    <tr>\n",
       "      <th>Age</th>\n",
       "      <th></th>\n",
       "      <th></th>\n",
       "      <th></th>\n",
       "      <th></th>\n",
       "      <th></th>\n",
       "      <th></th>\n",
       "      <th></th>\n",
       "      <th></th>\n",
       "    </tr>\n",
       "  </thead>\n",
       "  <tbody>\n",
       "    <tr>\n",
       "      <th>16</th>\n",
       "      <td>42.0</td>\n",
       "      <td>2.164286e+05</td>\n",
       "      <td>2.191956e+05</td>\n",
       "      <td>50000.0</td>\n",
       "      <td>75000.0</td>\n",
       "      <td>120000.0</td>\n",
       "      <td>237500.0</td>\n",
       "      <td>1000000.0</td>\n",
       "    </tr>\n",
       "    <tr>\n",
       "      <th>17</th>\n",
       "      <td>289.0</td>\n",
       "      <td>4.047059e+05</td>\n",
       "      <td>1.166704e+06</td>\n",
       "      <td>40000.0</td>\n",
       "      <td>100000.0</td>\n",
       "      <td>180000.0</td>\n",
       "      <td>400000.0</td>\n",
       "      <td>17500000.0</td>\n",
       "    </tr>\n",
       "    <tr>\n",
       "      <th>18</th>\n",
       "      <td>732.0</td>\n",
       "      <td>5.319672e+05</td>\n",
       "      <td>1.435544e+06</td>\n",
       "      <td>0.0</td>\n",
       "      <td>120000.0</td>\n",
       "      <td>210000.0</td>\n",
       "      <td>500000.0</td>\n",
       "      <td>27000000.0</td>\n",
       "    </tr>\n",
       "    <tr>\n",
       "      <th>19</th>\n",
       "      <td>1024.0</td>\n",
       "      <td>9.098193e+05</td>\n",
       "      <td>3.228602e+06</td>\n",
       "      <td>0.0</td>\n",
       "      <td>150000.0</td>\n",
       "      <td>300000.0</td>\n",
       "      <td>700000.0</td>\n",
       "      <td>81000000.0</td>\n",
       "    </tr>\n",
       "    <tr>\n",
       "      <th>20</th>\n",
       "      <td>1240.0</td>\n",
       "      <td>1.233161e+06</td>\n",
       "      <td>2.604436e+06</td>\n",
       "      <td>0.0</td>\n",
       "      <td>200000.0</td>\n",
       "      <td>450000.0</td>\n",
       "      <td>975000.0</td>\n",
       "      <td>27000000.0</td>\n",
       "    </tr>\n",
       "    <tr>\n",
       "      <th>21</th>\n",
       "      <td>1423.0</td>\n",
       "      <td>1.765218e+06</td>\n",
       "      <td>3.753851e+06</td>\n",
       "      <td>0.0</td>\n",
       "      <td>230000.0</td>\n",
       "      <td>575000.0</td>\n",
       "      <td>1200000.0</td>\n",
       "      <td>41000000.0</td>\n",
       "    </tr>\n",
       "    <tr>\n",
       "      <th>22</th>\n",
       "      <td>1340.0</td>\n",
       "      <td>2.225366e+06</td>\n",
       "      <td>5.108313e+06</td>\n",
       "      <td>0.0</td>\n",
       "      <td>325000.0</td>\n",
       "      <td>650000.0</td>\n",
       "      <td>1300000.0</td>\n",
       "      <td>61000000.0</td>\n",
       "    </tr>\n",
       "    <tr>\n",
       "      <th>23</th>\n",
       "      <td>1332.0</td>\n",
       "      <td>2.647995e+06</td>\n",
       "      <td>5.447848e+06</td>\n",
       "      <td>0.0</td>\n",
       "      <td>375000.0</td>\n",
       "      <td>775000.0</td>\n",
       "      <td>2400000.0</td>\n",
       "      <td>59500000.0</td>\n",
       "    </tr>\n",
       "    <tr>\n",
       "      <th>24</th>\n",
       "      <td>1358.0</td>\n",
       "      <td>3.007382e+06</td>\n",
       "      <td>6.304422e+06</td>\n",
       "      <td>0.0</td>\n",
       "      <td>450000.0</td>\n",
       "      <td>875000.0</td>\n",
       "      <td>2600000.0</td>\n",
       "      <td>89000000.0</td>\n",
       "    </tr>\n",
       "    <tr>\n",
       "      <th>25</th>\n",
       "      <td>1319.0</td>\n",
       "      <td>3.258078e+06</td>\n",
       "      <td>6.341951e+06</td>\n",
       "      <td>0.0</td>\n",
       "      <td>500000.0</td>\n",
       "      <td>925000.0</td>\n",
       "      <td>3300000.0</td>\n",
       "      <td>68000000.0</td>\n",
       "    </tr>\n",
       "    <tr>\n",
       "      <th>26</th>\n",
       "      <td>1387.0</td>\n",
       "      <td>3.364795e+06</td>\n",
       "      <td>7.736183e+06</td>\n",
       "      <td>0.0</td>\n",
       "      <td>500000.0</td>\n",
       "      <td>925000.0</td>\n",
       "      <td>3300000.0</td>\n",
       "      <td>118500000.0</td>\n",
       "    </tr>\n",
       "    <tr>\n",
       "      <th>27</th>\n",
       "      <td>1162.0</td>\n",
       "      <td>3.530000e+06</td>\n",
       "      <td>7.697981e+06</td>\n",
       "      <td>0.0</td>\n",
       "      <td>475000.0</td>\n",
       "      <td>950000.0</td>\n",
       "      <td>3575000.0</td>\n",
       "      <td>102000000.0</td>\n",
       "    </tr>\n",
       "    <tr>\n",
       "      <th>28</th>\n",
       "      <td>1101.0</td>\n",
       "      <td>3.164160e+06</td>\n",
       "      <td>5.729158e+06</td>\n",
       "      <td>0.0</td>\n",
       "      <td>475000.0</td>\n",
       "      <td>900000.0</td>\n",
       "      <td>3600000.0</td>\n",
       "      <td>76500000.0</td>\n",
       "    </tr>\n",
       "    <tr>\n",
       "      <th>29</th>\n",
       "      <td>959.0</td>\n",
       "      <td>3.142643e+06</td>\n",
       "      <td>6.480115e+06</td>\n",
       "      <td>0.0</td>\n",
       "      <td>475000.0</td>\n",
       "      <td>825000.0</td>\n",
       "      <td>3050000.0</td>\n",
       "      <td>77000000.0</td>\n",
       "    </tr>\n",
       "    <tr>\n",
       "      <th>30</th>\n",
       "      <td>917.0</td>\n",
       "      <td>3.050921e+06</td>\n",
       "      <td>5.737468e+06</td>\n",
       "      <td>0.0</td>\n",
       "      <td>475000.0</td>\n",
       "      <td>1000000.0</td>\n",
       "      <td>3600000.0</td>\n",
       "      <td>64500000.0</td>\n",
       "    </tr>\n",
       "    <tr>\n",
       "      <th>31</th>\n",
       "      <td>707.0</td>\n",
       "      <td>3.324498e+06</td>\n",
       "      <td>7.508272e+06</td>\n",
       "      <td>0.0</td>\n",
       "      <td>425000.0</td>\n",
       "      <td>950000.0</td>\n",
       "      <td>3100000.0</td>\n",
       "      <td>110500000.0</td>\n",
       "    </tr>\n",
       "    <tr>\n",
       "      <th>32</th>\n",
       "      <td>574.0</td>\n",
       "      <td>2.574817e+06</td>\n",
       "      <td>5.861103e+06</td>\n",
       "      <td>0.0</td>\n",
       "      <td>375000.0</td>\n",
       "      <td>600000.0</td>\n",
       "      <td>2400000.0</td>\n",
       "      <td>67000000.0</td>\n",
       "    </tr>\n",
       "    <tr>\n",
       "      <th>33</th>\n",
       "      <td>408.0</td>\n",
       "      <td>1.950637e+06</td>\n",
       "      <td>4.927056e+06</td>\n",
       "      <td>0.0</td>\n",
       "      <td>260000.0</td>\n",
       "      <td>525000.0</td>\n",
       "      <td>2050000.0</td>\n",
       "      <td>77000000.0</td>\n",
       "    </tr>\n",
       "    <tr>\n",
       "      <th>34</th>\n",
       "      <td>404.0</td>\n",
       "      <td>1.283663e+06</td>\n",
       "      <td>2.141936e+06</td>\n",
       "      <td>0.0</td>\n",
       "      <td>230000.0</td>\n",
       "      <td>512500.0</td>\n",
       "      <td>1600000.0</td>\n",
       "      <td>21500000.0</td>\n",
       "    </tr>\n",
       "    <tr>\n",
       "      <th>35</th>\n",
       "      <td>196.0</td>\n",
       "      <td>8.149235e+05</td>\n",
       "      <td>1.571168e+06</td>\n",
       "      <td>0.0</td>\n",
       "      <td>130000.0</td>\n",
       "      <td>250000.0</td>\n",
       "      <td>775000.0</td>\n",
       "      <td>11500000.0</td>\n",
       "    </tr>\n",
       "    <tr>\n",
       "      <th>36</th>\n",
       "      <td>127.0</td>\n",
       "      <td>5.959449e+05</td>\n",
       "      <td>1.568411e+06</td>\n",
       "      <td>10000.0</td>\n",
       "      <td>70000.0</td>\n",
       "      <td>200000.0</td>\n",
       "      <td>425000.0</td>\n",
       "      <td>14000000.0</td>\n",
       "    </tr>\n",
       "    <tr>\n",
       "      <th>37</th>\n",
       "      <td>82.0</td>\n",
       "      <td>6.253049e+05</td>\n",
       "      <td>1.182385e+06</td>\n",
       "      <td>0.0</td>\n",
       "      <td>62500.0</td>\n",
       "      <td>240000.0</td>\n",
       "      <td>637500.0</td>\n",
       "      <td>8000000.0</td>\n",
       "    </tr>\n",
       "    <tr>\n",
       "      <th>38</th>\n",
       "      <td>37.0</td>\n",
       "      <td>2.109459e+05</td>\n",
       "      <td>2.551057e+05</td>\n",
       "      <td>0.0</td>\n",
       "      <td>40000.0</td>\n",
       "      <td>130000.0</td>\n",
       "      <td>270000.0</td>\n",
       "      <td>1300000.0</td>\n",
       "    </tr>\n",
       "    <tr>\n",
       "      <th>39</th>\n",
       "      <td>25.0</td>\n",
       "      <td>2.480000e+05</td>\n",
       "      <td>3.781644e+05</td>\n",
       "      <td>0.0</td>\n",
       "      <td>40000.0</td>\n",
       "      <td>120000.0</td>\n",
       "      <td>260000.0</td>\n",
       "      <td>1600000.0</td>\n",
       "    </tr>\n",
       "    <tr>\n",
       "      <th>40</th>\n",
       "      <td>13.0</td>\n",
       "      <td>3.857692e+05</td>\n",
       "      <td>1.097015e+06</td>\n",
       "      <td>0.0</td>\n",
       "      <td>0.0</td>\n",
       "      <td>10000.0</td>\n",
       "      <td>160000.0</td>\n",
       "      <td>4000000.0</td>\n",
       "    </tr>\n",
       "    <tr>\n",
       "      <th>41</th>\n",
       "      <td>5.0</td>\n",
       "      <td>1.400000e+04</td>\n",
       "      <td>2.607681e+04</td>\n",
       "      <td>0.0</td>\n",
       "      <td>0.0</td>\n",
       "      <td>0.0</td>\n",
       "      <td>10000.0</td>\n",
       "      <td>60000.0</td>\n",
       "    </tr>\n",
       "    <tr>\n",
       "      <th>42</th>\n",
       "      <td>1.0</td>\n",
       "      <td>4.000000e+04</td>\n",
       "      <td>NaN</td>\n",
       "      <td>40000.0</td>\n",
       "      <td>40000.0</td>\n",
       "      <td>40000.0</td>\n",
       "      <td>40000.0</td>\n",
       "      <td>40000.0</td>\n",
       "    </tr>\n",
       "    <tr>\n",
       "      <th>44</th>\n",
       "      <td>2.0</td>\n",
       "      <td>0.000000e+00</td>\n",
       "      <td>0.000000e+00</td>\n",
       "      <td>0.0</td>\n",
       "      <td>0.0</td>\n",
       "      <td>0.0</td>\n",
       "      <td>0.0</td>\n",
       "      <td>0.0</td>\n",
       "    </tr>\n",
       "    <tr>\n",
       "      <th>45</th>\n",
       "      <td>1.0</td>\n",
       "      <td>1.600000e+05</td>\n",
       "      <td>NaN</td>\n",
       "      <td>160000.0</td>\n",
       "      <td>160000.0</td>\n",
       "      <td>160000.0</td>\n",
       "      <td>160000.0</td>\n",
       "      <td>160000.0</td>\n",
       "    </tr>\n",
       "  </tbody>\n",
       "</table>\n",
       "</div>"
      ],
      "text/plain": [
       "      Value                                                             \\\n",
       "      count          mean           std       min       25%        50%   \n",
       "Age                                                                      \n",
       "16     42.0  2.164286e+05  2.191956e+05   50000.0   75000.0   120000.0   \n",
       "17    289.0  4.047059e+05  1.166704e+06   40000.0  100000.0   180000.0   \n",
       "18    732.0  5.319672e+05  1.435544e+06       0.0  120000.0   210000.0   \n",
       "19   1024.0  9.098193e+05  3.228602e+06       0.0  150000.0   300000.0   \n",
       "20   1240.0  1.233161e+06  2.604436e+06       0.0  200000.0   450000.0   \n",
       "21   1423.0  1.765218e+06  3.753851e+06       0.0  230000.0   575000.0   \n",
       "22   1340.0  2.225366e+06  5.108313e+06       0.0  325000.0   650000.0   \n",
       "23   1332.0  2.647995e+06  5.447848e+06       0.0  375000.0   775000.0   \n",
       "24   1358.0  3.007382e+06  6.304422e+06       0.0  450000.0   875000.0   \n",
       "25   1319.0  3.258078e+06  6.341951e+06       0.0  500000.0   925000.0   \n",
       "26   1387.0  3.364795e+06  7.736183e+06       0.0  500000.0   925000.0   \n",
       "27   1162.0  3.530000e+06  7.697981e+06       0.0  475000.0   950000.0   \n",
       "28   1101.0  3.164160e+06  5.729158e+06       0.0  475000.0   900000.0   \n",
       "29    959.0  3.142643e+06  6.480115e+06       0.0  475000.0   825000.0   \n",
       "30    917.0  3.050921e+06  5.737468e+06       0.0  475000.0  1000000.0   \n",
       "31    707.0  3.324498e+06  7.508272e+06       0.0  425000.0   950000.0   \n",
       "32    574.0  2.574817e+06  5.861103e+06       0.0  375000.0   600000.0   \n",
       "33    408.0  1.950637e+06  4.927056e+06       0.0  260000.0   525000.0   \n",
       "34    404.0  1.283663e+06  2.141936e+06       0.0  230000.0   512500.0   \n",
       "35    196.0  8.149235e+05  1.571168e+06       0.0  130000.0   250000.0   \n",
       "36    127.0  5.959449e+05  1.568411e+06   10000.0   70000.0   200000.0   \n",
       "37     82.0  6.253049e+05  1.182385e+06       0.0   62500.0   240000.0   \n",
       "38     37.0  2.109459e+05  2.551057e+05       0.0   40000.0   130000.0   \n",
       "39     25.0  2.480000e+05  3.781644e+05       0.0   40000.0   120000.0   \n",
       "40     13.0  3.857692e+05  1.097015e+06       0.0       0.0    10000.0   \n",
       "41      5.0  1.400000e+04  2.607681e+04       0.0       0.0        0.0   \n",
       "42      1.0  4.000000e+04           NaN   40000.0   40000.0    40000.0   \n",
       "44      2.0  0.000000e+00  0.000000e+00       0.0       0.0        0.0   \n",
       "45      1.0  1.600000e+05           NaN  160000.0  160000.0   160000.0   \n",
       "\n",
       "                             \n",
       "           75%          max  \n",
       "Age                          \n",
       "16    237500.0    1000000.0  \n",
       "17    400000.0   17500000.0  \n",
       "18    500000.0   27000000.0  \n",
       "19    700000.0   81000000.0  \n",
       "20    975000.0   27000000.0  \n",
       "21   1200000.0   41000000.0  \n",
       "22   1300000.0   61000000.0  \n",
       "23   2400000.0   59500000.0  \n",
       "24   2600000.0   89000000.0  \n",
       "25   3300000.0   68000000.0  \n",
       "26   3300000.0  118500000.0  \n",
       "27   3575000.0  102000000.0  \n",
       "28   3600000.0   76500000.0  \n",
       "29   3050000.0   77000000.0  \n",
       "30   3600000.0   64500000.0  \n",
       "31   3100000.0  110500000.0  \n",
       "32   2400000.0   67000000.0  \n",
       "33   2050000.0   77000000.0  \n",
       "34   1600000.0   21500000.0  \n",
       "35    775000.0   11500000.0  \n",
       "36    425000.0   14000000.0  \n",
       "37    637500.0    8000000.0  \n",
       "38    270000.0    1300000.0  \n",
       "39    260000.0    1600000.0  \n",
       "40    160000.0    4000000.0  \n",
       "41     10000.0      60000.0  \n",
       "42     40000.0      40000.0  \n",
       "44         0.0          0.0  \n",
       "45    160000.0     160000.0  "
      ]
     },
     "execution_count": 557,
     "metadata": {},
     "output_type": "execute_result"
    }
   ],
   "source": [
    "fifadata_copy[['Age','Value']].groupby('Age').describe()"
   ]
  },
  {
   "cell_type": "markdown",
   "metadata": {},
   "source": [
    "### Interpretation for Age and Value features.\n",
    "-->From the above analysis(scatterplot, age_potential info, Correalation)we can say that value is high for those players who are neither too young nor too old i.e players of age around 23-32 have move value compared to others.<br>\n",
    "-->Maximum Value of the player(118500000.0) is for player of Age 26."
   ]
  },
  {
   "cell_type": "markdown",
   "metadata": {},
   "source": [
    "### 3. What skill sets are helpful in deciding a player's potential? How do the traits contribute to the players' potential? "
   ]
  },
  {
   "cell_type": "code",
   "execution_count": 558,
   "metadata": {},
   "outputs": [],
   "source": [
    "fifadata_copy[\"Release Clause\"].fillna(0,inplace = True)"
   ]
  },
  {
   "cell_type": "code",
   "execution_count": 559,
   "metadata": {},
   "outputs": [],
   "source": [
    "fifadata_copy['Release Clause'].replace({'€':'','K': '*1e3', 'M': '*1e6'}, regex=True,inplace = True)\n",
    "fifadata_copy['Release Clause'] = fifadata_copy['Release Clause'].map(pd.eval)"
   ]
  },
  {
   "cell_type": "markdown",
   "metadata": {},
   "source": [
    "#### Intuition:\n",
    "--> Skills like StandingTackle, LongPassing, BallControl, SlidingTackle, LongShots, ShortPassing, Dribbling these skills we be helpful for a player to decide his potential.<br>\n",
    "--> Traits like Agility, Stamina, Strength, Vision, Reactions are helpful to decide the Potential of the player."
   ]
  },
  {
   "cell_type": "code",
   "execution_count": 560,
   "metadata": {
    "scrolled": false
   },
   "outputs": [
    {
     "data": {
      "text/plain": [
       "Unnamed: 0                 -0.633395\n",
       "Age                        -0.253312\n",
       "GKKicking                  -0.059061\n",
       "GKHandling                 -0.054672\n",
       "GKDiving                   -0.053446\n",
       "GKReflexes                 -0.053341\n",
       "GKPositioning              -0.052589\n",
       "Jersey Number              -0.010474\n",
       "ID                          0.047074\n",
       "Strength                    0.075769\n",
       "Jumping                     0.109151\n",
       "SlidingTackle               0.128980\n",
       "Balance                     0.138025\n",
       "StandingTackle              0.143564\n",
       "Interceptions               0.154908\n",
       "Weak Foot                   0.162346\n",
       "Marking                     0.162801\n",
       "Aggression                  0.171174\n",
       "HeadingAccuracy             0.200988\n",
       "Stamina                     0.202563\n",
       "Contract_Valid_years        0.212167\n",
       "Agility                     0.222310\n",
       "Penalties                   0.224281\n",
       "FKAccuracy                  0.230544\n",
       "Acceleration                0.234608\n",
       "SprintSpeed                 0.236771\n",
       "Finishing                   0.243355\n",
       "Positioning                 0.245616\n",
       "Crossing                    0.246319\n",
       "Volleys                     0.254906\n",
       "LongShots                   0.266740\n",
       "Curve                       0.279944\n",
       "ShotPower                   0.288318\n",
       "Dribbling                   0.315019\n",
       "LongPassing                 0.321437\n",
       "Vision                      0.348141\n",
       "Skill Moves                 0.354290\n",
       "BallControl                 0.354396\n",
       "ShortPassing                0.369189\n",
       "International Reputation    0.372993\n",
       "Special                     0.383727\n",
       "Composure                   0.440008\n",
       "Wage                        0.486413\n",
       "Reactions                   0.513425\n",
       "Release Clause              0.547668\n",
       "Value                       0.576218\n",
       "amount_spent                0.582730\n",
       "eco_metric                  0.609438\n",
       "Overall                     0.660939\n",
       "Potential                   1.000000\n",
       "Name: Potential, dtype: float64"
      ]
     },
     "execution_count": 560,
     "metadata": {},
     "output_type": "execute_result"
    }
   ],
   "source": [
    "#enter code/answer in this cell. You can add more code/markdown cells below for your answer.\n",
    "#fifadata_copy = fifadata_copy.drop(['Unnamed: 0','ID'], axis = 1)\n",
    "fifadata_copy.corr()['Potential'].sort_values()"
   ]
  },
  {
   "cell_type": "markdown",
   "metadata": {},
   "source": [
    "##### Skills:\n",
    "-->From above correlation vector we can say skills like ShortPassing, BallControl, Skill Moves, LongPassing, Dribbling, LongShots, Crossin, Positioning, Finishing these skills are highly related to the Potential of the player compared to other skills.<br>\n",
    "-->From the above info we can say that StandingTackle, SlidingTackle are not that much related to the Potential when compared with other skills mention in the intuition above.<br>\n"
   ]
  },
  {
   "cell_type": "markdown",
   "metadata": {},
   "source": [
    "##### Traits:\n",
    "-->From above correlation vector we can say that traits like Reactions, Composure, Vision, Acceleration, Agility are highly related to the Potential of the player compared to other traits.<br>\n",
    "--> From the above table we can say that Stamina, Strength are not that much required when compared to Reactions, Composure, Acceleration. Indeed we can say that all these traits require sufficient amount of strength and stamina."
   ]
  },
  {
   "cell_type": "markdown",
   "metadata": {},
   "source": [
    "### 4. Which features directly contribute to the wages of the players?"
   ]
  },
  {
   "cell_type": "code",
   "execution_count": 561,
   "metadata": {
    "scrolled": false
   },
   "outputs": [
    {
     "data": {
      "text/plain": [
       "0        565000.0\n",
       "1        405000.0\n",
       "2        290000.0\n",
       "3        260000.0\n",
       "4        355000.0\n",
       "           ...   \n",
       "18202      1000.0\n",
       "18203      1000.0\n",
       "18204      1000.0\n",
       "18205      1000.0\n",
       "18206      1000.0\n",
       "Name: Wage, Length: 18207, dtype: float64"
      ]
     },
     "execution_count": 561,
     "metadata": {},
     "output_type": "execute_result"
    }
   ],
   "source": [
    "fifadata_copy[\"Wage\"]"
   ]
  },
  {
   "cell_type": "code",
   "execution_count": 562,
   "metadata": {
    "scrolled": true
   },
   "outputs": [],
   "source": [
    "#enter code/answer in this cell. You can add more code/markdown cells below for your answer. \n",
    "#player_wage = fifadata[\"Wage\"].map(lambda x: x.replace(\"€\", \"\"))\n",
    "#player_wage = player_wage.map(lambda x: x.replace(\"K\", \"\"))\n",
    "#player_wage = player_wage.astype(int)*1000\n",
    "#player_wage.head()\n",
    "#fifadata.loc[:, \"Wage\"] = player_wage.values\n",
    "#fifadata[\"Wage\"].dtypes"
   ]
  },
  {
   "cell_type": "markdown",
   "metadata": {},
   "source": [
    "#### Intuitions :\n",
    "1. International reputation of the player will be directly related to the Wage of the player.\n",
    "2. Wage of the player will be depend on Release Clause of the player.\n",
    "3. Overall performance of the player decides how much Wage player need to get.\n",
    "4. Age of the player decides how much Wage player need to get as young player may not have good amount of experience."
   ]
  },
  {
   "cell_type": "code",
   "execution_count": 563,
   "metadata": {
    "scrolled": false
   },
   "outputs": [
    {
     "data": {
      "text/plain": [
       "Unnamed: 0                 -0.479719\n",
       "ID                         -0.204610\n",
       "Jersey Number              -0.086561\n",
       "GKKicking                  -0.028325\n",
       "GKReflexes                 -0.025992\n",
       "GKDiving                   -0.025595\n",
       "GKPositioning              -0.025489\n",
       "GKHandling                 -0.025177\n",
       "Balance                     0.088873\n",
       "SlidingTackle               0.111025\n",
       "Acceleration                0.124985\n",
       "StandingTackle              0.126291\n",
       "Jumping                     0.129691\n",
       "SprintSpeed                 0.130315\n",
       "Strength                    0.139360\n",
       "Weak Foot                   0.140849\n",
       "Age                         0.141145\n",
       "Marking                     0.145594\n",
       "Agility                     0.156287\n",
       "Interceptions               0.157415\n",
       "Stamina                     0.177562\n",
       "HeadingAccuracy             0.187967\n",
       "Aggression                  0.194581\n",
       "Finishing                   0.217439\n",
       "Penalties                   0.222440\n",
       "Contract_Valid_years        0.223205\n",
       "Positioning                 0.226775\n",
       "Crossing                    0.232834\n",
       "FKAccuracy                  0.236385\n",
       "Dribbling                   0.237150\n",
       "LongShots                   0.249084\n",
       "Volleys                     0.257357\n",
       "ShotPower                   0.258351\n",
       "Curve                       0.259550\n",
       "Skill Moves                 0.263205\n",
       "LongPassing                 0.276762\n",
       "BallControl                 0.277615\n",
       "ShortPassing                0.296691\n",
       "Vision                      0.315395\n",
       "Special                     0.347835\n",
       "Composure                   0.419597\n",
       "Potential                   0.486413\n",
       "Reactions                   0.495560\n",
       "Overall                     0.571926\n",
       "International Reputation    0.668635\n",
       "Release Clause              0.820162\n",
       "Value                       0.858442\n",
       "eco_metric                  0.862179\n",
       "amount_spent                0.868582\n",
       "Wage                        1.000000\n",
       "Name: Wage, dtype: float64"
      ]
     },
     "execution_count": 563,
     "metadata": {},
     "output_type": "execute_result"
    }
   ],
   "source": [
    "fifadata_copy.corr()['Wage'].sort_values()"
   ]
  },
  {
   "cell_type": "markdown",
   "metadata": {},
   "source": [
    "### Interpretation of Wage feature:\n",
    "-->From the above correlation vector of Wage, we can say amount_spent for a player(value + total_wage), eco_metric(amount_spent/Overall performance) for a player, Release Clause of the player, Value of the player, International Reputation of the player, Overall performance of the player are positively/directly contribute to Wage.<br>\n",
    "-->From coorelation vector of Wage 1,2,3 intuitions mentioned above are correct. While 4 intuition i.e Age is related to Wage but not with high metric. "
   ]
  },
  {
   "cell_type": "markdown",
   "metadata": {},
   "source": [
    "### 5. What is the age distribution in different clubs? Which club has most players young?"
   ]
  },
  {
   "cell_type": "code",
   "execution_count": 564,
   "metadata": {
    "scrolled": false
   },
   "outputs": [
    {
     "data": {
      "text/html": [
       "<div>\n",
       "<style scoped>\n",
       "    .dataframe tbody tr th:only-of-type {\n",
       "        vertical-align: middle;\n",
       "    }\n",
       "\n",
       "    .dataframe tbody tr th {\n",
       "        vertical-align: top;\n",
       "    }\n",
       "\n",
       "    .dataframe thead th {\n",
       "        text-align: right;\n",
       "    }\n",
       "</style>\n",
       "<table border=\"1\" class=\"dataframe\">\n",
       "  <thead>\n",
       "    <tr style=\"text-align: right;\">\n",
       "      <th></th>\n",
       "      <th>count</th>\n",
       "      <th>mean</th>\n",
       "      <th>std</th>\n",
       "      <th>min</th>\n",
       "      <th>25%</th>\n",
       "      <th>50%</th>\n",
       "      <th>75%</th>\n",
       "      <th>max</th>\n",
       "    </tr>\n",
       "    <tr>\n",
       "      <th>Club</th>\n",
       "      <th></th>\n",
       "      <th></th>\n",
       "      <th></th>\n",
       "      <th></th>\n",
       "      <th></th>\n",
       "      <th></th>\n",
       "      <th></th>\n",
       "      <th></th>\n",
       "    </tr>\n",
       "  </thead>\n",
       "  <tbody>\n",
       "    <tr>\n",
       "      <th>SSV Jahn Regensburg</th>\n",
       "      <td>29.0</td>\n",
       "      <td>25.655172</td>\n",
       "      <td>3.667189</td>\n",
       "      <td>19.0</td>\n",
       "      <td>23.00</td>\n",
       "      <td>25.0</td>\n",
       "      <td>28.00</td>\n",
       "      <td>33.0</td>\n",
       "    </tr>\n",
       "    <tr>\n",
       "      <th>1. FC Heidenheim 1846</th>\n",
       "      <td>28.0</td>\n",
       "      <td>24.000000</td>\n",
       "      <td>4.268749</td>\n",
       "      <td>17.0</td>\n",
       "      <td>21.00</td>\n",
       "      <td>23.5</td>\n",
       "      <td>27.00</td>\n",
       "      <td>32.0</td>\n",
       "    </tr>\n",
       "    <tr>\n",
       "      <th>1. FC Kaiserslautern</th>\n",
       "      <td>26.0</td>\n",
       "      <td>23.846154</td>\n",
       "      <td>4.173174</td>\n",
       "      <td>19.0</td>\n",
       "      <td>20.25</td>\n",
       "      <td>23.0</td>\n",
       "      <td>26.75</td>\n",
       "      <td>33.0</td>\n",
       "    </tr>\n",
       "    <tr>\n",
       "      <th>1. FC Köln</th>\n",
       "      <td>28.0</td>\n",
       "      <td>24.321429</td>\n",
       "      <td>4.447667</td>\n",
       "      <td>17.0</td>\n",
       "      <td>21.00</td>\n",
       "      <td>24.0</td>\n",
       "      <td>28.00</td>\n",
       "      <td>35.0</td>\n",
       "    </tr>\n",
       "    <tr>\n",
       "      <th>1. FC Magdeburg</th>\n",
       "      <td>26.0</td>\n",
       "      <td>24.692308</td>\n",
       "      <td>3.760524</td>\n",
       "      <td>19.0</td>\n",
       "      <td>22.00</td>\n",
       "      <td>23.5</td>\n",
       "      <td>27.00</td>\n",
       "      <td>32.0</td>\n",
       "    </tr>\n",
       "    <tr>\n",
       "      <th>...</th>\n",
       "      <td>...</td>\n",
       "      <td>...</td>\n",
       "      <td>...</td>\n",
       "      <td>...</td>\n",
       "      <td>...</td>\n",
       "      <td>...</td>\n",
       "      <td>...</td>\n",
       "      <td>...</td>\n",
       "    </tr>\n",
       "    <tr>\n",
       "      <th>Zagłębie Sosnowiec</th>\n",
       "      <td>25.0</td>\n",
       "      <td>26.240000</td>\n",
       "      <td>4.780865</td>\n",
       "      <td>18.0</td>\n",
       "      <td>23.00</td>\n",
       "      <td>26.0</td>\n",
       "      <td>31.00</td>\n",
       "      <td>36.0</td>\n",
       "    </tr>\n",
       "    <tr>\n",
       "      <th>Çaykur Rizespor</th>\n",
       "      <td>30.0</td>\n",
       "      <td>25.433333</td>\n",
       "      <td>3.701662</td>\n",
       "      <td>19.0</td>\n",
       "      <td>23.00</td>\n",
       "      <td>25.0</td>\n",
       "      <td>28.75</td>\n",
       "      <td>34.0</td>\n",
       "    </tr>\n",
       "    <tr>\n",
       "      <th>Örebro SK</th>\n",
       "      <td>27.0</td>\n",
       "      <td>24.037037</td>\n",
       "      <td>5.265866</td>\n",
       "      <td>16.0</td>\n",
       "      <td>20.00</td>\n",
       "      <td>23.0</td>\n",
       "      <td>28.50</td>\n",
       "      <td>34.0</td>\n",
       "    </tr>\n",
       "    <tr>\n",
       "      <th>Östersunds FK</th>\n",
       "      <td>22.0</td>\n",
       "      <td>23.863636</td>\n",
       "      <td>3.121286</td>\n",
       "      <td>19.0</td>\n",
       "      <td>22.00</td>\n",
       "      <td>24.0</td>\n",
       "      <td>25.75</td>\n",
       "      <td>31.0</td>\n",
       "    </tr>\n",
       "    <tr>\n",
       "      <th>Śląsk Wrocław</th>\n",
       "      <td>25.0</td>\n",
       "      <td>25.960000</td>\n",
       "      <td>5.216001</td>\n",
       "      <td>16.0</td>\n",
       "      <td>21.00</td>\n",
       "      <td>26.0</td>\n",
       "      <td>30.00</td>\n",
       "      <td>35.0</td>\n",
       "    </tr>\n",
       "  </tbody>\n",
       "</table>\n",
       "<p>651 rows × 8 columns</p>\n",
       "</div>"
      ],
      "text/plain": [
       "                       count       mean       std   min    25%   50%    75%  \\\n",
       "Club                                                                          \n",
       " SSV Jahn Regensburg    29.0  25.655172  3.667189  19.0  23.00  25.0  28.00   \n",
       "1. FC Heidenheim 1846   28.0  24.000000  4.268749  17.0  21.00  23.5  27.00   \n",
       "1. FC Kaiserslautern    26.0  23.846154  4.173174  19.0  20.25  23.0  26.75   \n",
       "1. FC Köln              28.0  24.321429  4.447667  17.0  21.00  24.0  28.00   \n",
       "1. FC Magdeburg         26.0  24.692308  3.760524  19.0  22.00  23.5  27.00   \n",
       "...                      ...        ...       ...   ...    ...   ...    ...   \n",
       "Zagłębie Sosnowiec      25.0  26.240000  4.780865  18.0  23.00  26.0  31.00   \n",
       "Çaykur Rizespor         30.0  25.433333  3.701662  19.0  23.00  25.0  28.75   \n",
       "Örebro SK               27.0  24.037037  5.265866  16.0  20.00  23.0  28.50   \n",
       "Östersunds FK           22.0  23.863636  3.121286  19.0  22.00  24.0  25.75   \n",
       "Śląsk Wrocław           25.0  25.960000  5.216001  16.0  21.00  26.0  30.00   \n",
       "\n",
       "                        max  \n",
       "Club                         \n",
       " SSV Jahn Regensburg   33.0  \n",
       "1. FC Heidenheim 1846  32.0  \n",
       "1. FC Kaiserslautern   33.0  \n",
       "1. FC Köln             35.0  \n",
       "1. FC Magdeburg        32.0  \n",
       "...                     ...  \n",
       "Zagłębie Sosnowiec     36.0  \n",
       "Çaykur Rizespor        34.0  \n",
       "Örebro SK              34.0  \n",
       "Östersunds FK          31.0  \n",
       "Śląsk Wrocław          35.0  \n",
       "\n",
       "[651 rows x 8 columns]"
      ]
     },
     "execution_count": 564,
     "metadata": {},
     "output_type": "execute_result"
    }
   ],
   "source": [
    "club_agedist = fifadata_copy[[\"Club\", \"Age\"]].groupby(['Club'])\n",
    "club_agedist[\"Age\"].describe()"
   ]
  },
  {
   "cell_type": "markdown",
   "metadata": {},
   "source": [
    "-->Above table shows the distribution of age corresponding to each Club. "
   ]
  },
  {
   "cell_type": "code",
   "execution_count": 565,
   "metadata": {
    "scrolled": false
   },
   "outputs": [
    {
     "data": {
      "text/plain": [
       "Club\n",
       "Paraná                      31.600000\n",
       "Cruzeiro                    30.600000\n",
       "Atlético Paranaense         30.400000\n",
       "Chapecoense                 30.400000\n",
       "Botafogo                    30.400000\n",
       "                              ...    \n",
       "FC Admira Wacker Mödling    21.925926\n",
       "FC Sochaux-Montbéliard      21.678571\n",
       "Bohemian FC                 21.480000\n",
       "FC Groningen                21.423077\n",
       "FC Nordsjælland             20.259259\n",
       "Name: mean, Length: 651, dtype: float64"
      ]
     },
     "execution_count": 565,
     "metadata": {},
     "output_type": "execute_result"
    }
   ],
   "source": [
    "club_agedist[\"Age\"].describe()['mean'].sort_values(ascending = False)"
   ]
  },
  {
   "cell_type": "markdown",
   "metadata": {},
   "source": [
    "-->Above tables shows the decreasing order of mean of players age of particular Club."
   ]
  },
  {
   "cell_type": "code",
   "execution_count": 566,
   "metadata": {},
   "outputs": [
    {
     "data": {
      "text/html": [
       "<div>\n",
       "<style scoped>\n",
       "    .dataframe tbody tr th:only-of-type {\n",
       "        vertical-align: middle;\n",
       "    }\n",
       "\n",
       "    .dataframe tbody tr th {\n",
       "        vertical-align: top;\n",
       "    }\n",
       "\n",
       "    .dataframe thead tr th {\n",
       "        text-align: left;\n",
       "    }\n",
       "\n",
       "    .dataframe thead tr:last-of-type th {\n",
       "        text-align: right;\n",
       "    }\n",
       "</style>\n",
       "<table border=\"1\" class=\"dataframe\">\n",
       "  <thead>\n",
       "    <tr>\n",
       "      <th></th>\n",
       "      <th>Age</th>\n",
       "    </tr>\n",
       "    <tr>\n",
       "      <th></th>\n",
       "      <th>no_of_young</th>\n",
       "    </tr>\n",
       "    <tr>\n",
       "      <th>Club</th>\n",
       "      <th></th>\n",
       "    </tr>\n",
       "  </thead>\n",
       "  <tbody>\n",
       "    <tr>\n",
       "      <th>Barnsley</th>\n",
       "      <td>28</td>\n",
       "    </tr>\n",
       "    <tr>\n",
       "      <th>Envigado FC</th>\n",
       "      <td>26</td>\n",
       "    </tr>\n",
       "    <tr>\n",
       "      <th>RC Celta</th>\n",
       "      <td>26</td>\n",
       "    </tr>\n",
       "    <tr>\n",
       "      <th>FC Sochaux-Montbéliard</th>\n",
       "      <td>26</td>\n",
       "    </tr>\n",
       "    <tr>\n",
       "      <th>Chamois Niortais Football Club</th>\n",
       "      <td>25</td>\n",
       "    </tr>\n",
       "    <tr>\n",
       "      <th>...</th>\n",
       "      <td>...</td>\n",
       "    </tr>\n",
       "    <tr>\n",
       "      <th>Ceará Sporting Club</th>\n",
       "      <td>0</td>\n",
       "    </tr>\n",
       "    <tr>\n",
       "      <th>Bahia</th>\n",
       "      <td>0</td>\n",
       "    </tr>\n",
       "    <tr>\n",
       "      <th>Atlético Mineiro</th>\n",
       "      <td>0</td>\n",
       "    </tr>\n",
       "    <tr>\n",
       "      <th>Internacional</th>\n",
       "      <td>0</td>\n",
       "    </tr>\n",
       "    <tr>\n",
       "      <th>Paraná</th>\n",
       "      <td>0</td>\n",
       "    </tr>\n",
       "  </tbody>\n",
       "</table>\n",
       "<p>651 rows × 1 columns</p>\n",
       "</div>"
      ],
      "text/plain": [
       "                                       Age\n",
       "                               no_of_young\n",
       "Club                                      \n",
       "Barnsley                                28\n",
       "Envigado FC                             26\n",
       "RC Celta                                26\n",
       "FC Sochaux-Montbéliard                  26\n",
       "Chamois Niortais Football Club          25\n",
       "...                                    ...\n",
       "Ceará Sporting Club                      0\n",
       "Bahia                                    0\n",
       "Atlético Mineiro                         0\n",
       "Internacional                            0\n",
       "Paraná                                   0\n",
       "\n",
       "[651 rows x 1 columns]"
      ]
     },
     "execution_count": 566,
     "metadata": {},
     "output_type": "execute_result"
    }
   ],
   "source": [
    "#players who are greater than 25 are not considered as young.\n",
    "def young_def(x):\n",
    "    if x>25:\n",
    "        return 0\n",
    "    else:\n",
    "        return 1\n",
    "    \n",
    "#function to count no of young players from each Club.\n",
    "def no_of_young(data):\n",
    "    return reduce(lambda x,y:x+y, data.apply(young_def))\n",
    "\n",
    "yng_players_per_club = club_agedist.agg({'Age':[no_of_young]})\n",
    "yng_players_per_club.sort_values([('Age','no_of_young')],ascending = False)"
   ]
  },
  {
   "cell_type": "markdown",
   "metadata": {},
   "source": [
    "--> From the above table we can say the Club 'Barnsley' has more no of young players."
   ]
  },
  {
   "cell_type": "markdown",
   "metadata": {},
   "source": [
    "# Part - 3\n",
    "## UK Road Accidents Data\n",
    "\n",
    "\n",
    "The UK government amassed traffic data from 2000 and 2016, recording over 1.6 million accidents in the process and making this one of the most comprehensive traffic data sets out there. It's a huge picture of a country undergoing change."
   ]
  },
  {
   "cell_type": "markdown",
   "metadata": {},
   "source": [
    "### 1. The very first step should be to merge all the 3 subsets of the data."
   ]
  },
  {
   "cell_type": "code",
   "execution_count": 567,
   "metadata": {},
   "outputs": [
    {
     "data": {
      "text/plain": [
       "Index(['Accident_Index', 'Location_Easting_OSGR', 'Location_Northing_OSGR',\n",
       "       'Longitude', 'Latitude', 'Police_Force', 'Accident_Severity',\n",
       "       'Number_of_Vehicles', 'Number_of_Casualties', 'Date', 'Day_of_Week',\n",
       "       'Time', 'Local_Authority_(District)', 'Local_Authority_(Highway)',\n",
       "       '1st_Road_Class', '1st_Road_Number', 'Road_Type', 'Speed_limit',\n",
       "       'Junction_Detail', 'Junction_Control', '2nd_Road_Class',\n",
       "       '2nd_Road_Number', 'Pedestrian_Crossing-Human_Control',\n",
       "       'Pedestrian_Crossing-Physical_Facilities', 'Light_Conditions',\n",
       "       'Weather_Conditions', 'Road_Surface_Conditions',\n",
       "       'Special_Conditions_at_Site', 'Carriageway_Hazards',\n",
       "       'Urban_or_Rural_Area', 'Did_Police_Officer_Attend_Scene_of_Accident',\n",
       "       'LSOA_of_Accident_Location', 'Year'],\n",
       "      dtype='object')"
      ]
     },
     "execution_count": 567,
     "metadata": {},
     "output_type": "execute_result"
    }
   ],
   "source": [
    "accidata1.columns"
   ]
  },
  {
   "cell_type": "code",
   "execution_count": 568,
   "metadata": {
    "scrolled": false
   },
   "outputs": [
    {
     "data": {
      "text/plain": [
       "array([ True,  True,  True,  True,  True,  True,  True,  True,  True,\n",
       "        True,  True,  True,  True,  True,  True,  True,  True,  True,\n",
       "        True,  True,  True,  True,  True,  True,  True,  True,  True,\n",
       "        True,  True,  True,  True,  True,  True])"
      ]
     },
     "execution_count": 568,
     "metadata": {},
     "output_type": "execute_result"
    }
   ],
   "source": [
    "#enter code/answer in this cell. You can add more code/markdown cells below for your answer. \n",
    "accidata1.columns == accidata2.columns #checking columns of accidata1 and accidata2."
   ]
  },
  {
   "cell_type": "code",
   "execution_count": 569,
   "metadata": {},
   "outputs": [
    {
     "data": {
      "text/plain": [
       "array([ True,  True,  True,  True,  True,  True,  True,  True,  True,\n",
       "        True,  True,  True,  True,  True,  True,  True,  True,  True,\n",
       "        True,  True,  True,  True,  True,  True,  True,  True,  True,\n",
       "        True,  True,  True,  True,  True,  True])"
      ]
     },
     "execution_count": 569,
     "metadata": {},
     "output_type": "execute_result"
    }
   ],
   "source": [
    "accidata2.columns == accidata3.columns #checking columns of accidata2 and accidata3."
   ]
  },
  {
   "cell_type": "code",
   "execution_count": 570,
   "metadata": {
    "scrolled": true
   },
   "outputs": [],
   "source": [
    "accidata_rows = accidata1.shape[0] + accidata2.shape[0] + accidata3.shape[0]"
   ]
  },
  {
   "cell_type": "code",
   "execution_count": 571,
   "metadata": {},
   "outputs": [],
   "source": [
    "accidata_list = [accidata1, accidata2, accidata3]\n",
    "accidata = pd.concat(accidata_list, axis = 0)"
   ]
  },
  {
   "cell_type": "markdown",
   "metadata": {},
   "source": [
    "-->accidata1, accidata2, accidata3 is merged as accidata."
   ]
  },
  {
   "cell_type": "code",
   "execution_count": 572,
   "metadata": {},
   "outputs": [
    {
     "name": "stdout",
     "output_type": "stream",
     "text": [
      "<class 'pandas.core.frame.DataFrame'>\n",
      "Int64Index: 1504150 entries, 0 to 464696\n",
      "Data columns (total 33 columns):\n",
      " #   Column                                       Non-Null Count    Dtype  \n",
      "---  ------                                       --------------    -----  \n",
      " 0   Accident_Index                               1504150 non-null  object \n",
      " 1   Location_Easting_OSGR                        1504049 non-null  float64\n",
      " 2   Location_Northing_OSGR                       1504049 non-null  float64\n",
      " 3   Longitude                                    1504049 non-null  float64\n",
      " 4   Latitude                                     1504049 non-null  float64\n",
      " 5   Police_Force                                 1504150 non-null  int64  \n",
      " 6   Accident_Severity                            1504150 non-null  int64  \n",
      " 7   Number_of_Vehicles                           1504150 non-null  int64  \n",
      " 8   Number_of_Casualties                         1504150 non-null  int64  \n",
      " 9   Date                                         1504150 non-null  object \n",
      " 10  Day_of_Week                                  1504150 non-null  int64  \n",
      " 11  Time                                         1504033 non-null  object \n",
      " 12  Local_Authority_(District)                   1504150 non-null  int64  \n",
      " 13  Local_Authority_(Highway)                    1504150 non-null  object \n",
      " 14  1st_Road_Class                               1504150 non-null  int64  \n",
      " 15  1st_Road_Number                              1504150 non-null  int64  \n",
      " 16  Road_Type                                    1504150 non-null  object \n",
      " 17  Speed_limit                                  1504150 non-null  int64  \n",
      " 18  Junction_Detail                              0 non-null        float64\n",
      " 19  Junction_Control                             901315 non-null   object \n",
      " 20  2nd_Road_Class                               1504150 non-null  int64  \n",
      " 21  2nd_Road_Number                              1504150 non-null  int64  \n",
      " 22  Pedestrian_Crossing-Human_Control            1504133 non-null  object \n",
      " 23  Pedestrian_Crossing-Physical_Facilities      1504116 non-null  object \n",
      " 24  Light_Conditions                             1504150 non-null  object \n",
      " 25  Weather_Conditions                           1504024 non-null  object \n",
      " 26  Road_Surface_Conditions                      1502192 non-null  object \n",
      " 27  Special_Conditions_at_Site                   1504135 non-null  object \n",
      " 28  Carriageway_Hazards                          1504121 non-null  object \n",
      " 29  Urban_or_Rural_Area                          1504150 non-null  int64  \n",
      " 30  Did_Police_Officer_Attend_Scene_of_Accident  1501228 non-null  object \n",
      " 31  LSOA_of_Accident_Location                    1395912 non-null  object \n",
      " 32  Year                                         1504150 non-null  int64  \n",
      "dtypes: float64(5), int64(13), object(15)\n",
      "memory usage: 390.2+ MB\n"
     ]
    }
   ],
   "source": [
    "accidata.info()"
   ]
  },
  {
   "cell_type": "markdown",
   "metadata": {},
   "source": [
    "### 2. What are the number of casualties in each day of the week? Sort them in descending order. "
   ]
  },
  {
   "cell_type": "code",
   "execution_count": 573,
   "metadata": {
    "scrolled": true
   },
   "outputs": [
    {
     "data": {
      "text/html": [
       "<div>\n",
       "<style scoped>\n",
       "    .dataframe tbody tr th:only-of-type {\n",
       "        vertical-align: middle;\n",
       "    }\n",
       "\n",
       "    .dataframe tbody tr th {\n",
       "        vertical-align: top;\n",
       "    }\n",
       "\n",
       "    .dataframe thead th {\n",
       "        text-align: right;\n",
       "    }\n",
       "</style>\n",
       "<table border=\"1\" class=\"dataframe\">\n",
       "  <thead>\n",
       "    <tr style=\"text-align: right;\">\n",
       "      <th></th>\n",
       "      <th>count</th>\n",
       "      <th>mean</th>\n",
       "      <th>std</th>\n",
       "      <th>min</th>\n",
       "      <th>25%</th>\n",
       "      <th>50%</th>\n",
       "      <th>75%</th>\n",
       "      <th>max</th>\n",
       "    </tr>\n",
       "    <tr>\n",
       "      <th>Day_of_Week</th>\n",
       "      <th></th>\n",
       "      <th></th>\n",
       "      <th></th>\n",
       "      <th></th>\n",
       "      <th></th>\n",
       "      <th></th>\n",
       "      <th></th>\n",
       "      <th></th>\n",
       "    </tr>\n",
       "  </thead>\n",
       "  <tbody>\n",
       "    <tr>\n",
       "      <th>1</th>\n",
       "      <td>164972.0</td>\n",
       "      <td>1.451955</td>\n",
       "      <td>0.929540</td>\n",
       "      <td>1.0</td>\n",
       "      <td>1.0</td>\n",
       "      <td>1.0</td>\n",
       "      <td>2.0</td>\n",
       "      <td>46.0</td>\n",
       "    </tr>\n",
       "    <tr>\n",
       "      <th>2</th>\n",
       "      <td>213748.0</td>\n",
       "      <td>1.328869</td>\n",
       "      <td>0.841812</td>\n",
       "      <td>1.0</td>\n",
       "      <td>1.0</td>\n",
       "      <td>1.0</td>\n",
       "      <td>1.0</td>\n",
       "      <td>93.0</td>\n",
       "    </tr>\n",
       "    <tr>\n",
       "      <th>3</th>\n",
       "      <td>224110.0</td>\n",
       "      <td>1.313980</td>\n",
       "      <td>0.781859</td>\n",
       "      <td>1.0</td>\n",
       "      <td>1.0</td>\n",
       "      <td>1.0</td>\n",
       "      <td>1.0</td>\n",
       "      <td>87.0</td>\n",
       "    </tr>\n",
       "    <tr>\n",
       "      <th>4</th>\n",
       "      <td>226359.0</td>\n",
       "      <td>1.315415</td>\n",
       "      <td>0.774199</td>\n",
       "      <td>1.0</td>\n",
       "      <td>1.0</td>\n",
       "      <td>1.0</td>\n",
       "      <td>1.0</td>\n",
       "      <td>68.0</td>\n",
       "    </tr>\n",
       "    <tr>\n",
       "      <th>5</th>\n",
       "      <td>226411.0</td>\n",
       "      <td>1.320802</td>\n",
       "      <td>0.769552</td>\n",
       "      <td>1.0</td>\n",
       "      <td>1.0</td>\n",
       "      <td>1.0</td>\n",
       "      <td>1.0</td>\n",
       "      <td>70.0</td>\n",
       "    </tr>\n",
       "    <tr>\n",
       "      <th>6</th>\n",
       "      <td>247137.0</td>\n",
       "      <td>1.343117</td>\n",
       "      <td>0.809954</td>\n",
       "      <td>1.0</td>\n",
       "      <td>1.0</td>\n",
       "      <td>1.0</td>\n",
       "      <td>1.0</td>\n",
       "      <td>51.0</td>\n",
       "    </tr>\n",
       "    <tr>\n",
       "      <th>7</th>\n",
       "      <td>201413.0</td>\n",
       "      <td>1.416299</td>\n",
       "      <td>0.886355</td>\n",
       "      <td>1.0</td>\n",
       "      <td>1.0</td>\n",
       "      <td>1.0</td>\n",
       "      <td>2.0</td>\n",
       "      <td>51.0</td>\n",
       "    </tr>\n",
       "  </tbody>\n",
       "</table>\n",
       "</div>"
      ],
      "text/plain": [
       "                count      mean       std  min  25%  50%  75%   max\n",
       "Day_of_Week                                                        \n",
       "1            164972.0  1.451955  0.929540  1.0  1.0  1.0  2.0  46.0\n",
       "2            213748.0  1.328869  0.841812  1.0  1.0  1.0  1.0  93.0\n",
       "3            224110.0  1.313980  0.781859  1.0  1.0  1.0  1.0  87.0\n",
       "4            226359.0  1.315415  0.774199  1.0  1.0  1.0  1.0  68.0\n",
       "5            226411.0  1.320802  0.769552  1.0  1.0  1.0  1.0  70.0\n",
       "6            247137.0  1.343117  0.809954  1.0  1.0  1.0  1.0  51.0\n",
       "7            201413.0  1.416299  0.886355  1.0  1.0  1.0  2.0  51.0"
      ]
     },
     "execution_count": 573,
     "metadata": {},
     "output_type": "execute_result"
    }
   ],
   "source": [
    "#enter code/answer in this cell. You can add more code/markdown cells below for your answer. \n",
    "causualities_perday = accidata[[\"Day_of_Week\", \"Number_of_Casualties\"]].groupby(\"Day_of_Week\")[\"Number_of_Casualties\"]\n",
    "causualities_perday.describe()"
   ]
  },
  {
   "cell_type": "markdown",
   "metadata": {},
   "source": [
    "-->From the above table in the count columns we can see number of casualties in each day of the week"
   ]
  },
  {
   "cell_type": "code",
   "execution_count": 574,
   "metadata": {},
   "outputs": [
    {
     "data": {
      "text/plain": [
       "Day_of_Week\n",
       "6    247137\n",
       "5    226411\n",
       "4    226359\n",
       "3    224110\n",
       "2    213748\n",
       "7    201413\n",
       "1    164972\n",
       "Name: Number_of_Casualties, dtype: int64"
      ]
     },
     "execution_count": 574,
     "metadata": {},
     "output_type": "execute_result"
    }
   ],
   "source": [
    "causualities_perday.count().sort_values(ascending = False)"
   ]
  },
  {
   "cell_type": "markdown",
   "metadata": {},
   "source": [
    " -->Descending order of number of casualties in each day of the week."
   ]
  },
  {
   "cell_type": "markdown",
   "metadata": {},
   "source": [
    "### 3. On each day of the week, what is the maximum and minimum speed limit on the roads the accidents happened?"
   ]
  },
  {
   "cell_type": "code",
   "execution_count": 575,
   "metadata": {
    "scrolled": true
   },
   "outputs": [
    {
     "data": {
      "text/html": [
       "<div>\n",
       "<style scoped>\n",
       "    .dataframe tbody tr th:only-of-type {\n",
       "        vertical-align: middle;\n",
       "    }\n",
       "\n",
       "    .dataframe tbody tr th {\n",
       "        vertical-align: top;\n",
       "    }\n",
       "\n",
       "    .dataframe thead th {\n",
       "        text-align: right;\n",
       "    }\n",
       "</style>\n",
       "<table border=\"1\" class=\"dataframe\">\n",
       "  <thead>\n",
       "    <tr style=\"text-align: right;\">\n",
       "      <th></th>\n",
       "      <th>count</th>\n",
       "      <th>mean</th>\n",
       "      <th>std</th>\n",
       "      <th>min</th>\n",
       "      <th>25%</th>\n",
       "      <th>50%</th>\n",
       "      <th>75%</th>\n",
       "      <th>max</th>\n",
       "    </tr>\n",
       "    <tr>\n",
       "      <th>Day_of_Week</th>\n",
       "      <th></th>\n",
       "      <th></th>\n",
       "      <th></th>\n",
       "      <th></th>\n",
       "      <th></th>\n",
       "      <th></th>\n",
       "      <th></th>\n",
       "      <th></th>\n",
       "    </tr>\n",
       "  </thead>\n",
       "  <tbody>\n",
       "    <tr>\n",
       "      <th>1</th>\n",
       "      <td>164972.0</td>\n",
       "      <td>40.533818</td>\n",
       "      <td>14.786942</td>\n",
       "      <td>10.0</td>\n",
       "      <td>30.0</td>\n",
       "      <td>30.0</td>\n",
       "      <td>60.0</td>\n",
       "      <td>70.0</td>\n",
       "    </tr>\n",
       "    <tr>\n",
       "      <th>2</th>\n",
       "      <td>213748.0</td>\n",
       "      <td>38.916692</td>\n",
       "      <td>14.136747</td>\n",
       "      <td>10.0</td>\n",
       "      <td>30.0</td>\n",
       "      <td>30.0</td>\n",
       "      <td>50.0</td>\n",
       "      <td>70.0</td>\n",
       "    </tr>\n",
       "    <tr>\n",
       "      <th>3</th>\n",
       "      <td>224110.0</td>\n",
       "      <td>38.596627</td>\n",
       "      <td>13.906744</td>\n",
       "      <td>10.0</td>\n",
       "      <td>30.0</td>\n",
       "      <td>30.0</td>\n",
       "      <td>50.0</td>\n",
       "      <td>70.0</td>\n",
       "    </tr>\n",
       "    <tr>\n",
       "      <th>4</th>\n",
       "      <td>226359.0</td>\n",
       "      <td>38.655719</td>\n",
       "      <td>13.932415</td>\n",
       "      <td>20.0</td>\n",
       "      <td>30.0</td>\n",
       "      <td>30.0</td>\n",
       "      <td>50.0</td>\n",
       "      <td>70.0</td>\n",
       "    </tr>\n",
       "    <tr>\n",
       "      <th>5</th>\n",
       "      <td>226411.0</td>\n",
       "      <td>38.711834</td>\n",
       "      <td>13.991332</td>\n",
       "      <td>10.0</td>\n",
       "      <td>30.0</td>\n",
       "      <td>30.0</td>\n",
       "      <td>50.0</td>\n",
       "      <td>70.0</td>\n",
       "    </tr>\n",
       "    <tr>\n",
       "      <th>6</th>\n",
       "      <td>247137.0</td>\n",
       "      <td>38.889462</td>\n",
       "      <td>14.142491</td>\n",
       "      <td>10.0</td>\n",
       "      <td>30.0</td>\n",
       "      <td>30.0</td>\n",
       "      <td>50.0</td>\n",
       "      <td>70.0</td>\n",
       "    </tr>\n",
       "    <tr>\n",
       "      <th>7</th>\n",
       "      <td>201413.0</td>\n",
       "      <td>39.167730</td>\n",
       "      <td>14.168921</td>\n",
       "      <td>10.0</td>\n",
       "      <td>30.0</td>\n",
       "      <td>30.0</td>\n",
       "      <td>50.0</td>\n",
       "      <td>70.0</td>\n",
       "    </tr>\n",
       "  </tbody>\n",
       "</table>\n",
       "</div>"
      ],
      "text/plain": [
       "                count       mean        std   min   25%   50%   75%   max\n",
       "Day_of_Week                                                              \n",
       "1            164972.0  40.533818  14.786942  10.0  30.0  30.0  60.0  70.0\n",
       "2            213748.0  38.916692  14.136747  10.0  30.0  30.0  50.0  70.0\n",
       "3            224110.0  38.596627  13.906744  10.0  30.0  30.0  50.0  70.0\n",
       "4            226359.0  38.655719  13.932415  20.0  30.0  30.0  50.0  70.0\n",
       "5            226411.0  38.711834  13.991332  10.0  30.0  30.0  50.0  70.0\n",
       "6            247137.0  38.889462  14.142491  10.0  30.0  30.0  50.0  70.0\n",
       "7            201413.0  39.167730  14.168921  10.0  30.0  30.0  50.0  70.0"
      ]
     },
     "execution_count": 575,
     "metadata": {},
     "output_type": "execute_result"
    }
   ],
   "source": [
    "#enter code/answer in this cell. You can add more code/markdown cells below for your answer. \n",
    "speed_perday = accidata[[\"Day_of_Week\", \"Speed_limit\"]].groupby(\"Day_of_Week\")[\"Speed_limit\"]\n",
    "speed_perday.describe()"
   ]
  },
  {
   "cell_type": "markdown",
   "metadata": {},
   "source": [
    "-->This table provides mean, median(50%), max, min  speed limit on the roads the accidents happened on each day of the week."
   ]
  },
  {
   "cell_type": "code",
   "execution_count": 576,
   "metadata": {
    "scrolled": false
   },
   "outputs": [
    {
     "data": {
      "text/plain": [
       "Day_of_Week\n",
       "1    70\n",
       "2    70\n",
       "3    70\n",
       "4    70\n",
       "5    70\n",
       "6    70\n",
       "7    70\n",
       "Name: Speed_limit, dtype: int64"
      ]
     },
     "execution_count": 576,
     "metadata": {},
     "output_type": "execute_result"
    }
   ],
   "source": [
    "maxspeed_perday = speed_perday.max()\n",
    "maxspeed_perday"
   ]
  },
  {
   "cell_type": "markdown",
   "metadata": {},
   "source": [
    "-->Maximum speed limit on the roads the accidents happened on each day of the week."
   ]
  },
  {
   "cell_type": "code",
   "execution_count": 577,
   "metadata": {},
   "outputs": [
    {
     "data": {
      "text/plain": [
       "Day_of_Week\n",
       "1    10\n",
       "2    10\n",
       "3    10\n",
       "4    20\n",
       "5    10\n",
       "6    10\n",
       "7    10\n",
       "Name: Speed_limit, dtype: int64"
      ]
     },
     "execution_count": 577,
     "metadata": {},
     "output_type": "execute_result"
    }
   ],
   "source": [
    "minspeed_perday = speed_perday.min()\n",
    "minspeed_perday"
   ]
  },
  {
   "cell_type": "markdown",
   "metadata": {},
   "source": [
    "-->Minimum speed limit on the roads the accidents happened on each day of the week."
   ]
  },
  {
   "cell_type": "markdown",
   "metadata": {},
   "source": [
    "### 4. What is the importance of Light and Weather conditions in predicting accident severity? What does your intuition say and what does the data portray?"
   ]
  },
  {
   "cell_type": "code",
   "execution_count": 578,
   "metadata": {
    "scrolled": true
   },
   "outputs": [
    {
     "data": {
      "text/plain": [
       "array(['Daylight: Street light present',\n",
       "       'Darkness: Street lights present and lit',\n",
       "       'Darkness: Street lighting unknown',\n",
       "       'Darkness: Street lights present but unlit',\n",
       "       'Darkeness: No street lighting'], dtype=object)"
      ]
     },
     "execution_count": 578,
     "metadata": {},
     "output_type": "execute_result"
    }
   ],
   "source": [
    "#enter code/answer in this cell. You can add more code/markdown cells below for your answer. \n",
    "accidata[\"Light_Conditions\"].unique()"
   ]
  },
  {
   "cell_type": "code",
   "execution_count": 579,
   "metadata": {},
   "outputs": [
    {
     "data": {
      "text/plain": [
       "array([2, 3, 1])"
      ]
     },
     "execution_count": 579,
     "metadata": {},
     "output_type": "execute_result"
    }
   ],
   "source": [
    "accidata[\"Accident_Severity\"].unique()"
   ]
  },
  {
   "cell_type": "code",
   "execution_count": 580,
   "metadata": {
    "scrolled": false
   },
   "outputs": [
    {
     "data": {
      "text/plain": [
       "array(['Raining without high winds', 'Fine without high winds', 'Unknown',\n",
       "       'Snowing without high winds', 'Other', 'Fine with high winds',\n",
       "       'Raining with high winds', 'Fog or mist',\n",
       "       'Snowing with high winds', nan], dtype=object)"
      ]
     },
     "execution_count": 580,
     "metadata": {},
     "output_type": "execute_result"
    }
   ],
   "source": [
    "accidata[\"Weather_Conditions\"].unique()"
   ]
  },
  {
   "cell_type": "markdown",
   "metadata": {},
   "source": [
    "## Light_Conditions vs Accident_Severity data analysis:"
   ]
  },
  {
   "cell_type": "code",
   "execution_count": 581,
   "metadata": {},
   "outputs": [
    {
     "data": {
      "text/plain": [
       "<seaborn.axisgrid.FacetGrid at 0x7ff0e4cf3588>"
      ]
     },
     "execution_count": 581,
     "metadata": {},
     "output_type": "execute_result"
    },
    {
     "data": {
      "image/png": "[encoded data removed]",
      "text/plain": [
       "<matplotlib.figure.Figure at 0x7ff0e4cf3b70>"
      ]
     },
     "metadata": {
      "needs_background": "light"
     },
     "output_type": "display_data"
    }
   ],
   "source": [
    "#fig = plt.figure(figsize = (20,29))\n",
    "g = sns.FacetGrid(accidata,row = \"Light_Conditions\")\n",
    "g.map(plt.hist, \"Accident_Severity\")"
   ]
  },
  {
   "cell_type": "code",
   "execution_count": 582,
   "metadata": {
    "scrolled": true
   },
   "outputs": [
    {
     "data": {
      "text/html": [
       "<div>\n",
       "<style scoped>\n",
       "    .dataframe tbody tr th:only-of-type {\n",
       "        vertical-align: middle;\n",
       "    }\n",
       "\n",
       "    .dataframe tbody tr th {\n",
       "        vertical-align: top;\n",
       "    }\n",
       "\n",
       "    .dataframe thead th {\n",
       "        text-align: right;\n",
       "    }\n",
       "</style>\n",
       "<table border=\"1\" class=\"dataframe\">\n",
       "  <thead>\n",
       "    <tr style=\"text-align: right;\">\n",
       "      <th></th>\n",
       "      <th>count</th>\n",
       "      <th>mean</th>\n",
       "      <th>std</th>\n",
       "      <th>min</th>\n",
       "      <th>25%</th>\n",
       "      <th>50%</th>\n",
       "      <th>75%</th>\n",
       "      <th>max</th>\n",
       "    </tr>\n",
       "    <tr>\n",
       "      <th>Light_Conditions</th>\n",
       "      <th></th>\n",
       "      <th></th>\n",
       "      <th></th>\n",
       "      <th></th>\n",
       "      <th></th>\n",
       "      <th></th>\n",
       "      <th></th>\n",
       "      <th></th>\n",
       "    </tr>\n",
       "  </thead>\n",
       "  <tbody>\n",
       "    <tr>\n",
       "      <th>Darkeness: No street lighting</th>\n",
       "      <td>82559.0</td>\n",
       "      <td>2.719510</td>\n",
       "      <td>0.537615</td>\n",
       "      <td>1.0</td>\n",
       "      <td>3.0</td>\n",
       "      <td>3.0</td>\n",
       "      <td>3.0</td>\n",
       "      <td>3.0</td>\n",
       "    </tr>\n",
       "    <tr>\n",
       "      <th>Darkness: Street lighting unknown</th>\n",
       "      <td>16120.0</td>\n",
       "      <td>2.848449</td>\n",
       "      <td>0.390243</td>\n",
       "      <td>1.0</td>\n",
       "      <td>3.0</td>\n",
       "      <td>3.0</td>\n",
       "      <td>3.0</td>\n",
       "      <td>3.0</td>\n",
       "    </tr>\n",
       "    <tr>\n",
       "      <th>Darkness: Street lights present and lit</th>\n",
       "      <td>296340.0</td>\n",
       "      <td>2.823294</td>\n",
       "      <td>0.415759</td>\n",
       "      <td>1.0</td>\n",
       "      <td>3.0</td>\n",
       "      <td>3.0</td>\n",
       "      <td>3.0</td>\n",
       "      <td>3.0</td>\n",
       "    </tr>\n",
       "    <tr>\n",
       "      <th>Darkness: Street lights present but unlit</th>\n",
       "      <td>6909.0</td>\n",
       "      <td>2.815892</td>\n",
       "      <td>0.432438</td>\n",
       "      <td>1.0</td>\n",
       "      <td>3.0</td>\n",
       "      <td>3.0</td>\n",
       "      <td>3.0</td>\n",
       "      <td>3.0</td>\n",
       "    </tr>\n",
       "    <tr>\n",
       "      <th>Daylight: Street light present</th>\n",
       "      <td>1102222.0</td>\n",
       "      <td>2.851074</td>\n",
       "      <td>0.384127</td>\n",
       "      <td>1.0</td>\n",
       "      <td>3.0</td>\n",
       "      <td>3.0</td>\n",
       "      <td>3.0</td>\n",
       "      <td>3.0</td>\n",
       "    </tr>\n",
       "  </tbody>\n",
       "</table>\n",
       "</div>"
      ],
      "text/plain": [
       "                                               count      mean       std  min  \\\n",
       "Light_Conditions                                                                \n",
       "Darkeness: No street lighting                82559.0  2.719510  0.537615  1.0   \n",
       "Darkness: Street lighting unknown            16120.0  2.848449  0.390243  1.0   \n",
       "Darkness: Street lights present and lit     296340.0  2.823294  0.415759  1.0   \n",
       "Darkness: Street lights present but unlit     6909.0  2.815892  0.432438  1.0   \n",
       "Daylight: Street light present             1102222.0  2.851074  0.384127  1.0   \n",
       "\n",
       "                                           25%  50%  75%  max  \n",
       "Light_Conditions                                               \n",
       "Darkeness: No street lighting              3.0  3.0  3.0  3.0  \n",
       "Darkness: Street lighting unknown          3.0  3.0  3.0  3.0  \n",
       "Darkness: Street lights present and lit    3.0  3.0  3.0  3.0  \n",
       "Darkness: Street lights present but unlit  3.0  3.0  3.0  3.0  \n",
       "Daylight: Street light present             3.0  3.0  3.0  3.0  "
      ]
     },
     "execution_count": 582,
     "metadata": {},
     "output_type": "execute_result"
    }
   ],
   "source": [
    "light_acci = accidata[[\"Light_Conditions\",\"Accident_Severity\"]].groupby(\"Light_Conditions\")\n",
    "light_acci[\"Accident_Severity\"].describe()"
   ]
  },
  {
   "cell_type": "code",
   "execution_count": 583,
   "metadata": {
    "scrolled": false
   },
   "outputs": [
    {
     "name": "stdout",
     "output_type": "stream",
     "text": [
      "Light_Conditions               Accident_Severity\n",
      "Darkeness: No street lighting  3                    63002\n",
      "                               2                    15957\n",
      "                               1                     3600\n",
      "dtype: int64\n",
      "Light_Conditions                   Accident_Severity\n",
      "Darkness: Street lighting unknown  3                    13868\n",
      "                                   2                     2061\n",
      "                                   1                      191\n",
      "dtype: int64\n",
      "Light_Conditions                         Accident_Severity\n",
      "Darkness: Street lights present and lit  3                    248031\n",
      "                                         2                     44253\n",
      "                                         1                      4056\n",
      "dtype: int64\n",
      "Light_Conditions                           Accident_Severity\n",
      "Darkness: Street lights present but unlit  3                    5764\n",
      "                                           2                    1018\n",
      "                                           1                     127\n",
      "dtype: int64\n",
      "Light_Conditions                Accident_Severity\n",
      "Daylight: Street light present  3                    949540\n",
      "                                2                    141215\n",
      "                                1                     11467\n",
      "dtype: int64\n"
     ]
    }
   ],
   "source": [
    "print(light_acci.get_group(('Darkeness: No street lighting')).value_counts())\n",
    "print(light_acci.get_group(('Darkness: Street lighting unknown')).value_counts())\n",
    "print(light_acci.get_group(('Darkness: Street lights present and lit')).value_counts())\n",
    "print(light_acci.get_group(('Darkness: Street lights present but unlit')).value_counts())\n",
    "print(light_acci.get_group(('Daylight: Street light present')).value_counts())"
   ]
  },
  {
   "cell_type": "markdown",
   "metadata": {},
   "source": [
    "-->From the above three analysis(plots, table, particular groupvalues) we can say that most no of the accidents occured during Daylight: Street light present compared to remaining conditions.\\\n",
    "<br>\n",
    "-->And second highest no of accidents occured during Darkness: Street lights present and lit.\\\n",
    "<br>\n",
    "-->From above analysis(plots, groupvalues) of each conditions we can conclude that accidents with high severity i.e 3 occured mostly during Daylight: Street light present. And second highest no of accidents of severity 3 occured during Darkness: Street lights present and lit.\\\n",
    "<br>\n",
    "-->We can also say that accidents with severity 2 occured mostly during Daylight: Street light present compared to remaining conditions. And second highest no of accidents of severity 2 occured during Darkness: Street lights present and lit. <br>\n",
    "<br>\n",
    "-->We can also say that accidents with severity 1 occured mostly during Daylight: Street light present compared to remaining conditions. And second highest no of accidents of severity 1 occured during Darkness: Street lights present and lit.<br>\n",
    "<br>\n",
    "-->From this interpretation we can say that our intution which says dim street lights will lead to more accidents and their severity would be high as well is wrong by high probability."
   ]
  },
  {
   "cell_type": "markdown",
   "metadata": {},
   "source": [
    "## Weather_Conditions vs Accident_Severity data analysis:"
   ]
  },
  {
   "cell_type": "code",
   "execution_count": 584,
   "metadata": {
    "scrolled": false
   },
   "outputs": [
    {
     "data": {
      "text/plain": [
       "<seaborn.axisgrid.FacetGrid at 0x7ff0dcf309b0>"
      ]
     },
     "execution_count": 584,
     "metadata": {},
     "output_type": "execute_result"
    },
    {
     "data": {
      "image/png": "[encoded data removed]",
      "text/plain": [
       "<matplotlib.figure.Figure at 0x7ff0e29a3ac8>"
      ]
     },
     "metadata": {
      "needs_background": "light"
     },
     "output_type": "display_data"
    }
   ],
   "source": [
    "g = sns.FacetGrid(accidata,row = \"Weather_Conditions\")\n",
    "g.map(plt.hist, \"Accident_Severity\")"
   ]
  },
  {
   "cell_type": "code",
   "execution_count": 585,
   "metadata": {
    "scrolled": true
   },
   "outputs": [
    {
     "data": {
      "text/html": [
       "<div>\n",
       "<style scoped>\n",
       "    .dataframe tbody tr th:only-of-type {\n",
       "        vertical-align: middle;\n",
       "    }\n",
       "\n",
       "    .dataframe tbody tr th {\n",
       "        vertical-align: top;\n",
       "    }\n",
       "\n",
       "    .dataframe thead th {\n",
       "        text-align: right;\n",
       "    }\n",
       "</style>\n",
       "<table border=\"1\" class=\"dataframe\">\n",
       "  <thead>\n",
       "    <tr style=\"text-align: right;\">\n",
       "      <th></th>\n",
       "      <th>count</th>\n",
       "      <th>mean</th>\n",
       "      <th>std</th>\n",
       "      <th>min</th>\n",
       "      <th>25%</th>\n",
       "      <th>50%</th>\n",
       "      <th>75%</th>\n",
       "      <th>max</th>\n",
       "    </tr>\n",
       "    <tr>\n",
       "      <th>Weather_Conditions</th>\n",
       "      <th></th>\n",
       "      <th></th>\n",
       "      <th></th>\n",
       "      <th></th>\n",
       "      <th></th>\n",
       "      <th></th>\n",
       "      <th></th>\n",
       "      <th></th>\n",
       "    </tr>\n",
       "  </thead>\n",
       "  <tbody>\n",
       "    <tr>\n",
       "      <th>Fine with high winds</th>\n",
       "      <td>18355.0</td>\n",
       "      <td>2.816562</td>\n",
       "      <td>0.432130</td>\n",
       "      <td>1.0</td>\n",
       "      <td>3.0</td>\n",
       "      <td>3.0</td>\n",
       "      <td>3.0</td>\n",
       "      <td>3.0</td>\n",
       "    </tr>\n",
       "    <tr>\n",
       "      <th>Fine without high winds</th>\n",
       "      <td>1203943.0</td>\n",
       "      <td>2.832991</td>\n",
       "      <td>0.407354</td>\n",
       "      <td>1.0</td>\n",
       "      <td>3.0</td>\n",
       "      <td>3.0</td>\n",
       "      <td>3.0</td>\n",
       "      <td>3.0</td>\n",
       "    </tr>\n",
       "    <tr>\n",
       "      <th>Fog or mist</th>\n",
       "      <td>8190.0</td>\n",
       "      <td>2.816239</td>\n",
       "      <td>0.440146</td>\n",
       "      <td>1.0</td>\n",
       "      <td>3.0</td>\n",
       "      <td>3.0</td>\n",
       "      <td>3.0</td>\n",
       "      <td>3.0</td>\n",
       "    </tr>\n",
       "    <tr>\n",
       "      <th>Other</th>\n",
       "      <td>33503.0</td>\n",
       "      <td>2.872698</td>\n",
       "      <td>0.358679</td>\n",
       "      <td>1.0</td>\n",
       "      <td>3.0</td>\n",
       "      <td>3.0</td>\n",
       "      <td>3.0</td>\n",
       "      <td>3.0</td>\n",
       "    </tr>\n",
       "    <tr>\n",
       "      <th>Raining with high winds</th>\n",
       "      <td>20813.0</td>\n",
       "      <td>2.840052</td>\n",
       "      <td>0.401595</td>\n",
       "      <td>1.0</td>\n",
       "      <td>3.0</td>\n",
       "      <td>3.0</td>\n",
       "      <td>3.0</td>\n",
       "      <td>3.0</td>\n",
       "    </tr>\n",
       "    <tr>\n",
       "      <th>Raining without high winds</th>\n",
       "      <td>177663.0</td>\n",
       "      <td>2.858434</td>\n",
       "      <td>0.377355</td>\n",
       "      <td>1.0</td>\n",
       "      <td>3.0</td>\n",
       "      <td>3.0</td>\n",
       "      <td>3.0</td>\n",
       "      <td>3.0</td>\n",
       "    </tr>\n",
       "    <tr>\n",
       "      <th>Snowing with high winds</th>\n",
       "      <td>1960.0</td>\n",
       "      <td>2.872449</td>\n",
       "      <td>0.353002</td>\n",
       "      <td>1.0</td>\n",
       "      <td>3.0</td>\n",
       "      <td>3.0</td>\n",
       "      <td>3.0</td>\n",
       "      <td>3.0</td>\n",
       "    </tr>\n",
       "    <tr>\n",
       "      <th>Snowing without high winds</th>\n",
       "      <td>11301.0</td>\n",
       "      <td>2.888594</td>\n",
       "      <td>0.339017</td>\n",
       "      <td>1.0</td>\n",
       "      <td>3.0</td>\n",
       "      <td>3.0</td>\n",
       "      <td>3.0</td>\n",
       "      <td>3.0</td>\n",
       "    </tr>\n",
       "    <tr>\n",
       "      <th>Unknown</th>\n",
       "      <td>28296.0</td>\n",
       "      <td>2.887723</td>\n",
       "      <td>0.341938</td>\n",
       "      <td>1.0</td>\n",
       "      <td>3.0</td>\n",
       "      <td>3.0</td>\n",
       "      <td>3.0</td>\n",
       "      <td>3.0</td>\n",
       "    </tr>\n",
       "  </tbody>\n",
       "</table>\n",
       "</div>"
      ],
      "text/plain": [
       "                                count      mean       std  min  25%  50%  75%  \\\n",
       "Weather_Conditions                                                              \n",
       "Fine with high winds          18355.0  2.816562  0.432130  1.0  3.0  3.0  3.0   \n",
       "Fine without high winds     1203943.0  2.832991  0.407354  1.0  3.0  3.0  3.0   \n",
       "Fog or mist                    8190.0  2.816239  0.440146  1.0  3.0  3.0  3.0   \n",
       "Other                         33503.0  2.872698  0.358679  1.0  3.0  3.0  3.0   \n",
       "Raining with high winds       20813.0  2.840052  0.401595  1.0  3.0  3.0  3.0   \n",
       "Raining without high winds   177663.0  2.858434  0.377355  1.0  3.0  3.0  3.0   \n",
       "Snowing with high winds        1960.0  2.872449  0.353002  1.0  3.0  3.0  3.0   \n",
       "Snowing without high winds    11301.0  2.888594  0.339017  1.0  3.0  3.0  3.0   \n",
       "Unknown                       28296.0  2.887723  0.341938  1.0  3.0  3.0  3.0   \n",
       "\n",
       "                            max  \n",
       "Weather_Conditions               \n",
       "Fine with high winds        3.0  \n",
       "Fine without high winds     3.0  \n",
       "Fog or mist                 3.0  \n",
       "Other                       3.0  \n",
       "Raining with high winds     3.0  \n",
       "Raining without high winds  3.0  \n",
       "Snowing with high winds     3.0  \n",
       "Snowing without high winds  3.0  \n",
       "Unknown                     3.0  "
      ]
     },
     "execution_count": 585,
     "metadata": {},
     "output_type": "execute_result"
    }
   ],
   "source": [
    "weather_acci = accidata[[\"Weather_Conditions\",\"Accident_Severity\"]].groupby(\"Weather_Conditions\")\n",
    "weather_acci[\"Accident_Severity\"].describe()"
   ]
  },
  {
   "cell_type": "code",
   "execution_count": 586,
   "metadata": {},
   "outputs": [
    {
     "name": "stdout",
     "output_type": "stream",
     "text": [
      "Weather_Conditions    Accident_Severity\n",
      "Fine with high winds  3                    15327\n",
      "                      2                     2689\n",
      "                      1                      339\n",
      "dtype: int64\n",
      "Weather_Conditions       Accident_Severity\n",
      "Fine without high winds  3                    1019019\n",
      "                         2                     168779\n",
      "                         1                      16145\n",
      "dtype: int64\n",
      "Weather_Conditions  Accident_Severity\n",
      "Fog or mist         3                    6864\n",
      "                    2                    1147\n",
      "                    1                     179\n",
      "dtype: int64\n",
      "Weather_Conditions  Accident_Severity\n",
      "Other               3                    29532\n",
      "                    2                     3677\n",
      "                    1                      294\n",
      "dtype: int64\n",
      "Weather_Conditions       Accident_Severity\n",
      "Raining with high winds  3                    17764\n",
      "                         2                     2769\n",
      "                         1                      280\n",
      "dtype: int64\n",
      "Weather_Conditions          Accident_Severity\n",
      "Raining without high winds  3                    154366\n",
      "                            2                     21443\n",
      "                            1                      1854\n",
      "dtype: int64\n",
      "Weather_Conditions       Accident_Severity\n",
      "Snowing with high winds  3                    1723\n",
      "                         2                     224\n",
      "                         1                      13\n",
      "dtype: int64\n",
      "Weather_Conditions          Accident_Severity\n",
      "Snowing without high winds  3                    10132\n",
      "                            2                     1079\n",
      "                            1                       90\n",
      "dtype: int64\n",
      "Weather_Conditions  Accident_Severity\n",
      "Unknown             3                    25363\n",
      "                    2                     2689\n",
      "                    1                      244\n",
      "dtype: int64\n"
     ]
    }
   ],
   "source": [
    "print(weather_acci.get_group(('Fine with high winds')).value_counts())\n",
    "print(weather_acci.get_group(('Fine without high winds')).value_counts())\n",
    "print(weather_acci.get_group(('Fog or mist')).value_counts())\n",
    "print(weather_acci.get_group(('Other')).value_counts())\n",
    "print(weather_acci.get_group(('Raining with high winds')).value_counts())\n",
    "print(weather_acci.get_group(('Raining without high winds')).value_counts())\n",
    "print(weather_acci.get_group(('Snowing with high winds')).value_counts())\n",
    "print(weather_acci.get_group(('Snowing without high winds')).value_counts())\n",
    "print(weather_acci.get_group(('Unknown')).value_counts())"
   ]
  },
  {
   "cell_type": "code",
   "execution_count": 587,
   "metadata": {},
   "outputs": [
    {
     "data": {
      "text/plain": [
       "0.8305895668278629"
      ]
     },
     "execution_count": 587,
     "metadata": {},
     "output_type": "execute_result"
    }
   ],
   "source": [
    "1-((244+ 90+ 13+ 1854+ 280+ 294+ 179+ 339)/(16145+244+ 90+ 13+ 1854+ 280+ 294+ 179+ 339)) #probability of high severe accidents occured during Fine Without High winds."
   ]
  },
  {
   "cell_type": "markdown",
   "metadata": {},
   "source": [
    "-->From the above three analysis(plots, table, particular groupvalues) we can say that most no of the accidents occured during Fine without high winds compared to remaining conditions.\\\n",
    "<br>\n",
    "-->And second highest no of accidents occured during Raining without high winds.\\\n",
    "<br>\n",
    "-->From above hist plots of each conditions we can conclude that accidents with high severity i.e 3 occured mostly during Fine without high winds. And second highest no of accidents of severity 3 occured during Raining without high winds.\\\n",
    "<br>\n",
    "-->We can say that accidents with severity 2 occured mostly during Fine without high winds compared to remaining conditions. And second highest no of accidents of severity 2 occured during Raining without high winds.<br> \n",
    "<br>\n",
    "-->We can say that accidents with severity 1 occured mostly during Fine without high winds compared to remaining conditions. And second highest no of accidents of severity 2 occured during Raining without high winds.\\ \n",
    "<br>\n",
    "-->Here we can consider Fine without high winds as a good weather and the condition Raining without high winds as bad weather.\\\n",
    "<br>\n",
    "-->From this interpretation we can say that our intution which says bad weather will lead to more accidents and their severity would be high as well is wrong (by good amount of probability, say 0.83) which means 83% percentage of high severe accidents i.e with severity 1 occurs during good weather(Fine without high winds)."
   ]
  },
  {
   "cell_type": "markdown",
   "metadata": {},
   "source": [
    "### 5. To predict the severity of the accidents which columns do you think are unnecessary and should be dropped before implementing a regression model. Support your statement using relevant plots and hypotheses derived from them."
   ]
  },
  {
   "cell_type": "code",
   "execution_count": 588,
   "metadata": {
    "scrolled": true
   },
   "outputs": [
    {
     "data": {
      "text/html": [
       "<div>\n",
       "<style scoped>\n",
       "    .dataframe tbody tr th:only-of-type {\n",
       "        vertical-align: middle;\n",
       "    }\n",
       "\n",
       "    .dataframe tbody tr th {\n",
       "        vertical-align: top;\n",
       "    }\n",
       "\n",
       "    .dataframe thead th {\n",
       "        text-align: right;\n",
       "    }\n",
       "</style>\n",
       "<table border=\"1\" class=\"dataframe\">\n",
       "  <thead>\n",
       "    <tr style=\"text-align: right;\">\n",
       "      <th></th>\n",
       "      <th>Accident_Index</th>\n",
       "      <th>Location_Easting_OSGR</th>\n",
       "      <th>Location_Northing_OSGR</th>\n",
       "      <th>Longitude</th>\n",
       "      <th>Latitude</th>\n",
       "      <th>Police_Force</th>\n",
       "      <th>Accident_Severity</th>\n",
       "      <th>Number_of_Vehicles</th>\n",
       "      <th>Number_of_Casualties</th>\n",
       "      <th>Date</th>\n",
       "      <th>...</th>\n",
       "      <th>Pedestrian_Crossing-Physical_Facilities</th>\n",
       "      <th>Light_Conditions</th>\n",
       "      <th>Weather_Conditions</th>\n",
       "      <th>Road_Surface_Conditions</th>\n",
       "      <th>Special_Conditions_at_Site</th>\n",
       "      <th>Carriageway_Hazards</th>\n",
       "      <th>Urban_or_Rural_Area</th>\n",
       "      <th>Did_Police_Officer_Attend_Scene_of_Accident</th>\n",
       "      <th>LSOA_of_Accident_Location</th>\n",
       "      <th>Year</th>\n",
       "    </tr>\n",
       "  </thead>\n",
       "  <tbody>\n",
       "    <tr>\n",
       "      <th>0</th>\n",
       "      <td>200501BS00001</td>\n",
       "      <td>525680.0</td>\n",
       "      <td>178240.0</td>\n",
       "      <td>-0.191170</td>\n",
       "      <td>51.489096</td>\n",
       "      <td>1</td>\n",
       "      <td>2</td>\n",
       "      <td>1</td>\n",
       "      <td>1</td>\n",
       "      <td>04/01/2005</td>\n",
       "      <td>...</td>\n",
       "      <td>Zebra crossing</td>\n",
       "      <td>Daylight: Street light present</td>\n",
       "      <td>Raining without high winds</td>\n",
       "      <td>Wet/Damp</td>\n",
       "      <td>None</td>\n",
       "      <td>None</td>\n",
       "      <td>1</td>\n",
       "      <td>Yes</td>\n",
       "      <td>E01002849</td>\n",
       "      <td>2005</td>\n",
       "    </tr>\n",
       "    <tr>\n",
       "      <th>1</th>\n",
       "      <td>200501BS00002</td>\n",
       "      <td>524170.0</td>\n",
       "      <td>181650.0</td>\n",
       "      <td>-0.211708</td>\n",
       "      <td>51.520075</td>\n",
       "      <td>1</td>\n",
       "      <td>3</td>\n",
       "      <td>1</td>\n",
       "      <td>1</td>\n",
       "      <td>05/01/2005</td>\n",
       "      <td>...</td>\n",
       "      <td>Pedestrian phase at traffic signal junction</td>\n",
       "      <td>Darkness: Street lights present and lit</td>\n",
       "      <td>Fine without high winds</td>\n",
       "      <td>Dry</td>\n",
       "      <td>None</td>\n",
       "      <td>None</td>\n",
       "      <td>1</td>\n",
       "      <td>Yes</td>\n",
       "      <td>E01002909</td>\n",
       "      <td>2005</td>\n",
       "    </tr>\n",
       "    <tr>\n",
       "      <th>2</th>\n",
       "      <td>200501BS00003</td>\n",
       "      <td>524520.0</td>\n",
       "      <td>182240.0</td>\n",
       "      <td>-0.206458</td>\n",
       "      <td>51.525301</td>\n",
       "      <td>1</td>\n",
       "      <td>3</td>\n",
       "      <td>2</td>\n",
       "      <td>1</td>\n",
       "      <td>06/01/2005</td>\n",
       "      <td>...</td>\n",
       "      <td>No physical crossing within 50 meters</td>\n",
       "      <td>Darkness: Street lights present and lit</td>\n",
       "      <td>Fine without high winds</td>\n",
       "      <td>Dry</td>\n",
       "      <td>None</td>\n",
       "      <td>None</td>\n",
       "      <td>1</td>\n",
       "      <td>Yes</td>\n",
       "      <td>E01002857</td>\n",
       "      <td>2005</td>\n",
       "    </tr>\n",
       "    <tr>\n",
       "      <th>3</th>\n",
       "      <td>200501BS00004</td>\n",
       "      <td>526900.0</td>\n",
       "      <td>177530.0</td>\n",
       "      <td>-0.173862</td>\n",
       "      <td>51.482442</td>\n",
       "      <td>1</td>\n",
       "      <td>3</td>\n",
       "      <td>1</td>\n",
       "      <td>1</td>\n",
       "      <td>07/01/2005</td>\n",
       "      <td>...</td>\n",
       "      <td>No physical crossing within 50 meters</td>\n",
       "      <td>Daylight: Street light present</td>\n",
       "      <td>Fine without high winds</td>\n",
       "      <td>Dry</td>\n",
       "      <td>None</td>\n",
       "      <td>None</td>\n",
       "      <td>1</td>\n",
       "      <td>Yes</td>\n",
       "      <td>E01002840</td>\n",
       "      <td>2005</td>\n",
       "    </tr>\n",
       "    <tr>\n",
       "      <th>4</th>\n",
       "      <td>200501BS00005</td>\n",
       "      <td>528060.0</td>\n",
       "      <td>179040.0</td>\n",
       "      <td>-0.156618</td>\n",
       "      <td>51.495752</td>\n",
       "      <td>1</td>\n",
       "      <td>3</td>\n",
       "      <td>1</td>\n",
       "      <td>1</td>\n",
       "      <td>10/01/2005</td>\n",
       "      <td>...</td>\n",
       "      <td>No physical crossing within 50 meters</td>\n",
       "      <td>Darkness: Street lighting unknown</td>\n",
       "      <td>Fine without high winds</td>\n",
       "      <td>Wet/Damp</td>\n",
       "      <td>None</td>\n",
       "      <td>None</td>\n",
       "      <td>1</td>\n",
       "      <td>Yes</td>\n",
       "      <td>E01002863</td>\n",
       "      <td>2005</td>\n",
       "    </tr>\n",
       "    <tr>\n",
       "      <th>5</th>\n",
       "      <td>200501BS00006</td>\n",
       "      <td>524770.0</td>\n",
       "      <td>181160.0</td>\n",
       "      <td>-0.203238</td>\n",
       "      <td>51.515540</td>\n",
       "      <td>1</td>\n",
       "      <td>3</td>\n",
       "      <td>2</td>\n",
       "      <td>1</td>\n",
       "      <td>11/01/2005</td>\n",
       "      <td>...</td>\n",
       "      <td>No physical crossing within 50 meters</td>\n",
       "      <td>Daylight: Street light present</td>\n",
       "      <td>Raining without high winds</td>\n",
       "      <td>Wet/Damp</td>\n",
       "      <td>Ol or diesel</td>\n",
       "      <td>None</td>\n",
       "      <td>1</td>\n",
       "      <td>Yes</td>\n",
       "      <td>E01002832</td>\n",
       "      <td>2005</td>\n",
       "    </tr>\n",
       "    <tr>\n",
       "      <th>6</th>\n",
       "      <td>200501BS00007</td>\n",
       "      <td>524220.0</td>\n",
       "      <td>180830.0</td>\n",
       "      <td>-0.211277</td>\n",
       "      <td>51.512695</td>\n",
       "      <td>1</td>\n",
       "      <td>3</td>\n",
       "      <td>2</td>\n",
       "      <td>1</td>\n",
       "      <td>13/01/2005</td>\n",
       "      <td>...</td>\n",
       "      <td>No physical crossing within 50 meters</td>\n",
       "      <td>Darkness: Street lights present and lit</td>\n",
       "      <td>Fine without high winds</td>\n",
       "      <td>Dry</td>\n",
       "      <td>None</td>\n",
       "      <td>None</td>\n",
       "      <td>1</td>\n",
       "      <td>Yes</td>\n",
       "      <td>E01002875</td>\n",
       "      <td>2005</td>\n",
       "    </tr>\n",
       "    <tr>\n",
       "      <th>7</th>\n",
       "      <td>200501BS00009</td>\n",
       "      <td>525890.0</td>\n",
       "      <td>179710.0</td>\n",
       "      <td>-0.187623</td>\n",
       "      <td>51.502260</td>\n",
       "      <td>1</td>\n",
       "      <td>3</td>\n",
       "      <td>1</td>\n",
       "      <td>2</td>\n",
       "      <td>14/01/2005</td>\n",
       "      <td>...</td>\n",
       "      <td>No physical crossing within 50 meters</td>\n",
       "      <td>Daylight: Street light present</td>\n",
       "      <td>Fine without high winds</td>\n",
       "      <td>Dry</td>\n",
       "      <td>None</td>\n",
       "      <td>None</td>\n",
       "      <td>1</td>\n",
       "      <td>Yes</td>\n",
       "      <td>E01002889</td>\n",
       "      <td>2005</td>\n",
       "    </tr>\n",
       "    <tr>\n",
       "      <th>8</th>\n",
       "      <td>200501BS00010</td>\n",
       "      <td>527350.0</td>\n",
       "      <td>177650.0</td>\n",
       "      <td>-0.167342</td>\n",
       "      <td>51.483420</td>\n",
       "      <td>1</td>\n",
       "      <td>3</td>\n",
       "      <td>2</td>\n",
       "      <td>2</td>\n",
       "      <td>15/01/2005</td>\n",
       "      <td>...</td>\n",
       "      <td>Pedestrian phase at traffic signal junction</td>\n",
       "      <td>Darkness: Street lights present and lit</td>\n",
       "      <td>Fine without high winds</td>\n",
       "      <td>Dry</td>\n",
       "      <td>None</td>\n",
       "      <td>None</td>\n",
       "      <td>1</td>\n",
       "      <td>Yes</td>\n",
       "      <td>E01002900</td>\n",
       "      <td>2005</td>\n",
       "    </tr>\n",
       "    <tr>\n",
       "      <th>9</th>\n",
       "      <td>200501BS00011</td>\n",
       "      <td>524550.0</td>\n",
       "      <td>180810.0</td>\n",
       "      <td>-0.206531</td>\n",
       "      <td>51.512443</td>\n",
       "      <td>1</td>\n",
       "      <td>3</td>\n",
       "      <td>2</td>\n",
       "      <td>5</td>\n",
       "      <td>15/01/2005</td>\n",
       "      <td>...</td>\n",
       "      <td>Central refuge</td>\n",
       "      <td>Daylight: Street light present</td>\n",
       "      <td>Fine without high winds</td>\n",
       "      <td>Dry</td>\n",
       "      <td>None</td>\n",
       "      <td>None</td>\n",
       "      <td>1</td>\n",
       "      <td>Yes</td>\n",
       "      <td>E01002875</td>\n",
       "      <td>2005</td>\n",
       "    </tr>\n",
       "  </tbody>\n",
       "</table>\n",
       "<p>10 rows × 33 columns</p>\n",
       "</div>"
      ],
      "text/plain": [
       "  Accident_Index  Location_Easting_OSGR  Location_Northing_OSGR  Longitude  \\\n",
       "0  200501BS00001               525680.0                178240.0  -0.191170   \n",
       "1  200501BS00002               524170.0                181650.0  -0.211708   \n",
       "2  200501BS00003               524520.0                182240.0  -0.206458   \n",
       "3  200501BS00004               526900.0                177530.0  -0.173862   \n",
       "4  200501BS00005               528060.0                179040.0  -0.156618   \n",
       "5  200501BS00006               524770.0                181160.0  -0.203238   \n",
       "6  200501BS00007               524220.0                180830.0  -0.211277   \n",
       "7  200501BS00009               525890.0                179710.0  -0.187623   \n",
       "8  200501BS00010               527350.0                177650.0  -0.167342   \n",
       "9  200501BS00011               524550.0                180810.0  -0.206531   \n",
       "\n",
       "    Latitude  Police_Force  Accident_Severity  Number_of_Vehicles  \\\n",
       "0  51.489096             1                  2                   1   \n",
       "1  51.520075             1                  3                   1   \n",
       "2  51.525301             1                  3                   2   \n",
       "3  51.482442             1                  3                   1   \n",
       "4  51.495752             1                  3                   1   \n",
       "5  51.515540             1                  3                   2   \n",
       "6  51.512695             1                  3                   2   \n",
       "7  51.502260             1                  3                   1   \n",
       "8  51.483420             1                  3                   2   \n",
       "9  51.512443             1                  3                   2   \n",
       "\n",
       "   Number_of_Casualties        Date  ...  \\\n",
       "0                     1  04/01/2005  ...   \n",
       "1                     1  05/01/2005  ...   \n",
       "2                     1  06/01/2005  ...   \n",
       "3                     1  07/01/2005  ...   \n",
       "4                     1  10/01/2005  ...   \n",
       "5                     1  11/01/2005  ...   \n",
       "6                     1  13/01/2005  ...   \n",
       "7                     2  14/01/2005  ...   \n",
       "8                     2  15/01/2005  ...   \n",
       "9                     5  15/01/2005  ...   \n",
       "\n",
       "       Pedestrian_Crossing-Physical_Facilities  \\\n",
       "0                               Zebra crossing   \n",
       "1  Pedestrian phase at traffic signal junction   \n",
       "2        No physical crossing within 50 meters   \n",
       "3        No physical crossing within 50 meters   \n",
       "4        No physical crossing within 50 meters   \n",
       "5        No physical crossing within 50 meters   \n",
       "6        No physical crossing within 50 meters   \n",
       "7        No physical crossing within 50 meters   \n",
       "8  Pedestrian phase at traffic signal junction   \n",
       "9                               Central refuge   \n",
       "\n",
       "                          Light_Conditions          Weather_Conditions  \\\n",
       "0           Daylight: Street light present  Raining without high winds   \n",
       "1  Darkness: Street lights present and lit     Fine without high winds   \n",
       "2  Darkness: Street lights present and lit     Fine without high winds   \n",
       "3           Daylight: Street light present     Fine without high winds   \n",
       "4        Darkness: Street lighting unknown     Fine without high winds   \n",
       "5           Daylight: Street light present  Raining without high winds   \n",
       "6  Darkness: Street lights present and lit     Fine without high winds   \n",
       "7           Daylight: Street light present     Fine without high winds   \n",
       "8  Darkness: Street lights present and lit     Fine without high winds   \n",
       "9           Daylight: Street light present     Fine without high winds   \n",
       "\n",
       "  Road_Surface_Conditions  Special_Conditions_at_Site  Carriageway_Hazards  \\\n",
       "0                Wet/Damp                        None                 None   \n",
       "1                     Dry                        None                 None   \n",
       "2                     Dry                        None                 None   \n",
       "3                     Dry                        None                 None   \n",
       "4                Wet/Damp                        None                 None   \n",
       "5                Wet/Damp                Ol or diesel                 None   \n",
       "6                     Dry                        None                 None   \n",
       "7                     Dry                        None                 None   \n",
       "8                     Dry                        None                 None   \n",
       "9                     Dry                        None                 None   \n",
       "\n",
       "  Urban_or_Rural_Area  Did_Police_Officer_Attend_Scene_of_Accident  \\\n",
       "0                   1                                          Yes   \n",
       "1                   1                                          Yes   \n",
       "2                   1                                          Yes   \n",
       "3                   1                                          Yes   \n",
       "4                   1                                          Yes   \n",
       "5                   1                                          Yes   \n",
       "6                   1                                          Yes   \n",
       "7                   1                                          Yes   \n",
       "8                   1                                          Yes   \n",
       "9                   1                                          Yes   \n",
       "\n",
       "   LSOA_of_Accident_Location  Year  \n",
       "0                  E01002849  2005  \n",
       "1                  E01002909  2005  \n",
       "2                  E01002857  2005  \n",
       "3                  E01002840  2005  \n",
       "4                  E01002863  2005  \n",
       "5                  E01002832  2005  \n",
       "6                  E01002875  2005  \n",
       "7                  E01002889  2005  \n",
       "8                  E01002900  2005  \n",
       "9                  E01002875  2005  \n",
       "\n",
       "[10 rows x 33 columns]"
      ]
     },
     "execution_count": 588,
     "metadata": {},
     "output_type": "execute_result"
    }
   ],
   "source": [
    "accidata.head(10)"
   ]
  },
  {
   "cell_type": "code",
   "execution_count": 589,
   "metadata": {},
   "outputs": [
    {
     "name": "stdout",
     "output_type": "stream",
     "text": [
      "<class 'pandas.core.frame.DataFrame'>\n",
      "Int64Index: 1504150 entries, 0 to 464696\n",
      "Data columns (total 33 columns):\n",
      " #   Column                                       Non-Null Count    Dtype  \n",
      "---  ------                                       --------------    -----  \n",
      " 0   Accident_Index                               1504150 non-null  object \n",
      " 1   Location_Easting_OSGR                        1504049 non-null  float64\n",
      " 2   Location_Northing_OSGR                       1504049 non-null  float64\n",
      " 3   Longitude                                    1504049 non-null  float64\n",
      " 4   Latitude                                     1504049 non-null  float64\n",
      " 5   Police_Force                                 1504150 non-null  int64  \n",
      " 6   Accident_Severity                            1504150 non-null  int64  \n",
      " 7   Number_of_Vehicles                           1504150 non-null  int64  \n",
      " 8   Number_of_Casualties                         1504150 non-null  int64  \n",
      " 9   Date                                         1504150 non-null  object \n",
      " 10  Day_of_Week                                  1504150 non-null  int64  \n",
      " 11  Time                                         1504033 non-null  object \n",
      " 12  Local_Authority_(District)                   1504150 non-null  int64  \n",
      " 13  Local_Authority_(Highway)                    1504150 non-null  object \n",
      " 14  1st_Road_Class                               1504150 non-null  int64  \n",
      " 15  1st_Road_Number                              1504150 non-null  int64  \n",
      " 16  Road_Type                                    1504150 non-null  object \n",
      " 17  Speed_limit                                  1504150 non-null  int64  \n",
      " 18  Junction_Detail                              0 non-null        float64\n",
      " 19  Junction_Control                             901315 non-null   object \n",
      " 20  2nd_Road_Class                               1504150 non-null  int64  \n",
      " 21  2nd_Road_Number                              1504150 non-null  int64  \n",
      " 22  Pedestrian_Crossing-Human_Control            1504133 non-null  object \n",
      " 23  Pedestrian_Crossing-Physical_Facilities      1504116 non-null  object \n",
      " 24  Light_Conditions                             1504150 non-null  object \n",
      " 25  Weather_Conditions                           1504024 non-null  object \n",
      " 26  Road_Surface_Conditions                      1502192 non-null  object \n",
      " 27  Special_Conditions_at_Site                   1504135 non-null  object \n",
      " 28  Carriageway_Hazards                          1504121 non-null  object \n",
      " 29  Urban_or_Rural_Area                          1504150 non-null  int64  \n",
      " 30  Did_Police_Officer_Attend_Scene_of_Accident  1501228 non-null  object \n",
      " 31  LSOA_of_Accident_Location                    1395912 non-null  object \n",
      " 32  Year                                         1504150 non-null  int64  \n",
      "dtypes: float64(5), int64(13), object(15)\n",
      "memory usage: 390.2+ MB\n"
     ]
    }
   ],
   "source": [
    "#enter code/answer in this cell. You can add more code/markdown cells below for your answer. \n",
    "accidata.info()"
   ]
  },
  {
   "cell_type": "code",
   "execution_count": 590,
   "metadata": {},
   "outputs": [
    {
     "name": "stdout",
     "output_type": "stream",
     "text": [
      "Accident_Index length= 927387\n",
      "Location_Easting_OSGR length= 182520\n",
      "Location_Northing_OSGR length= 221878\n",
      "Longitude length= 1059047\n",
      "Latitude length= 1001149\n",
      "Police_Force length= 51\n",
      "Accident_Severity length= 3\n",
      "Number_of_Vehicles length= 27\n",
      "Number_of_Casualties length= 47\n",
      "Date length= 3286\n",
      "Day_of_Week length= 7\n",
      "Time length= 1440\n",
      "Local_Authority_(District) length= 416\n",
      "Local_Authority_(Highway) length= 207\n",
      "1st_Road_Class length= 6\n",
      "1st_Road_Number length= 6854\n",
      "Road_Type length= 6\n",
      "Speed_limit length= 8\n",
      "Junction_Detail length= 1\n",
      "Junction_Control length= 5\n",
      "2nd_Road_Class length= 7\n",
      "2nd_Road_Number length= 7235\n",
      "Pedestrian_Crossing-Human_Control length= 4\n",
      "Pedestrian_Crossing-Physical_Facilities length= 7\n",
      "Light_Conditions length= 5\n",
      "Weather_Conditions length= 10\n",
      "Road_Surface_Conditions length= 6\n",
      "Special_Conditions_at_Site length= 9\n",
      "Carriageway_Hazards length= 7\n",
      "Urban_or_Rural_Area length= 3\n",
      "Did_Police_Officer_Attend_Scene_of_Accident length= 3\n",
      "LSOA_of_Accident_Location length= 35453\n",
      "Year length= 9\n"
     ]
    }
   ],
   "source": [
    "for i in accidata.columns:\n",
    "     print(i,\"length=\",accidata[i].unique().shape[0])"
   ]
  },
  {
   "cell_type": "code",
   "execution_count": 591,
   "metadata": {},
   "outputs": [
    {
     "data": {
      "text/plain": [
       "Accident_Index                                       0\n",
       "Location_Easting_OSGR                              101\n",
       "Location_Northing_OSGR                             101\n",
       "Longitude                                          101\n",
       "Latitude                                           101\n",
       "Police_Force                                         0\n",
       "Accident_Severity                                    0\n",
       "Number_of_Vehicles                                   0\n",
       "Number_of_Casualties                                 0\n",
       "Date                                                 0\n",
       "Day_of_Week                                          0\n",
       "Time                                               117\n",
       "Local_Authority_(District)                           0\n",
       "Local_Authority_(Highway)                            0\n",
       "1st_Road_Class                                       0\n",
       "1st_Road_Number                                      0\n",
       "Road_Type                                            0\n",
       "Speed_limit                                          0\n",
       "Junction_Detail                                1504150\n",
       "Junction_Control                                602835\n",
       "2nd_Road_Class                                       0\n",
       "2nd_Road_Number                                      0\n",
       "Pedestrian_Crossing-Human_Control                   17\n",
       "Pedestrian_Crossing-Physical_Facilities             34\n",
       "Light_Conditions                                     0\n",
       "Weather_Conditions                                 126\n",
       "Road_Surface_Conditions                           1958\n",
       "Special_Conditions_at_Site                          15\n",
       "Carriageway_Hazards                                 29\n",
       "Urban_or_Rural_Area                                  0\n",
       "Did_Police_Officer_Attend_Scene_of_Accident       2922\n",
       "LSOA_of_Accident_Location                       108238\n",
       "Year                                                 0\n",
       "dtype: int64"
      ]
     },
     "execution_count": 591,
     "metadata": {},
     "output_type": "execute_result"
    }
   ],
   "source": [
    "accidata.isnull().sum()"
   ]
  },
  {
   "cell_type": "code",
   "execution_count": 592,
   "metadata": {},
   "outputs": [
    {
     "data": {
      "text/plain": [
       "(1504150, 26)"
      ]
     },
     "execution_count": 592,
     "metadata": {},
     "output_type": "execute_result"
    }
   ],
   "source": [
    "accidata_X = accidata.drop(['Accident_Severity','Accident_Index','Location_Easting_OSGR','Location_Northing_OSGR','Date','Junction_Detail','LSOA_of_Accident_Location'],axis = 1)\n",
    "accidata_y = accidata['Accident_Severity']\n",
    "accidata_X.shape"
   ]
  },
  {
   "cell_type": "markdown",
   "metadata": {},
   "source": [
    "### Hypothesis:\n",
    "'Accident_Index' - Accident index is nothing to do with Accident Severity.<br>\n",
    "'Location_Easting_OSGR' - As latitude and longitude(which says about the locationare) are there Location_Easting_OSGR is not required.<br>\n",
    "'Location_Northing_OSGR' - As latitude and longitude(which says about the locationare) are there Location_Easting_OSGR is not required.<br>\n",
    "'Date' -  We can extract only month from the data as time, year, day of week are already present.<br>\n",
    "'Junction_Detail' - No information is provided, all values are nans.<br>\n",
    "'LSOA_of_Accident_Location' - Considering this sayys some location, we can ignore it."
   ]
  },
  {
   "cell_type": "code",
   "execution_count": 593,
   "metadata": {
    "scrolled": false
   },
   "outputs": [
    {
     "name": "stdout",
     "output_type": "stream",
     "text": [
      "Longitude unique_values: [-0.19117  -0.211708 -0.206458 ... -3.230826 -3.191397 -3.348426] ,length= 1059047\n",
      "Latitude unique_values: [51.489096 51.520075 51.525301 ... 54.985668 54.990446 55.1067  ] ,length= 1001149\n",
      "Police_Force unique_values: [ 1 48  3  4  5  6  7 10 11 12 13 14 16 17 20 21 22 23 30 31 32 33 34 35\n",
      " 36 37 40 41 42 43 44 45 46 47 50 52 53 54 55 60 61 62 63 91 92 93 94 95\n",
      " 96 97 98] ,length= 51\n",
      "Number_of_Vehicles unique_values: [ 1  2  4  3  5  6  8  7 13 10 11 18  9 20 17 15 12 14 22 16 28 32 19 29\n",
      " 34 67 21] ,length= 27\n",
      "Number_of_Casualties unique_values: [ 1  2  5  4  3  8  7  6 10  9 23 17 13 11 19 15 16 12 14 18 20 29 21 35\n",
      " 22 26 45 41 36 40 25 28 42 68 27 48 24 43 87 63 51 33 38 46 70 93 54] ,length= 47\n",
      "Day_of_Week unique_values: [3 4 5 6 2 7 1] ,length= 7\n",
      "Time unique_values: ['17:42' '17:36' '00:15' ... '05:57' '04:26' '01:57'] ,length= 1440\n",
      "Local_Authority_(District) unique_values: [ 12   1  11 570   5   8   4   3   2   9  28  31  30  27  24  13  17  57\n",
      "  26  29  25  32  14  16  15  20  10  21   7  19   6  18  23  22  65  61\n",
      "  62  64  60  63  71  74  76  70  79  85  83  84  73  75  80  77  82  72\n",
      "  95  93  91  90  92 102 104 107 101 106 112 110 109 114 100 120 128 124\n",
      " 126 122 123 127 121 147 150 148 140 145 142 146 149 144 143 141 168 165\n",
      " 163 164 160 162 166 161 189 186 180 187 182 181 184 185 204 202 200 203\n",
      " 206 211 213 210 215 233 232 231 228 240 241 243 245 300 309 307 303 305\n",
      " 306 302 257 255 256 253 251 250 254 252 258 276 277 273 278 270 274 279\n",
      " 285 282 280 281 283 284 293 294 292 290 291 324 320 321 329 325 327 322\n",
      " 328 323 344 340 345 341 347 346 342 343 354 355 353 351 356 350 352 364\n",
      " 363 362 366 368 360 361 367 365 383 380 382 381 384 385 386 395 390 393\n",
      " 394 391 392 400 407 402 401 405 404 406 415 414 412 411 413 410 416 420\n",
      " 422 421 423 432 433 438 430 434 437 436  33 431 435 463 451 455 456 454\n",
      " 457 450 462 452 458 461 460 459 453 476 480 477 479 478 473 481 484 474\n",
      " 483 485 482 471 475 472 470 505 500 497 495 493 492 502 494 491 490 496\n",
      " 498 501 499 510 514 511 512  40  38 513 518 517 515 516 544 532 535 538\n",
      " 533 539 530 541 531 543 540 542 536 565 556 563 551 554 559 555 552 560\n",
      " 562 564 558 557 592 591 594 595 593 589 588 590 582 581 580 585 586 583\n",
      " 584 587 601 611 607 606 612 610 609 608 605 624 625 620 623 622 621 632\n",
      " 630 634 631 633 640 643 641 647 642 644 645 646 720 721 722 723 724 725\n",
      " 731 730 733 734 732 745 742 743 740 741 746 744 751 750 752 753 927 941\n",
      " 933 936 910 930 911 934 918 912 925 923 914 940 929 921 924 939 915 926\n",
      " 920 922 935 928 913 916 932 938 931 919 937 917 129 130 139 169 286 424\n",
      " 596 635] ,length= 416\n",
      "Local_Authority_(Highway) unique_values: ['E09000020' 'E09000033' 'E09000013' 'E09000001' 'E09000030' 'E09000028'\n",
      " 'E09000012' 'E09000019' 'E09000007' 'E09000022' 'E09000005' 'E09000014'\n",
      " 'E09000003' 'E09000009' 'E09000027' 'E09000031' 'E09000025' 'EHEATHROW'\n",
      " 'E09000017' 'E09000015' 'E09000018' 'E09000010' 'E09000026' 'E09000002'\n",
      " 'E09000016' 'E09000008' 'E09000032' 'E09000029' 'E09000023' 'E09000006'\n",
      " 'E09000011' 'E09000004' 'E09000021' 'E09000024' 'E10000006' 'E06000009'\n",
      " 'E10000017' 'E06000008' 'E08000015' 'E08000014' 'E08000012' 'E08000011'\n",
      " 'E08000013' 'E08000003' 'E08000004' 'E08000006' 'E08000002' 'E08000005'\n",
      " 'E08000009' 'E08000008' 'E08000007' 'E08000010' 'E08000001' 'E06000050'\n",
      " 'E06000007' 'E06000006' 'E06000049' 'E08000021' 'E08000024' 'E08000022'\n",
      " 'E06000048' 'E08000020' 'E08000023' 'E06000047' 'E06000005' 'E06000014'\n",
      " 'E10000023' 'E08000035' 'E08000033' 'E08000032' 'E08000034' 'E08000036'\n",
      " 'E08000017' 'E08000018' 'E08000016' 'E08000019' 'E06000012' 'E06000013'\n",
      " 'E06000011' 'E06000010' 'E06000001' 'E06000003' 'E06000002' 'E06000004'\n",
      " 'E08000025' 'E08000031' 'E08000030' 'E08000027' 'E08000028' 'E08000029'\n",
      " 'E08000026' 'E06000021' 'E10000028' 'E10000034' 'E06000051' 'E06000019'\n",
      " 'E06000020' 'E10000031' 'E10000007' 'E06000015' 'E10000024' 'E06000018'\n",
      " 'E10000019' 'E06000016' 'E10000018' 'E06000017' 'E10000021' 'E10000003'\n",
      " 'E06000031' 'E10000020' 'E10000029' 'E06000055' 'E06000056' 'E06000032'\n",
      " 'E10000015' 'E10000012' 'E06000034' 'E06000033' 'E10000002' 'E06000042'\n",
      " 'E06000039' 'E10000025' 'E06000040' 'E06000037' 'E06000041' 'E06000038'\n",
      " 'E06000036' 'E06000046' 'E06000045' 'E10000014' 'E06000044' 'E10000030'\n",
      " 'E06000035' 'E10000016' 'E06000043' 'E10000011' 'E10000032' 'E06000052'\n",
      " 'E06000053' 'E10000008' 'E06000026' 'E06000027' 'E06000023' 'E06000022'\n",
      " 'E10000027' 'E06000025' 'E06000024' 'E10000013' 'E06000054' 'E06000030'\n",
      " 'E06000028' 'E06000029' 'E10000009' 'W06000001' 'W06000003' 'W06000002'\n",
      " 'W06000004' 'W06000005' 'W06000006' 'W06000018' 'W06000019' 'W06000022'\n",
      " 'W06000020' 'W06000021' 'W06000011' 'W06000024' 'W06000012' 'W06000013'\n",
      " 'W06000015' 'W06000014' 'W06000016' 'W06000010' 'W06000008' 'W06000009'\n",
      " 'W06000023' 'S12000017' 'S12000013' 'S12000023' 'S12000027' 'S12000033'\n",
      " 'S12000020' 'S12000034' 'S12000024' 'S12000042' 'S12000041' 'S12000015'\n",
      " 'S12000036' 'S12000026' 'S12000040' 'S12000019' 'S12000010' 'S12000014'\n",
      " 'S12000030' 'S12000005' 'S12000043' 'S12000009' 'S12000011' 'S12000038'\n",
      " 'S12000018' 'S12000035' 'S12000039' 'S12000044' 'S12000029' 'S12000021'\n",
      " 'S12000008' 'S12000028' 'S12000006'] ,length= 207\n",
      "1st_Road_Class unique_values: [3 4 5 6 1 2] ,length= 6\n",
      "1st_Road_Number unique_values: [3218  450    0 ... 2655 9055 8086] ,length= 6854\n",
      "Road_Type unique_values: ['Single carriageway' 'Dual carriageway' 'One way street' 'Roundabout'\n",
      " 'Slip road' 'Unknown'] ,length= 6\n",
      "Speed_limit unique_values: [30 40 50 20 60 70 10 15] ,length= 8\n",
      "Junction_Control unique_values: [nan 'Automatic traffic signal' 'Giveway or uncontrolled' 'Stop Sign'\n",
      " 'Authorised person'] ,length= 5\n",
      "2nd_Road_Class unique_values: [-1  5  6  4  3  1  2] ,length= 7\n",
      "2nd_Road_Number unique_values: [   0  304  325 ... 9057 9136  987] ,length= 7235\n",
      "Pedestrian_Crossing-Human_Control unique_values: ['None within 50 metres' 'Control by other authorised person'\n",
      " 'Control by school crossing patrol' nan] ,length= 4\n",
      "Pedestrian_Crossing-Physical_Facilities unique_values: ['Zebra crossing' 'Pedestrian phase at traffic signal junction'\n",
      " 'No physical crossing within 50 meters' 'Central refuge'\n",
      " 'non-junction pedestrian crossing' 'Footbridge or subway' nan] ,length= 7\n",
      "Light_Conditions unique_values: ['Daylight: Street light present'\n",
      " 'Darkness: Street lights present and lit'\n",
      " 'Darkness: Street lighting unknown'\n",
      " 'Darkness: Street lights present but unlit'\n",
      " 'Darkeness: No street lighting'] ,length= 5\n",
      "Weather_Conditions unique_values: ['Raining without high winds' 'Fine without high winds' 'Unknown'\n",
      " 'Snowing without high winds' 'Other' 'Fine with high winds'\n",
      " 'Raining with high winds' 'Fog or mist' 'Snowing with high winds' nan] ,length= 10\n",
      "Road_Surface_Conditions unique_values: ['Wet/Damp' 'Dry' 'Frost/Ice' 'Snow' 'Flood (Over 3cm of water)' nan] ,length= 6\n",
      "Special_Conditions_at_Site unique_values: ['None' 'Ol or diesel' 'Roadworks' 'Auto traffic signal partly defective'\n",
      " 'Road surface defective' 'Auto traffic singal out'\n",
      " 'Permanent sign or marking defective or obscured' 'Mud' nan] ,length= 9\n",
      "Carriageway_Hazards unique_values: ['None' 'Other object in carriageway'\n",
      " 'Pedestrian in carriageway (not injured)'\n",
      " 'Dislodged vehicle load in carriageway'\n",
      " 'Involvement with previous accident' 'Any animal (except a ridden horse)'\n",
      " nan] ,length= 7\n",
      "Urban_or_Rural_Area unique_values: [1 2 3] ,length= 3\n",
      "Did_Police_Officer_Attend_Scene_of_Accident unique_values: ['Yes' 'No' nan] ,length= 3\n",
      "Year unique_values: [2005 2006 2007 2009 2010 2011 2012 2013 2014] ,length= 9\n"
     ]
    }
   ],
   "source": [
    "for i in accidata_X.columns:\n",
    "     print(i,\"unique_values:\",accidata_X[i].unique(),\",length=\",accidata_X[i].unique().shape[0])"
   ]
  },
  {
   "cell_type": "code",
   "execution_count": 594,
   "metadata": {},
   "outputs": [
    {
     "name": "stdout",
     "output_type": "stream",
     "text": [
      "<class 'pandas.core.frame.DataFrame'>\n",
      "Int64Index: 1504150 entries, 0 to 464696\n",
      "Data columns (total 26 columns):\n",
      " #   Column                                       Non-Null Count    Dtype  \n",
      "---  ------                                       --------------    -----  \n",
      " 0   Longitude                                    1504049 non-null  float64\n",
      " 1   Latitude                                     1504049 non-null  float64\n",
      " 2   Police_Force                                 1504150 non-null  int64  \n",
      " 3   Number_of_Vehicles                           1504150 non-null  int64  \n",
      " 4   Number_of_Casualties                         1504150 non-null  int64  \n",
      " 5   Day_of_Week                                  1504150 non-null  int64  \n",
      " 6   Time                                         1504033 non-null  object \n",
      " 7   Local_Authority_(District)                   1504150 non-null  int64  \n",
      " 8   Local_Authority_(Highway)                    1504150 non-null  object \n",
      " 9   1st_Road_Class                               1504150 non-null  int64  \n",
      " 10  1st_Road_Number                              1504150 non-null  int64  \n",
      " 11  Road_Type                                    1504150 non-null  object \n",
      " 12  Speed_limit                                  1504150 non-null  int64  \n",
      " 13  Junction_Control                             901315 non-null   object \n",
      " 14  2nd_Road_Class                               1504150 non-null  int64  \n",
      " 15  2nd_Road_Number                              1504150 non-null  int64  \n",
      " 16  Pedestrian_Crossing-Human_Control            1504133 non-null  object \n",
      " 17  Pedestrian_Crossing-Physical_Facilities      1504116 non-null  object \n",
      " 18  Light_Conditions                             1504150 non-null  object \n",
      " 19  Weather_Conditions                           1504024 non-null  object \n",
      " 20  Road_Surface_Conditions                      1502192 non-null  object \n",
      " 21  Special_Conditions_at_Site                   1504135 non-null  object \n",
      " 22  Carriageway_Hazards                          1504121 non-null  object \n",
      " 23  Urban_or_Rural_Area                          1504150 non-null  int64  \n",
      " 24  Did_Police_Officer_Attend_Scene_of_Accident  1501228 non-null  object \n",
      " 25  Year                                         1504150 non-null  int64  \n",
      "dtypes: float64(2), int64(12), object(12)\n",
      "memory usage: 309.8+ MB\n"
     ]
    }
   ],
   "source": [
    "accidata_X.info()"
   ]
  },
  {
   "cell_type": "markdown",
   "metadata": {},
   "source": [
    "### 6. Implement a basic Logistic Regression Model using scikit learn with cross validation = 5, where you predict the severity of the accident (Accident_Severity). Note that here your goal is not to tune appropriate hyperparameters, but to figure out what features will be best to use."
   ]
  },
  {
   "cell_type": "markdown",
   "metadata": {},
   "source": [
    "'Number_of_Vehicles', 'Number_of_Casualties', Day_of_Week, 'Local_Authority_(District)', 'Local_Authority_(Highway)', '1st_Road_Number', 'Road_Type', 'Speed_limit', '2nd_Road_Number', 'Light_Conditions', 'Weather_Conditions', 'Road_Surface_Conditions', 'Special_Conditions_at_Site','Carriageway_Hazards', 'Urban_or_Rural_Area' these are the best features compared to dropped features.\n",
    "Some of the reasons are specified in the above section."
   ]
  },
  {
   "cell_type": "code",
   "execution_count": 595,
   "metadata": {},
   "outputs": [],
   "source": [
    "#enter code/answer in this cell. You can add more code/markdown cells below for your answer. "
   ]
  },
  {
   "cell_type": "code",
   "execution_count": 596,
   "metadata": {},
   "outputs": [
    {
     "data": {
      "text/plain": [
       "(464697, 16)"
      ]
     },
     "execution_count": 596,
     "metadata": {},
     "output_type": "execute_result"
    }
   ],
   "source": [
    "selected_features = ['Did_Police_Officer_Attend_Scene_of_Accident','Number_of_Vehicles','Number_of_Casualties', 'Day_of_Week', 'Local_Authority_(District)', 'Local_Authority_(Highway)', '1st_Road_Number', 'Road_Type', 'Speed_limit', '2nd_Road_Number', 'Light_Conditions', 'Weather_Conditions', 'Road_Surface_Conditions', 'Special_Conditions_at_Site','Carriageway_Hazards', 'Urban_or_Rural_Area']\n",
    "accidata3_X = accidata3[selected_features]\n",
    "accidata3_y = accidata3['Accident_Severity']\n",
    "accidata3_X.shape"
   ]
  },
  {
   "cell_type": "code",
   "execution_count": 597,
   "metadata": {},
   "outputs": [
    {
     "data": {
      "text/plain": [
       "Did_Police_Officer_Attend_Scene_of_Accident     int8\n",
       "Number_of_Vehicles                             int64\n",
       "Number_of_Casualties                           int64\n",
       "Day_of_Week                                    int64\n",
       "Local_Authority_(District)                     int64\n",
       "Local_Authority_(Highway)                      int16\n",
       "1st_Road_Number                                int64\n",
       "Road_Type                                       int8\n",
       "Speed_limit                                    int64\n",
       "2nd_Road_Number                                int64\n",
       "Light_Conditions                                int8\n",
       "Weather_Conditions                              int8\n",
       "Road_Surface_Conditions                         int8\n",
       "Special_Conditions_at_Site                      int8\n",
       "Carriageway_Hazards                             int8\n",
       "Urban_or_Rural_Area                            int64\n",
       "dtype: object"
      ]
     },
     "execution_count": 597,
     "metadata": {},
     "output_type": "execute_result"
    }
   ],
   "source": [
    "for i in accidata3_X.columns:\n",
    "    if accidata3_X[i].dtype == 'object':\n",
    "        accidata3_X[i] = accidata3_X[i].astype('category')\n",
    "        accidata3_X[i] = accidata3_X[i].cat.codes\n",
    "accidata3_X.dtypes"
   ]
  },
  {
   "cell_type": "code",
   "execution_count": 598,
   "metadata": {
    "collapsed": true
   },
   "outputs": [
    {
     "ename": "KeyboardInterrupt",
     "evalue": "",
     "output_type": "error",
     "traceback": [
      "\u001b[0;31m---------------------------------------------------------------------------\u001b[0m",
      "\u001b[0;31mKeyboardInterrupt\u001b[0m                         Traceback (most recent call last)",
      "\u001b[0;32m<ipython-input-598-fa35fae4d6bf>\u001b[0m in \u001b[0;36m<module>\u001b[0;34m\u001b[0m\n\u001b[1;32m      4\u001b[0m \u001b[0;34m\u001b[0m\u001b[0m\n\u001b[1;32m      5\u001b[0m \u001b[0mmodel\u001b[0m \u001b[0;34m=\u001b[0m \u001b[0mLogisticRegression\u001b[0m\u001b[0;34m(\u001b[0m\u001b[0mmax_iter\u001b[0m \u001b[0;34m=\u001b[0m \u001b[0;36m1000000\u001b[0m\u001b[0;34m,\u001b[0m\u001b[0;34m)\u001b[0m\u001b[0;34m\u001b[0m\u001b[0;34m\u001b[0m\u001b[0m\n\u001b[0;32m----> 6\u001b[0;31m \u001b[0mmodel\u001b[0m\u001b[0;34m.\u001b[0m\u001b[0mfit\u001b[0m\u001b[0;34m(\u001b[0m\u001b[0maccidata3_X\u001b[0m\u001b[0;34m,\u001b[0m\u001b[0maccidata3_y\u001b[0m\u001b[0;34m)\u001b[0m\u001b[0;34m\u001b[0m\u001b[0;34m\u001b[0m\u001b[0m\n\u001b[0m\u001b[1;32m      7\u001b[0m \u001b[0mpredict\u001b[0m \u001b[0;34m=\u001b[0m \u001b[0mcross_val_predict\u001b[0m\u001b[0;34m(\u001b[0m\u001b[0mmodel\u001b[0m\u001b[0;34m,\u001b[0m \u001b[0maccidata3_X\u001b[0m\u001b[0;34m,\u001b[0m \u001b[0maccidata3_y\u001b[0m\u001b[0;34m,\u001b[0m \u001b[0mcv\u001b[0m\u001b[0;34m=\u001b[0m\u001b[0;36m5\u001b[0m\u001b[0;34m)\u001b[0m\u001b[0;34m\u001b[0m\u001b[0;34m\u001b[0m\u001b[0m\n\u001b[1;32m      8\u001b[0m \u001b[0mprint\u001b[0m\u001b[0;34m(\u001b[0m\u001b[0mmetrics\u001b[0m\u001b[0;34m.\u001b[0m\u001b[0maccuracy_score\u001b[0m\u001b[0;34m(\u001b[0m\u001b[0maccidata3_y\u001b[0m\u001b[0;34m,\u001b[0m \u001b[0mpredict\u001b[0m\u001b[0;34m)\u001b[0m\u001b[0;34m)\u001b[0m\u001b[0;34m\u001b[0m\u001b[0;34m\u001b[0m\u001b[0m\n",
      "\u001b[0;32m~/.local/lib/python3.6/site-packages/sklearn/linear_model/_logistic.py\u001b[0m in \u001b[0;36mfit\u001b[0;34m(self, X, y, sample_weight)\u001b[0m\n\u001b[1;32m   1413\u001b[0m                       \u001b[0mpenalty\u001b[0m\u001b[0;34m=\u001b[0m\u001b[0mpenalty\u001b[0m\u001b[0;34m,\u001b[0m \u001b[0mmax_squared_sum\u001b[0m\u001b[0;34m=\u001b[0m\u001b[0mmax_squared_sum\u001b[0m\u001b[0;34m,\u001b[0m\u001b[0;34m\u001b[0m\u001b[0;34m\u001b[0m\u001b[0m\n\u001b[1;32m   1414\u001b[0m                       sample_weight=sample_weight)\n\u001b[0;32m-> 1415\u001b[0;31m             for class_, warm_start_coef_ in zip(classes_, warm_start_coef))\n\u001b[0m\u001b[1;32m   1416\u001b[0m \u001b[0;34m\u001b[0m\u001b[0m\n\u001b[1;32m   1417\u001b[0m         \u001b[0mfold_coefs_\u001b[0m\u001b[0;34m,\u001b[0m \u001b[0m_\u001b[0m\u001b[0;34m,\u001b[0m \u001b[0mn_iter_\u001b[0m \u001b[0;34m=\u001b[0m \u001b[0mzip\u001b[0m\u001b[0;34m(\u001b[0m\u001b[0;34m*\u001b[0m\u001b[0mfold_coefs_\u001b[0m\u001b[0;34m)\u001b[0m\u001b[0;34m\u001b[0m\u001b[0;34m\u001b[0m\u001b[0m\n",
      "\u001b[0;32m~/.local/lib/python3.6/site-packages/joblib/parallel.py\u001b[0m in \u001b[0;36m__call__\u001b[0;34m(self, iterable)\u001b[0m\n\u001b[1;32m   1027\u001b[0m             \u001b[0;31m# remaining jobs.\u001b[0m\u001b[0;34m\u001b[0m\u001b[0;34m\u001b[0m\u001b[0;34m\u001b[0m\u001b[0m\n\u001b[1;32m   1028\u001b[0m             \u001b[0mself\u001b[0m\u001b[0;34m.\u001b[0m\u001b[0m_iterating\u001b[0m \u001b[0;34m=\u001b[0m \u001b[0;32mFalse\u001b[0m\u001b[0;34m\u001b[0m\u001b[0;34m\u001b[0m\u001b[0m\n\u001b[0;32m-> 1029\u001b[0;31m             \u001b[0;32mif\u001b[0m \u001b[0mself\u001b[0m\u001b[0;34m.\u001b[0m\u001b[0mdispatch_one_batch\u001b[0m\u001b[0;34m(\u001b[0m\u001b[0miterator\u001b[0m\u001b[0;34m)\u001b[0m\u001b[0;34m:\u001b[0m\u001b[0;34m\u001b[0m\u001b[0;34m\u001b[0m\u001b[0m\n\u001b[0m\u001b[1;32m   1030\u001b[0m                 \u001b[0mself\u001b[0m\u001b[0;34m.\u001b[0m\u001b[0m_iterating\u001b[0m \u001b[0;34m=\u001b[0m \u001b[0mself\u001b[0m\u001b[0;34m.\u001b[0m\u001b[0m_original_iterator\u001b[0m \u001b[0;32mis\u001b[0m \u001b[0;32mnot\u001b[0m \u001b[0;32mNone\u001b[0m\u001b[0;34m\u001b[0m\u001b[0;34m\u001b[0m\u001b[0m\n\u001b[1;32m   1031\u001b[0m \u001b[0;34m\u001b[0m\u001b[0m\n",
      "\u001b[0;32m~/.local/lib/python3.6/site-packages/joblib/parallel.py\u001b[0m in \u001b[0;36mdispatch_one_batch\u001b[0;34m(self, iterator)\u001b[0m\n\u001b[1;32m    845\u001b[0m                 \u001b[0;32mreturn\u001b[0m \u001b[0;32mFalse\u001b[0m\u001b[0;34m\u001b[0m\u001b[0;34m\u001b[0m\u001b[0m\n\u001b[1;32m    846\u001b[0m             \u001b[0;32melse\u001b[0m\u001b[0;34m:\u001b[0m\u001b[0;34m\u001b[0m\u001b[0;34m\u001b[0m\u001b[0m\n\u001b[0;32m--> 847\u001b[0;31m                 \u001b[0mself\u001b[0m\u001b[0;34m.\u001b[0m\u001b[0m_dispatch\u001b[0m\u001b[0;34m(\u001b[0m\u001b[0mtasks\u001b[0m\u001b[0;34m)\u001b[0m\u001b[0;34m\u001b[0m\u001b[0;34m\u001b[0m\u001b[0m\n\u001b[0m\u001b[1;32m    848\u001b[0m                 \u001b[0;32mreturn\u001b[0m \u001b[0;32mTrue\u001b[0m\u001b[0;34m\u001b[0m\u001b[0;34m\u001b[0m\u001b[0m\n\u001b[1;32m    849\u001b[0m \u001b[0;34m\u001b[0m\u001b[0m\n",
      "\u001b[0;32m~/.local/lib/python3.6/site-packages/joblib/parallel.py\u001b[0m in \u001b[0;36m_dispatch\u001b[0;34m(self, batch)\u001b[0m\n\u001b[1;32m    763\u001b[0m         \u001b[0;32mwith\u001b[0m \u001b[0mself\u001b[0m\u001b[0;34m.\u001b[0m\u001b[0m_lock\u001b[0m\u001b[0;34m:\u001b[0m\u001b[0;34m\u001b[0m\u001b[0;34m\u001b[0m\u001b[0m\n\u001b[1;32m    764\u001b[0m             \u001b[0mjob_idx\u001b[0m \u001b[0;34m=\u001b[0m \u001b[0mlen\u001b[0m\u001b[0;34m(\u001b[0m\u001b[0mself\u001b[0m\u001b[0;34m.\u001b[0m\u001b[0m_jobs\u001b[0m\u001b[0;34m)\u001b[0m\u001b[0;34m\u001b[0m\u001b[0;34m\u001b[0m\u001b[0m\n\u001b[0;32m--> 765\u001b[0;31m             \u001b[0mjob\u001b[0m \u001b[0;34m=\u001b[0m \u001b[0mself\u001b[0m\u001b[0;34m.\u001b[0m\u001b[0m_backend\u001b[0m\u001b[0;34m.\u001b[0m\u001b[0mapply_async\u001b[0m\u001b[0;34m(\u001b[0m\u001b[0mbatch\u001b[0m\u001b[0;34m,\u001b[0m \u001b[0mcallback\u001b[0m\u001b[0;34m=\u001b[0m\u001b[0mcb\u001b[0m\u001b[0;34m)\u001b[0m\u001b[0;34m\u001b[0m\u001b[0;34m\u001b[0m\u001b[0m\n\u001b[0m\u001b[1;32m    766\u001b[0m             \u001b[0;31m# A job can complete so quickly than its callback is\u001b[0m\u001b[0;34m\u001b[0m\u001b[0;34m\u001b[0m\u001b[0;34m\u001b[0m\u001b[0m\n\u001b[1;32m    767\u001b[0m             \u001b[0;31m# called before we get here, causing self._jobs to\u001b[0m\u001b[0;34m\u001b[0m\u001b[0;34m\u001b[0m\u001b[0;34m\u001b[0m\u001b[0m\n",
      "\u001b[0;32m~/.local/lib/python3.6/site-packages/joblib/_parallel_backends.py\u001b[0m in \u001b[0;36mapply_async\u001b[0;34m(self, func, callback)\u001b[0m\n\u001b[1;32m    206\u001b[0m     \u001b[0;32mdef\u001b[0m \u001b[0mapply_async\u001b[0m\u001b[0;34m(\u001b[0m\u001b[0mself\u001b[0m\u001b[0;34m,\u001b[0m \u001b[0mfunc\u001b[0m\u001b[0;34m,\u001b[0m \u001b[0mcallback\u001b[0m\u001b[0;34m=\u001b[0m\u001b[0;32mNone\u001b[0m\u001b[0;34m)\u001b[0m\u001b[0;34m:\u001b[0m\u001b[0;34m\u001b[0m\u001b[0;34m\u001b[0m\u001b[0m\n\u001b[1;32m    207\u001b[0m         \u001b[0;34m\"\"\"Schedule a func to be run\"\"\"\u001b[0m\u001b[0;34m\u001b[0m\u001b[0;34m\u001b[0m\u001b[0m\n\u001b[0;32m--> 208\u001b[0;31m         \u001b[0mresult\u001b[0m \u001b[0;34m=\u001b[0m \u001b[0mImmediateResult\u001b[0m\u001b[0;34m(\u001b[0m\u001b[0mfunc\u001b[0m\u001b[0;34m)\u001b[0m\u001b[0;34m\u001b[0m\u001b[0;34m\u001b[0m\u001b[0m\n\u001b[0m\u001b[1;32m    209\u001b[0m         \u001b[0;32mif\u001b[0m \u001b[0mcallback\u001b[0m\u001b[0;34m:\u001b[0m\u001b[0;34m\u001b[0m\u001b[0;34m\u001b[0m\u001b[0m\n\u001b[1;32m    210\u001b[0m             \u001b[0mcallback\u001b[0m\u001b[0;34m(\u001b[0m\u001b[0mresult\u001b[0m\u001b[0;34m)\u001b[0m\u001b[0;34m\u001b[0m\u001b[0;34m\u001b[0m\u001b[0m\n",
      "\u001b[0;32m~/.local/lib/python3.6/site-packages/joblib/_parallel_backends.py\u001b[0m in \u001b[0;36m__init__\u001b[0;34m(self, batch)\u001b[0m\n\u001b[1;32m    570\u001b[0m         \u001b[0;31m# Don't delay the application, to avoid keeping the input\u001b[0m\u001b[0;34m\u001b[0m\u001b[0;34m\u001b[0m\u001b[0;34m\u001b[0m\u001b[0m\n\u001b[1;32m    571\u001b[0m         \u001b[0;31m# arguments in memory\u001b[0m\u001b[0;34m\u001b[0m\u001b[0;34m\u001b[0m\u001b[0;34m\u001b[0m\u001b[0m\n\u001b[0;32m--> 572\u001b[0;31m         \u001b[0mself\u001b[0m\u001b[0;34m.\u001b[0m\u001b[0mresults\u001b[0m \u001b[0;34m=\u001b[0m \u001b[0mbatch\u001b[0m\u001b[0;34m(\u001b[0m\u001b[0;34m)\u001b[0m\u001b[0;34m\u001b[0m\u001b[0;34m\u001b[0m\u001b[0m\n\u001b[0m\u001b[1;32m    573\u001b[0m \u001b[0;34m\u001b[0m\u001b[0m\n\u001b[1;32m    574\u001b[0m     \u001b[0;32mdef\u001b[0m \u001b[0mget\u001b[0m\u001b[0;34m(\u001b[0m\u001b[0mself\u001b[0m\u001b[0;34m)\u001b[0m\u001b[0;34m:\u001b[0m\u001b[0;34m\u001b[0m\u001b[0;34m\u001b[0m\u001b[0m\n",
      "\u001b[0;32m~/.local/lib/python3.6/site-packages/joblib/parallel.py\u001b[0m in \u001b[0;36m__call__\u001b[0;34m(self)\u001b[0m\n\u001b[1;32m    251\u001b[0m         \u001b[0;32mwith\u001b[0m \u001b[0mparallel_backend\u001b[0m\u001b[0;34m(\u001b[0m\u001b[0mself\u001b[0m\u001b[0;34m.\u001b[0m\u001b[0m_backend\u001b[0m\u001b[0;34m,\u001b[0m \u001b[0mn_jobs\u001b[0m\u001b[0;34m=\u001b[0m\u001b[0mself\u001b[0m\u001b[0;34m.\u001b[0m\u001b[0m_n_jobs\u001b[0m\u001b[0;34m)\u001b[0m\u001b[0;34m:\u001b[0m\u001b[0;34m\u001b[0m\u001b[0;34m\u001b[0m\u001b[0m\n\u001b[1;32m    252\u001b[0m             return [func(*args, **kwargs)\n\u001b[0;32m--> 253\u001b[0;31m                     for func, args, kwargs in self.items]\n\u001b[0m\u001b[1;32m    254\u001b[0m \u001b[0;34m\u001b[0m\u001b[0m\n\u001b[1;32m    255\u001b[0m     \u001b[0;32mdef\u001b[0m \u001b[0m__reduce__\u001b[0m\u001b[0;34m(\u001b[0m\u001b[0mself\u001b[0m\u001b[0;34m)\u001b[0m\u001b[0;34m:\u001b[0m\u001b[0;34m\u001b[0m\u001b[0;34m\u001b[0m\u001b[0m\n",
      "\u001b[0;32m~/.local/lib/python3.6/site-packages/joblib/parallel.py\u001b[0m in \u001b[0;36m<listcomp>\u001b[0;34m(.0)\u001b[0m\n\u001b[1;32m    251\u001b[0m         \u001b[0;32mwith\u001b[0m \u001b[0mparallel_backend\u001b[0m\u001b[0;34m(\u001b[0m\u001b[0mself\u001b[0m\u001b[0;34m.\u001b[0m\u001b[0m_backend\u001b[0m\u001b[0;34m,\u001b[0m \u001b[0mn_jobs\u001b[0m\u001b[0;34m=\u001b[0m\u001b[0mself\u001b[0m\u001b[0;34m.\u001b[0m\u001b[0m_n_jobs\u001b[0m\u001b[0;34m)\u001b[0m\u001b[0;34m:\u001b[0m\u001b[0;34m\u001b[0m\u001b[0;34m\u001b[0m\u001b[0m\n\u001b[1;32m    252\u001b[0m             return [func(*args, **kwargs)\n\u001b[0;32m--> 253\u001b[0;31m                     for func, args, kwargs in self.items]\n\u001b[0m\u001b[1;32m    254\u001b[0m \u001b[0;34m\u001b[0m\u001b[0m\n\u001b[1;32m    255\u001b[0m     \u001b[0;32mdef\u001b[0m \u001b[0m__reduce__\u001b[0m\u001b[0;34m(\u001b[0m\u001b[0mself\u001b[0m\u001b[0;34m)\u001b[0m\u001b[0;34m:\u001b[0m\u001b[0;34m\u001b[0m\u001b[0;34m\u001b[0m\u001b[0m\n",
      "\u001b[0;32m~/.local/lib/python3.6/site-packages/sklearn/linear_model/_logistic.py\u001b[0m in \u001b[0;36m_logistic_regression_path\u001b[0;34m(X, y, pos_class, Cs, fit_intercept, max_iter, tol, verbose, solver, coef, class_weight, dual, penalty, intercept_scaling, multi_class, random_state, check_input, max_squared_sum, sample_weight, l1_ratio)\u001b[0m\n\u001b[1;32m    756\u001b[0m                 \u001b[0mfunc\u001b[0m\u001b[0;34m,\u001b[0m \u001b[0mw0\u001b[0m\u001b[0;34m,\u001b[0m \u001b[0mmethod\u001b[0m\u001b[0;34m=\u001b[0m\u001b[0;34m\"L-BFGS-B\"\u001b[0m\u001b[0;34m,\u001b[0m \u001b[0mjac\u001b[0m\u001b[0;34m=\u001b[0m\u001b[0;32mTrue\u001b[0m\u001b[0;34m,\u001b[0m\u001b[0;34m\u001b[0m\u001b[0;34m\u001b[0m\u001b[0m\n\u001b[1;32m    757\u001b[0m                 \u001b[0margs\u001b[0m\u001b[0;34m=\u001b[0m\u001b[0;34m(\u001b[0m\u001b[0mX\u001b[0m\u001b[0;34m,\u001b[0m \u001b[0mtarget\u001b[0m\u001b[0;34m,\u001b[0m \u001b[0;36m1.\u001b[0m \u001b[0;34m/\u001b[0m \u001b[0mC\u001b[0m\u001b[0;34m,\u001b[0m \u001b[0msample_weight\u001b[0m\u001b[0;34m)\u001b[0m\u001b[0;34m,\u001b[0m\u001b[0;34m\u001b[0m\u001b[0;34m\u001b[0m\u001b[0m\n\u001b[0;32m--> 758\u001b[0;31m                 \u001b[0moptions\u001b[0m\u001b[0;34m=\u001b[0m\u001b[0;34m{\u001b[0m\u001b[0;34m\"iprint\"\u001b[0m\u001b[0;34m:\u001b[0m \u001b[0miprint\u001b[0m\u001b[0;34m,\u001b[0m \u001b[0;34m\"gtol\"\u001b[0m\u001b[0;34m:\u001b[0m \u001b[0mtol\u001b[0m\u001b[0;34m,\u001b[0m \u001b[0;34m\"maxiter\"\u001b[0m\u001b[0;34m:\u001b[0m \u001b[0mmax_iter\u001b[0m\u001b[0;34m}\u001b[0m\u001b[0;34m\u001b[0m\u001b[0;34m\u001b[0m\u001b[0m\n\u001b[0m\u001b[1;32m    759\u001b[0m             )\n\u001b[1;32m    760\u001b[0m             n_iter_i = _check_optimize_result(\n",
      "\u001b[0;32m~/.local/lib/python3.6/site-packages/scipy/optimize/_minimize.py\u001b[0m in \u001b[0;36mminimize\u001b[0;34m(fun, x0, args, method, jac, hess, hessp, bounds, constraints, tol, callback, options)\u001b[0m\n\u001b[1;32m    616\u001b[0m     \u001b[0;32melif\u001b[0m \u001b[0mmeth\u001b[0m \u001b[0;34m==\u001b[0m \u001b[0;34m'l-bfgs-b'\u001b[0m\u001b[0;34m:\u001b[0m\u001b[0;34m\u001b[0m\u001b[0;34m\u001b[0m\u001b[0m\n\u001b[1;32m    617\u001b[0m         return _minimize_lbfgsb(fun, x0, args, jac, bounds,\n\u001b[0;32m--> 618\u001b[0;31m                                 callback=callback, **options)\n\u001b[0m\u001b[1;32m    619\u001b[0m     \u001b[0;32melif\u001b[0m \u001b[0mmeth\u001b[0m \u001b[0;34m==\u001b[0m \u001b[0;34m'tnc'\u001b[0m\u001b[0;34m:\u001b[0m\u001b[0;34m\u001b[0m\u001b[0;34m\u001b[0m\u001b[0m\n\u001b[1;32m    620\u001b[0m         return _minimize_tnc(fun, x0, args, jac, bounds, callback=callback,\n",
      "\u001b[0;32m~/.local/lib/python3.6/site-packages/scipy/optimize/lbfgsb.py\u001b[0m in \u001b[0;36m_minimize_lbfgsb\u001b[0;34m(fun, x0, args, jac, bounds, disp, maxcor, ftol, gtol, eps, maxfun, maxiter, iprint, callback, maxls, finite_diff_rel_step, **unknown_options)\u001b[0m\n\u001b[1;32m    358\u001b[0m             \u001b[0;31m# until the completion of the current minimization iteration.\u001b[0m\u001b[0;34m\u001b[0m\u001b[0;34m\u001b[0m\u001b[0;34m\u001b[0m\u001b[0m\n\u001b[1;32m    359\u001b[0m             \u001b[0;31m# Overwrite f and g:\u001b[0m\u001b[0;34m\u001b[0m\u001b[0;34m\u001b[0m\u001b[0;34m\u001b[0m\u001b[0m\n\u001b[0;32m--> 360\u001b[0;31m             \u001b[0mf\u001b[0m\u001b[0;34m,\u001b[0m \u001b[0mg\u001b[0m \u001b[0;34m=\u001b[0m \u001b[0mfunc_and_grad\u001b[0m\u001b[0;34m(\u001b[0m\u001b[0mx\u001b[0m\u001b[0;34m)\u001b[0m\u001b[0;34m\u001b[0m\u001b[0;34m\u001b[0m\u001b[0m\n\u001b[0m\u001b[1;32m    361\u001b[0m         \u001b[0;32melif\u001b[0m \u001b[0mtask_str\u001b[0m\u001b[0;34m.\u001b[0m\u001b[0mstartswith\u001b[0m\u001b[0;34m(\u001b[0m\u001b[0;34mb'NEW_X'\u001b[0m\u001b[0;34m)\u001b[0m\u001b[0;34m:\u001b[0m\u001b[0;34m\u001b[0m\u001b[0;34m\u001b[0m\u001b[0m\n\u001b[1;32m    362\u001b[0m             \u001b[0;31m# new iteration\u001b[0m\u001b[0;34m\u001b[0m\u001b[0;34m\u001b[0m\u001b[0;34m\u001b[0m\u001b[0m\n",
      "\u001b[0;32m~/.local/lib/python3.6/site-packages/scipy/optimize/_differentiable_functions.py\u001b[0m in \u001b[0;36mfun_and_grad\u001b[0;34m(self, x)\u001b[0m\n\u001b[1;32m    198\u001b[0m         \u001b[0;32mif\u001b[0m \u001b[0;32mnot\u001b[0m \u001b[0mnp\u001b[0m\u001b[0;34m.\u001b[0m\u001b[0marray_equal\u001b[0m\u001b[0;34m(\u001b[0m\u001b[0mx\u001b[0m\u001b[0;34m,\u001b[0m \u001b[0mself\u001b[0m\u001b[0;34m.\u001b[0m\u001b[0mx\u001b[0m\u001b[0;34m)\u001b[0m\u001b[0;34m:\u001b[0m\u001b[0;34m\u001b[0m\u001b[0;34m\u001b[0m\u001b[0m\n\u001b[1;32m    199\u001b[0m             \u001b[0mself\u001b[0m\u001b[0;34m.\u001b[0m\u001b[0m_update_x_impl\u001b[0m\u001b[0;34m(\u001b[0m\u001b[0mx\u001b[0m\u001b[0;34m)\u001b[0m\u001b[0;34m\u001b[0m\u001b[0;34m\u001b[0m\u001b[0m\n\u001b[0;32m--> 200\u001b[0;31m         \u001b[0mself\u001b[0m\u001b[0;34m.\u001b[0m\u001b[0m_update_fun\u001b[0m\u001b[0;34m(\u001b[0m\u001b[0;34m)\u001b[0m\u001b[0;34m\u001b[0m\u001b[0;34m\u001b[0m\u001b[0m\n\u001b[0m\u001b[1;32m    201\u001b[0m         \u001b[0mself\u001b[0m\u001b[0;34m.\u001b[0m\u001b[0m_update_grad\u001b[0m\u001b[0;34m(\u001b[0m\u001b[0;34m)\u001b[0m\u001b[0;34m\u001b[0m\u001b[0;34m\u001b[0m\u001b[0m\n\u001b[1;32m    202\u001b[0m         \u001b[0;32mreturn\u001b[0m \u001b[0mself\u001b[0m\u001b[0;34m.\u001b[0m\u001b[0mf\u001b[0m\u001b[0;34m,\u001b[0m \u001b[0mself\u001b[0m\u001b[0;34m.\u001b[0m\u001b[0mg\u001b[0m\u001b[0;34m\u001b[0m\u001b[0;34m\u001b[0m\u001b[0m\n",
      "\u001b[0;32m~/.local/lib/python3.6/site-packages/scipy/optimize/_differentiable_functions.py\u001b[0m in \u001b[0;36m_update_fun\u001b[0;34m(self)\u001b[0m\n\u001b[1;32m    164\u001b[0m     \u001b[0;32mdef\u001b[0m \u001b[0m_update_fun\u001b[0m\u001b[0;34m(\u001b[0m\u001b[0mself\u001b[0m\u001b[0;34m)\u001b[0m\u001b[0;34m:\u001b[0m\u001b[0;34m\u001b[0m\u001b[0;34m\u001b[0m\u001b[0m\n\u001b[1;32m    165\u001b[0m         \u001b[0;32mif\u001b[0m \u001b[0;32mnot\u001b[0m \u001b[0mself\u001b[0m\u001b[0;34m.\u001b[0m\u001b[0mf_updated\u001b[0m\u001b[0;34m:\u001b[0m\u001b[0;34m\u001b[0m\u001b[0;34m\u001b[0m\u001b[0m\n\u001b[0;32m--> 166\u001b[0;31m             \u001b[0mself\u001b[0m\u001b[0;34m.\u001b[0m\u001b[0m_update_fun_impl\u001b[0m\u001b[0;34m(\u001b[0m\u001b[0;34m)\u001b[0m\u001b[0;34m\u001b[0m\u001b[0;34m\u001b[0m\u001b[0m\n\u001b[0m\u001b[1;32m    167\u001b[0m             \u001b[0mself\u001b[0m\u001b[0;34m.\u001b[0m\u001b[0mf_updated\u001b[0m \u001b[0;34m=\u001b[0m \u001b[0;32mTrue\u001b[0m\u001b[0;34m\u001b[0m\u001b[0;34m\u001b[0m\u001b[0m\n\u001b[1;32m    168\u001b[0m \u001b[0;34m\u001b[0m\u001b[0m\n",
      "\u001b[0;32m~/.local/lib/python3.6/site-packages/scipy/optimize/_differentiable_functions.py\u001b[0m in \u001b[0;36mupdate_fun\u001b[0;34m()\u001b[0m\n\u001b[1;32m     71\u001b[0m \u001b[0;34m\u001b[0m\u001b[0m\n\u001b[1;32m     72\u001b[0m         \u001b[0;32mdef\u001b[0m \u001b[0mupdate_fun\u001b[0m\u001b[0;34m(\u001b[0m\u001b[0;34m)\u001b[0m\u001b[0;34m:\u001b[0m\u001b[0;34m\u001b[0m\u001b[0;34m\u001b[0m\u001b[0m\n\u001b[0;32m---> 73\u001b[0;31m             \u001b[0mself\u001b[0m\u001b[0;34m.\u001b[0m\u001b[0mf\u001b[0m \u001b[0;34m=\u001b[0m \u001b[0mfun_wrapped\u001b[0m\u001b[0;34m(\u001b[0m\u001b[0mself\u001b[0m\u001b[0;34m.\u001b[0m\u001b[0mx\u001b[0m\u001b[0;34m)\u001b[0m\u001b[0;34m\u001b[0m\u001b[0;34m\u001b[0m\u001b[0m\n\u001b[0m\u001b[1;32m     74\u001b[0m \u001b[0;34m\u001b[0m\u001b[0m\n\u001b[1;32m     75\u001b[0m         \u001b[0mself\u001b[0m\u001b[0;34m.\u001b[0m\u001b[0m_update_fun_impl\u001b[0m \u001b[0;34m=\u001b[0m \u001b[0mupdate_fun\u001b[0m\u001b[0;34m\u001b[0m\u001b[0;34m\u001b[0m\u001b[0m\n",
      "\u001b[0;32m~/.local/lib/python3.6/site-packages/scipy/optimize/_differentiable_functions.py\u001b[0m in \u001b[0;36mfun_wrapped\u001b[0;34m(x)\u001b[0m\n\u001b[1;32m     68\u001b[0m         \u001b[0;32mdef\u001b[0m \u001b[0mfun_wrapped\u001b[0m\u001b[0;34m(\u001b[0m\u001b[0mx\u001b[0m\u001b[0;34m)\u001b[0m\u001b[0;34m:\u001b[0m\u001b[0;34m\u001b[0m\u001b[0;34m\u001b[0m\u001b[0m\n\u001b[1;32m     69\u001b[0m             \u001b[0mself\u001b[0m\u001b[0;34m.\u001b[0m\u001b[0mnfev\u001b[0m \u001b[0;34m+=\u001b[0m \u001b[0;36m1\u001b[0m\u001b[0;34m\u001b[0m\u001b[0;34m\u001b[0m\u001b[0m\n\u001b[0;32m---> 70\u001b[0;31m             \u001b[0;32mreturn\u001b[0m \u001b[0mfun\u001b[0m\u001b[0;34m(\u001b[0m\u001b[0mx\u001b[0m\u001b[0;34m,\u001b[0m \u001b[0;34m*\u001b[0m\u001b[0margs\u001b[0m\u001b[0;34m)\u001b[0m\u001b[0;34m\u001b[0m\u001b[0;34m\u001b[0m\u001b[0m\n\u001b[0m\u001b[1;32m     71\u001b[0m \u001b[0;34m\u001b[0m\u001b[0m\n\u001b[1;32m     72\u001b[0m         \u001b[0;32mdef\u001b[0m \u001b[0mupdate_fun\u001b[0m\u001b[0;34m(\u001b[0m\u001b[0;34m)\u001b[0m\u001b[0;34m:\u001b[0m\u001b[0;34m\u001b[0m\u001b[0;34m\u001b[0m\u001b[0m\n",
      "\u001b[0;32m~/.local/lib/python3.6/site-packages/scipy/optimize/optimize.py\u001b[0m in \u001b[0;36m__call__\u001b[0;34m(self, x, *args)\u001b[0m\n\u001b[1;32m     72\u001b[0m     \u001b[0;32mdef\u001b[0m \u001b[0m__call__\u001b[0m\u001b[0;34m(\u001b[0m\u001b[0mself\u001b[0m\u001b[0;34m,\u001b[0m \u001b[0mx\u001b[0m\u001b[0;34m,\u001b[0m \u001b[0;34m*\u001b[0m\u001b[0margs\u001b[0m\u001b[0;34m)\u001b[0m\u001b[0;34m:\u001b[0m\u001b[0;34m\u001b[0m\u001b[0;34m\u001b[0m\u001b[0m\n\u001b[1;32m     73\u001b[0m         \u001b[0;34m\"\"\" returns the the function value \"\"\"\u001b[0m\u001b[0;34m\u001b[0m\u001b[0;34m\u001b[0m\u001b[0m\n\u001b[0;32m---> 74\u001b[0;31m         \u001b[0mself\u001b[0m\u001b[0;34m.\u001b[0m\u001b[0m_compute_if_needed\u001b[0m\u001b[0;34m(\u001b[0m\u001b[0mx\u001b[0m\u001b[0;34m,\u001b[0m \u001b[0;34m*\u001b[0m\u001b[0margs\u001b[0m\u001b[0;34m)\u001b[0m\u001b[0;34m\u001b[0m\u001b[0;34m\u001b[0m\u001b[0m\n\u001b[0m\u001b[1;32m     75\u001b[0m         \u001b[0;32mreturn\u001b[0m \u001b[0mself\u001b[0m\u001b[0;34m.\u001b[0m\u001b[0m_value\u001b[0m\u001b[0;34m\u001b[0m\u001b[0;34m\u001b[0m\u001b[0m\n\u001b[1;32m     76\u001b[0m \u001b[0;34m\u001b[0m\u001b[0m\n",
      "\u001b[0;32m~/.local/lib/python3.6/site-packages/scipy/optimize/optimize.py\u001b[0m in \u001b[0;36m_compute_if_needed\u001b[0;34m(self, x, *args)\u001b[0m\n\u001b[1;32m     66\u001b[0m         \u001b[0;32mif\u001b[0m \u001b[0;32mnot\u001b[0m \u001b[0mnp\u001b[0m\u001b[0;34m.\u001b[0m\u001b[0mall\u001b[0m\u001b[0;34m(\u001b[0m\u001b[0mx\u001b[0m \u001b[0;34m==\u001b[0m \u001b[0mself\u001b[0m\u001b[0;34m.\u001b[0m\u001b[0mx\u001b[0m\u001b[0;34m)\u001b[0m \u001b[0;32mor\u001b[0m \u001b[0mself\u001b[0m\u001b[0;34m.\u001b[0m\u001b[0m_value\u001b[0m \u001b[0;32mis\u001b[0m \u001b[0;32mNone\u001b[0m \u001b[0;32mor\u001b[0m \u001b[0mself\u001b[0m\u001b[0;34m.\u001b[0m\u001b[0mjac\u001b[0m \u001b[0;32mis\u001b[0m \u001b[0;32mNone\u001b[0m\u001b[0;34m:\u001b[0m\u001b[0;34m\u001b[0m\u001b[0;34m\u001b[0m\u001b[0m\n\u001b[1;32m     67\u001b[0m             \u001b[0mself\u001b[0m\u001b[0;34m.\u001b[0m\u001b[0mx\u001b[0m \u001b[0;34m=\u001b[0m \u001b[0mnp\u001b[0m\u001b[0;34m.\u001b[0m\u001b[0masarray\u001b[0m\u001b[0;34m(\u001b[0m\u001b[0mx\u001b[0m\u001b[0;34m)\u001b[0m\u001b[0;34m.\u001b[0m\u001b[0mcopy\u001b[0m\u001b[0;34m(\u001b[0m\u001b[0;34m)\u001b[0m\u001b[0;34m\u001b[0m\u001b[0;34m\u001b[0m\u001b[0m\n\u001b[0;32m---> 68\u001b[0;31m             \u001b[0mfg\u001b[0m \u001b[0;34m=\u001b[0m \u001b[0mself\u001b[0m\u001b[0;34m.\u001b[0m\u001b[0mfun\u001b[0m\u001b[0;34m(\u001b[0m\u001b[0mx\u001b[0m\u001b[0;34m,\u001b[0m \u001b[0;34m*\u001b[0m\u001b[0margs\u001b[0m\u001b[0;34m)\u001b[0m\u001b[0;34m\u001b[0m\u001b[0;34m\u001b[0m\u001b[0m\n\u001b[0m\u001b[1;32m     69\u001b[0m             \u001b[0mself\u001b[0m\u001b[0;34m.\u001b[0m\u001b[0mjac\u001b[0m \u001b[0;34m=\u001b[0m \u001b[0mfg\u001b[0m\u001b[0;34m[\u001b[0m\u001b[0;36m1\u001b[0m\u001b[0;34m]\u001b[0m\u001b[0;34m\u001b[0m\u001b[0;34m\u001b[0m\u001b[0m\n\u001b[1;32m     70\u001b[0m             \u001b[0mself\u001b[0m\u001b[0;34m.\u001b[0m\u001b[0m_value\u001b[0m \u001b[0;34m=\u001b[0m \u001b[0mfg\u001b[0m\u001b[0;34m[\u001b[0m\u001b[0;36m0\u001b[0m\u001b[0;34m]\u001b[0m\u001b[0;34m\u001b[0m\u001b[0;34m\u001b[0m\u001b[0m\n",
      "\u001b[0;32m~/.local/lib/python3.6/site-packages/sklearn/linear_model/_logistic.py\u001b[0m in \u001b[0;36mfunc\u001b[0;34m(x, *args)\u001b[0m\n\u001b[1;32m    731\u001b[0m         \u001b[0mtarget\u001b[0m \u001b[0;34m=\u001b[0m \u001b[0mY_multi\u001b[0m\u001b[0;34m\u001b[0m\u001b[0;34m\u001b[0m\u001b[0m\n\u001b[1;32m    732\u001b[0m         \u001b[0;32mif\u001b[0m \u001b[0msolver\u001b[0m \u001b[0;34m==\u001b[0m \u001b[0;34m'lbfgs'\u001b[0m\u001b[0;34m:\u001b[0m\u001b[0;34m\u001b[0m\u001b[0;34m\u001b[0m\u001b[0m\n\u001b[0;32m--> 733\u001b[0;31m             \u001b[0;32mdef\u001b[0m \u001b[0mfunc\u001b[0m\u001b[0;34m(\u001b[0m\u001b[0mx\u001b[0m\u001b[0;34m,\u001b[0m \u001b[0;34m*\u001b[0m\u001b[0margs\u001b[0m\u001b[0;34m)\u001b[0m\u001b[0;34m:\u001b[0m \u001b[0;32mreturn\u001b[0m \u001b[0m_multinomial_loss_grad\u001b[0m\u001b[0;34m(\u001b[0m\u001b[0mx\u001b[0m\u001b[0;34m,\u001b[0m \u001b[0;34m*\u001b[0m\u001b[0margs\u001b[0m\u001b[0;34m)\u001b[0m\u001b[0;34m[\u001b[0m\u001b[0;36m0\u001b[0m\u001b[0;34m:\u001b[0m\u001b[0;36m2\u001b[0m\u001b[0;34m]\u001b[0m\u001b[0;34m\u001b[0m\u001b[0;34m\u001b[0m\u001b[0m\n\u001b[0m\u001b[1;32m    734\u001b[0m         \u001b[0;32melif\u001b[0m \u001b[0msolver\u001b[0m \u001b[0;34m==\u001b[0m \u001b[0;34m'newton-cg'\u001b[0m\u001b[0;34m:\u001b[0m\u001b[0;34m\u001b[0m\u001b[0;34m\u001b[0m\u001b[0m\n\u001b[1;32m    735\u001b[0m             \u001b[0;32mdef\u001b[0m \u001b[0mfunc\u001b[0m\u001b[0;34m(\u001b[0m\u001b[0mx\u001b[0m\u001b[0;34m,\u001b[0m \u001b[0;34m*\u001b[0m\u001b[0margs\u001b[0m\u001b[0;34m)\u001b[0m\u001b[0;34m:\u001b[0m \u001b[0;32mreturn\u001b[0m \u001b[0m_multinomial_loss\u001b[0m\u001b[0;34m(\u001b[0m\u001b[0mx\u001b[0m\u001b[0;34m,\u001b[0m \u001b[0;34m*\u001b[0m\u001b[0margs\u001b[0m\u001b[0;34m)\u001b[0m\u001b[0;34m[\u001b[0m\u001b[0;36m0\u001b[0m\u001b[0;34m]\u001b[0m\u001b[0;34m\u001b[0m\u001b[0;34m\u001b[0m\u001b[0m\n",
      "\u001b[0;32m~/.local/lib/python3.6/site-packages/sklearn/linear_model/_logistic.py\u001b[0m in \u001b[0;36m_multinomial_loss_grad\u001b[0;34m(w, X, Y, alpha, sample_weight)\u001b[0m\n\u001b[1;32m    345\u001b[0m     grad = np.zeros((n_classes, n_features + bool(fit_intercept)),\n\u001b[1;32m    346\u001b[0m                     dtype=X.dtype)\n\u001b[0;32m--> 347\u001b[0;31m     \u001b[0mloss\u001b[0m\u001b[0;34m,\u001b[0m \u001b[0mp\u001b[0m\u001b[0;34m,\u001b[0m \u001b[0mw\u001b[0m \u001b[0;34m=\u001b[0m \u001b[0m_multinomial_loss\u001b[0m\u001b[0;34m(\u001b[0m\u001b[0mw\u001b[0m\u001b[0;34m,\u001b[0m \u001b[0mX\u001b[0m\u001b[0;34m,\u001b[0m \u001b[0mY\u001b[0m\u001b[0;34m,\u001b[0m \u001b[0malpha\u001b[0m\u001b[0;34m,\u001b[0m \u001b[0msample_weight\u001b[0m\u001b[0;34m)\u001b[0m\u001b[0;34m\u001b[0m\u001b[0;34m\u001b[0m\u001b[0m\n\u001b[0m\u001b[1;32m    348\u001b[0m     \u001b[0msample_weight\u001b[0m \u001b[0;34m=\u001b[0m \u001b[0msample_weight\u001b[0m\u001b[0;34m[\u001b[0m\u001b[0;34m:\u001b[0m\u001b[0;34m,\u001b[0m \u001b[0mnp\u001b[0m\u001b[0;34m.\u001b[0m\u001b[0mnewaxis\u001b[0m\u001b[0;34m]\u001b[0m\u001b[0;34m\u001b[0m\u001b[0;34m\u001b[0m\u001b[0m\n\u001b[1;32m    349\u001b[0m     \u001b[0mdiff\u001b[0m \u001b[0;34m=\u001b[0m \u001b[0msample_weight\u001b[0m \u001b[0;34m*\u001b[0m \u001b[0;34m(\u001b[0m\u001b[0mp\u001b[0m \u001b[0;34m-\u001b[0m \u001b[0mY\u001b[0m\u001b[0;34m)\u001b[0m\u001b[0;34m\u001b[0m\u001b[0;34m\u001b[0m\u001b[0m\n",
      "\u001b[0;32m~/.local/lib/python3.6/site-packages/sklearn/linear_model/_logistic.py\u001b[0m in \u001b[0;36m_multinomial_loss\u001b[0;34m(w, X, Y, alpha, sample_weight)\u001b[0m\n\u001b[1;32m    295\u001b[0m     \u001b[0mp\u001b[0m \u001b[0;34m=\u001b[0m \u001b[0msafe_sparse_dot\u001b[0m\u001b[0;34m(\u001b[0m\u001b[0mX\u001b[0m\u001b[0;34m,\u001b[0m \u001b[0mw\u001b[0m\u001b[0;34m.\u001b[0m\u001b[0mT\u001b[0m\u001b[0;34m)\u001b[0m\u001b[0;34m\u001b[0m\u001b[0;34m\u001b[0m\u001b[0m\n\u001b[1;32m    296\u001b[0m     \u001b[0mp\u001b[0m \u001b[0;34m+=\u001b[0m \u001b[0mintercept\u001b[0m\u001b[0;34m\u001b[0m\u001b[0;34m\u001b[0m\u001b[0m\n\u001b[0;32m--> 297\u001b[0;31m     \u001b[0mp\u001b[0m \u001b[0;34m-=\u001b[0m \u001b[0mlogsumexp\u001b[0m\u001b[0;34m(\u001b[0m\u001b[0mp\u001b[0m\u001b[0;34m,\u001b[0m \u001b[0maxis\u001b[0m\u001b[0;34m=\u001b[0m\u001b[0;36m1\u001b[0m\u001b[0;34m)\u001b[0m\u001b[0;34m[\u001b[0m\u001b[0;34m:\u001b[0m\u001b[0;34m,\u001b[0m \u001b[0mnp\u001b[0m\u001b[0;34m.\u001b[0m\u001b[0mnewaxis\u001b[0m\u001b[0;34m]\u001b[0m\u001b[0;34m\u001b[0m\u001b[0;34m\u001b[0m\u001b[0m\n\u001b[0m\u001b[1;32m    298\u001b[0m     \u001b[0mloss\u001b[0m \u001b[0;34m=\u001b[0m \u001b[0;34m-\u001b[0m\u001b[0;34m(\u001b[0m\u001b[0msample_weight\u001b[0m \u001b[0;34m*\u001b[0m \u001b[0mY\u001b[0m \u001b[0;34m*\u001b[0m \u001b[0mp\u001b[0m\u001b[0;34m)\u001b[0m\u001b[0;34m.\u001b[0m\u001b[0msum\u001b[0m\u001b[0;34m(\u001b[0m\u001b[0;34m)\u001b[0m\u001b[0;34m\u001b[0m\u001b[0;34m\u001b[0m\u001b[0m\n\u001b[1;32m    299\u001b[0m     \u001b[0mloss\u001b[0m \u001b[0;34m+=\u001b[0m \u001b[0;36m0.5\u001b[0m \u001b[0;34m*\u001b[0m \u001b[0malpha\u001b[0m \u001b[0;34m*\u001b[0m \u001b[0msquared_norm\u001b[0m\u001b[0;34m(\u001b[0m\u001b[0mw\u001b[0m\u001b[0;34m)\u001b[0m\u001b[0;34m\u001b[0m\u001b[0;34m\u001b[0m\u001b[0m\n",
      "\u001b[0;32m~/.local/lib/python3.6/site-packages/scipy/special/_logsumexp.py\u001b[0m in \u001b[0;36mlogsumexp\u001b[0;34m(a, axis, b, keepdims, return_sign)\u001b[0m\n\u001b[1;32m    108\u001b[0m         \u001b[0mtmp\u001b[0m \u001b[0;34m=\u001b[0m \u001b[0mb\u001b[0m \u001b[0;34m*\u001b[0m \u001b[0mnp\u001b[0m\u001b[0;34m.\u001b[0m\u001b[0mexp\u001b[0m\u001b[0;34m(\u001b[0m\u001b[0ma\u001b[0m \u001b[0;34m-\u001b[0m \u001b[0ma_max\u001b[0m\u001b[0;34m)\u001b[0m\u001b[0;34m\u001b[0m\u001b[0;34m\u001b[0m\u001b[0m\n\u001b[1;32m    109\u001b[0m     \u001b[0;32melse\u001b[0m\u001b[0;34m:\u001b[0m\u001b[0;34m\u001b[0m\u001b[0;34m\u001b[0m\u001b[0m\n\u001b[0;32m--> 110\u001b[0;31m         \u001b[0mtmp\u001b[0m \u001b[0;34m=\u001b[0m \u001b[0mnp\u001b[0m\u001b[0;34m.\u001b[0m\u001b[0mexp\u001b[0m\u001b[0;34m(\u001b[0m\u001b[0ma\u001b[0m \u001b[0;34m-\u001b[0m \u001b[0ma_max\u001b[0m\u001b[0;34m)\u001b[0m\u001b[0;34m\u001b[0m\u001b[0;34m\u001b[0m\u001b[0m\n\u001b[0m\u001b[1;32m    111\u001b[0m \u001b[0;34m\u001b[0m\u001b[0m\n\u001b[1;32m    112\u001b[0m     \u001b[0;31m# suppress warnings about log of zero\u001b[0m\u001b[0;34m\u001b[0m\u001b[0;34m\u001b[0m\u001b[0;34m\u001b[0m\u001b[0m\n",
      "\u001b[0;31mKeyboardInterrupt\u001b[0m: "
     ]
    }
   ],
   "source": [
    "from sklearn.linear_model import LogisticRegression\n",
    "from sklearn.model_selection import cross_val_predict\n",
    "from sklearn import metrics\n",
    "\n",
    "model = LogisticRegression(max_iter = 1000000,)\n",
    "model.fit(accidata3_X,accidata3_y)\n",
    "predict = cross_val_predict(model, accidata3_X, accidata3_y, cv=5)\n",
    "print(metrics.accuracy_score(accidata3_y, predict))"
   ]
  },
  {
   "cell_type": "markdown",
   "metadata": {},
   "source": [
    "Solution for 3.6 is in kaggle link --https://www.kaggle.com/gopalsvs/notebook7d6f7eb198?scriptVersionId=44504183"
   ]
  },
  {
   "cell_type": "markdown",
   "metadata": {},
   "source": [
    "-->Accuracy of the model for accidata3 is 84.44%."
   ]
  }
 ],
 "metadata": {
  "kernelspec": {
   "display_name": "Python 3",
   "language": "python",
   "name": "python3"
  },
  "language_info": {
   "codemirror_mode": {
    "name": "ipython",
    "version": 3
   },
   "file_extension": ".py",
   "mimetype": "text/x-python",
   "name": "python",
   "nbconvert_exporter": "python",
   "pygments_lexer": "ipython3",
   "version": "3.6.9"
  }
 },
 "nbformat": 4,
 "nbformat_minor": 4
}
